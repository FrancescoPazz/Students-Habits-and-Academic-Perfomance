{
 "cells": [
  {
   "cell_type": "markdown",
   "id": "4c43bc42",
   "metadata": {},
   "source": [
    "# Progetto di  Applicazioni Data Intensive"
   ]
  },
  {
   "cell_type": "markdown",
   "id": "9b4cfd20",
   "metadata": {},
   "source": [
    "Progetto svolto nell'anno accademico 2024-2025 da:\n",
    "- Filippo Massari 00010714020\n",
    "- Francesco Pazzaglia 0001077423"
   ]
  },
  {
   "cell_type": "markdown",
   "id": "4fd01101",
   "metadata": {},
   "source": [
    "## Introduzione\n",
    "I dati presi in esame riguardano lo stile di vita di circa 80.000 studenti includendo dati come: l'ambiente di studio, la salute mentale, background familiare, motivazione e fattori ambientali.\n",
    "\n",
    "Il dataset è stato preso su [Kaggle](https://www.kaggle.com/datasets/aryan208/student-habits-and-academic-performance-dataset).\n",
    "\n",
    "Ci poniamo come obiettivo quello di sfruttare i dati precedentemente descritti per ricavarne una predizione delle performance studentesche del soggetto preso in analisi. "
   ]
  },
  {
   "cell_type": "markdown",
   "id": "88e4d860",
   "metadata": {},
   "source": [
    "## Implementazione"
   ]
  },
  {
   "cell_type": "markdown",
   "id": "7baae5a7",
   "metadata": {},
   "source": [
    "### Caricamento delle librerie"
   ]
  },
  {
   "cell_type": "markdown",
   "id": "0118dd35",
   "metadata": {},
   "source": [
    "Per prima cosa importiamo le librerie che ci serviranno per poter manipolare ed effettuare operazioni sui dati ottenuti all'interno del dataset. Tra cui:\n",
    "\n",
    "- *NumPy* per l'elaborazione numerica in Python di array e matrici;\n",
    "\n",
    "- *pandas* per l'importazione ed esportazione dei dati;\n",
    "\n",
    "- *matplotlib* per la rappresentazione grafica dei risultati ottenuti;\n",
    "    - importiamo il modulo di matplotlib inline per far in modo che gli output vengano renderizzati direttamente nel file Jupyter piuttosto che all'esterno"
   ]
  },
  {
   "cell_type": "code",
   "execution_count": 187,
   "id": "189a5bd7",
   "metadata": {},
   "outputs": [],
   "source": [
    "import numpy as np\n",
    "import pandas as pd\n",
    "import matplotlib.pyplot as plt\n",
    "\n",
    "%matplotlib inline"
   ]
  },
  {
   "cell_type": "markdown",
   "id": "524a4a1d",
   "metadata": {},
   "source": [
    "### Caricamento dei dati"
   ]
  },
  {
   "cell_type": "markdown",
   "id": "88a20f01",
   "metadata": {},
   "source": [
    "Carichiamo il dataset delle abitudini degli studenti, che contiene informazioni dettagliate sulle loro routine quotidiane, le attività accademiche, lo stile di vita e altri fattori che possono influenzare le loro performance scolastiche."
   ]
  },
  {
   "cell_type": "code",
   "execution_count": 188,
   "id": "747d0d69",
   "metadata": {},
   "outputs": [],
   "source": [
    "import os.path\n",
    "file = \"./data/enhanced_student_habits_performance_dataset.csv\"\n",
    "if not os.path.exists(file):\n",
    "    print(\"Missing datasets, retrievit from kaggle: https://www.kaggle.com/datasets/aryan208/student-habits-and-academic-performance-dataset\")\n",
    "    \n",
    "students = pd.read_csv(file, index_col=0)"
   ]
  },
  {
   "cell_type": "code",
   "execution_count": 189,
   "id": "b9462c29",
   "metadata": {},
   "outputs": [
    {
     "name": "stdout",
     "output_type": "stream",
     "text": [
      "['age', 'gender', 'major', 'study_hours_per_day', 'social_media_hours', 'netflix_hours', 'part_time_job', 'attendance_percentage', 'sleep_hours', 'diet_quality', 'exercise_frequency', 'parental_education_level', 'internet_quality', 'mental_health_rating', 'extracurricular_participation', 'previous_gpa', 'semester', 'stress_level', 'dropout_risk', 'social_activity', 'screen_time', 'study_environment', 'access_to_tutoring', 'family_income_range', 'parental_support_level', 'motivation_level', 'exam_anxiety_score', 'learning_style', 'time_management_score', 'exam_score']\n"
     ]
    }
   ],
   "source": [
    "print(students.columns.tolist())"
   ]
  },
  {
   "cell_type": "markdown",
   "id": "3b2eb206",
   "metadata": {},
   "source": [
    "### Significato delle colonne del Dataset"
   ]
  },
  {
   "attachments": {},
   "cell_type": "markdown",
   "id": "63dde003",
   "metadata": {},
   "source": [
    "Certo, ecco la tabella numerata mantenendo il formato:\n",
    "\n",
    "| #  | Variabile                          | Descrizione                                                                 |\n",
    "|----|------------------------------------|-----------------------------------------------------------------------------|\n",
    "| 0  | **student_id**                     | Codice unico ed identificativo dello studente                               |\n",
    "| 1  | **age**                            | Età dello studente (16–28 anni)                                             |\n",
    "| 2  | **gender**                         | Genere: Maschile, Femminile o Altro                                         |\n",
    "| 3  | **major**                          | Corso di laurea o area di studio (es. Informatica, Ingegneria, Arti)        |\n",
    "| 4  | **study_hours_per_day**            | Ore medie di studio giornaliere                                             |\n",
    "| 5  | **social_media_hours**             | Ore trascorse sui social media                                              |\n",
    "| 6  | **netflix_hours**                  | Ore trascorse a guardare Netflix                                            |\n",
    "| 7  | **part_time_job**                  | Se lo studente ha un lavoro part-time (Sì/No)                               |\n",
    "| 8  | **attendance_percentage**          | Percentuale di frequenza alle lezioni                                       |\n",
    "| 9  | **sleep_hours**                    | Ore di sonno giornaliere                                                    |\n",
    "| 10 | **diet_quality**                   | Qualità della dieta                                                         |\n",
    "| 11 | **exercise_frequency**             | Frequenza dell’attività fisica                                              |\n",
    "| 12 | **parental_education_level**       | Livello di istruzione dei genitori                                          |\n",
    "| 13 | **internet_quality**               | Qualità della rete Internet                                                 |\n",
    "| 14 | **mental_health_rating**           | Valutazione dello stato di salute mentale (1–10)                            |\n",
    "| 15 | **extracurricular_participation**  | Partecipazione ad attività extracurriculari                                 |\n",
    "| 16 | **previous_gpa**                   | Media dei voti precedenti                                                   |\n",
    "| 17 | **semester**                       | Semestre dello studente                                                     |\n",
    "| 18 | **stress_level**                   | Livello di stress (1–10)                                                    |\n",
    "| 19 | **dropout_risk**                   | Rischio di abbandono degli studi (Sì/No) — derivato da stress e motivazione |\n",
    "| 20 | **social_activity**                | Numero di eventi sociali settimanali                                        |\n",
    "| 21 | **screen_time**                    | Tempo complessivo trascorso davanti agli schermi                            |\n",
    "| 22 | **study_environment**              | Ambiente abituale di studio                                                 |\n",
    "| 23 | **access_to_tutoring**             | Accesso a servizi di tutoraggio (Sì/No)                                     |\n",
    "| 24 | **family_income_range**            | Fascia di reddito familiare                                                 |\n",
    "| 25 | **parental_support_level**         | Livello di supporto da parte dei genitori                                   |\n",
    "| 26 | **motivation_level**               | Livello di motivazione (1–10)                                               |\n",
    "| 27 | **exam_anxiety_score**             | Punteggio di ansia da esame (1–10)                                          |\n",
    "| 28 | **learning_style**                 | Stile di apprendimento preferito                                            |\n",
    "| 29 | **time_management_score**          | Punteggio di capacità di gestione del tempo (1–10)                          |\n",
    "| 30 | **exam_score**                     | **Valore da predire: punteggio all’esame**                                  |"
   ]
  },
  {
   "cell_type": "code",
   "execution_count": 190,
   "id": "24d7c8c4",
   "metadata": {},
   "outputs": [
    {
     "data": {
      "text/html": [
       "<div>\n",
       "<style scoped>\n",
       "    .dataframe tbody tr th:only-of-type {\n",
       "        vertical-align: middle;\n",
       "    }\n",
       "\n",
       "    .dataframe tbody tr th {\n",
       "        vertical-align: top;\n",
       "    }\n",
       "\n",
       "    .dataframe thead th {\n",
       "        text-align: right;\n",
       "    }\n",
       "</style>\n",
       "<table border=\"1\" class=\"dataframe\">\n",
       "  <thead>\n",
       "    <tr style=\"text-align: right;\">\n",
       "      <th></th>\n",
       "      <th>age</th>\n",
       "      <th>gender</th>\n",
       "      <th>major</th>\n",
       "      <th>study_hours_per_day</th>\n",
       "      <th>social_media_hours</th>\n",
       "      <th>netflix_hours</th>\n",
       "      <th>part_time_job</th>\n",
       "      <th>attendance_percentage</th>\n",
       "      <th>sleep_hours</th>\n",
       "      <th>diet_quality</th>\n",
       "      <th>...</th>\n",
       "      <th>screen_time</th>\n",
       "      <th>study_environment</th>\n",
       "      <th>access_to_tutoring</th>\n",
       "      <th>family_income_range</th>\n",
       "      <th>parental_support_level</th>\n",
       "      <th>motivation_level</th>\n",
       "      <th>exam_anxiety_score</th>\n",
       "      <th>learning_style</th>\n",
       "      <th>time_management_score</th>\n",
       "      <th>exam_score</th>\n",
       "    </tr>\n",
       "    <tr>\n",
       "      <th>student_id</th>\n",
       "      <th></th>\n",
       "      <th></th>\n",
       "      <th></th>\n",
       "      <th></th>\n",
       "      <th></th>\n",
       "      <th></th>\n",
       "      <th></th>\n",
       "      <th></th>\n",
       "      <th></th>\n",
       "      <th></th>\n",
       "      <th></th>\n",
       "      <th></th>\n",
       "      <th></th>\n",
       "      <th></th>\n",
       "      <th></th>\n",
       "      <th></th>\n",
       "      <th></th>\n",
       "      <th></th>\n",
       "      <th></th>\n",
       "      <th></th>\n",
       "      <th></th>\n",
       "    </tr>\n",
       "  </thead>\n",
       "  <tbody>\n",
       "    <tr>\n",
       "      <th>100000</th>\n",
       "      <td>26</td>\n",
       "      <td>Male</td>\n",
       "      <td>Computer Science</td>\n",
       "      <td>7.645367</td>\n",
       "      <td>3.0</td>\n",
       "      <td>0.1</td>\n",
       "      <td>Yes</td>\n",
       "      <td>70.3</td>\n",
       "      <td>6.2</td>\n",
       "      <td>Poor</td>\n",
       "      <td>...</td>\n",
       "      <td>10.9</td>\n",
       "      <td>Co-Learning Group</td>\n",
       "      <td>Yes</td>\n",
       "      <td>High</td>\n",
       "      <td>9</td>\n",
       "      <td>7</td>\n",
       "      <td>8</td>\n",
       "      <td>Reading</td>\n",
       "      <td>3.0</td>\n",
       "      <td>100</td>\n",
       "    </tr>\n",
       "    <tr>\n",
       "      <th>100001</th>\n",
       "      <td>28</td>\n",
       "      <td>Male</td>\n",
       "      <td>Arts</td>\n",
       "      <td>5.700000</td>\n",
       "      <td>0.5</td>\n",
       "      <td>0.4</td>\n",
       "      <td>No</td>\n",
       "      <td>88.4</td>\n",
       "      <td>7.2</td>\n",
       "      <td>Good</td>\n",
       "      <td>...</td>\n",
       "      <td>8.3</td>\n",
       "      <td>Co-Learning Group</td>\n",
       "      <td>Yes</td>\n",
       "      <td>Low</td>\n",
       "      <td>7</td>\n",
       "      <td>2</td>\n",
       "      <td>10</td>\n",
       "      <td>Reading</td>\n",
       "      <td>6.0</td>\n",
       "      <td>99</td>\n",
       "    </tr>\n",
       "    <tr>\n",
       "      <th>100002</th>\n",
       "      <td>17</td>\n",
       "      <td>Male</td>\n",
       "      <td>Arts</td>\n",
       "      <td>2.400000</td>\n",
       "      <td>4.2</td>\n",
       "      <td>0.7</td>\n",
       "      <td>No</td>\n",
       "      <td>82.1</td>\n",
       "      <td>9.2</td>\n",
       "      <td>Good</td>\n",
       "      <td>...</td>\n",
       "      <td>8.0</td>\n",
       "      <td>Library</td>\n",
       "      <td>Yes</td>\n",
       "      <td>High</td>\n",
       "      <td>3</td>\n",
       "      <td>9</td>\n",
       "      <td>6</td>\n",
       "      <td>Kinesthetic</td>\n",
       "      <td>7.6</td>\n",
       "      <td>98</td>\n",
       "    </tr>\n",
       "    <tr>\n",
       "      <th>100003</th>\n",
       "      <td>27</td>\n",
       "      <td>Other</td>\n",
       "      <td>Psychology</td>\n",
       "      <td>3.400000</td>\n",
       "      <td>4.6</td>\n",
       "      <td>2.3</td>\n",
       "      <td>Yes</td>\n",
       "      <td>79.3</td>\n",
       "      <td>4.2</td>\n",
       "      <td>Fair</td>\n",
       "      <td>...</td>\n",
       "      <td>11.7</td>\n",
       "      <td>Co-Learning Group</td>\n",
       "      <td>Yes</td>\n",
       "      <td>Low</td>\n",
       "      <td>5</td>\n",
       "      <td>3</td>\n",
       "      <td>10</td>\n",
       "      <td>Reading</td>\n",
       "      <td>3.2</td>\n",
       "      <td>100</td>\n",
       "    </tr>\n",
       "    <tr>\n",
       "      <th>100004</th>\n",
       "      <td>25</td>\n",
       "      <td>Female</td>\n",
       "      <td>Business</td>\n",
       "      <td>4.700000</td>\n",
       "      <td>0.8</td>\n",
       "      <td>2.7</td>\n",
       "      <td>Yes</td>\n",
       "      <td>62.9</td>\n",
       "      <td>6.5</td>\n",
       "      <td>Good</td>\n",
       "      <td>...</td>\n",
       "      <td>9.4</td>\n",
       "      <td>Quiet Room</td>\n",
       "      <td>Yes</td>\n",
       "      <td>Medium</td>\n",
       "      <td>9</td>\n",
       "      <td>1</td>\n",
       "      <td>10</td>\n",
       "      <td>Reading</td>\n",
       "      <td>7.1</td>\n",
       "      <td>98</td>\n",
       "    </tr>\n",
       "    <tr>\n",
       "      <th>...</th>\n",
       "      <td>...</td>\n",
       "      <td>...</td>\n",
       "      <td>...</td>\n",
       "      <td>...</td>\n",
       "      <td>...</td>\n",
       "      <td>...</td>\n",
       "      <td>...</td>\n",
       "      <td>...</td>\n",
       "      <td>...</td>\n",
       "      <td>...</td>\n",
       "      <td>...</td>\n",
       "      <td>...</td>\n",
       "      <td>...</td>\n",
       "      <td>...</td>\n",
       "      <td>...</td>\n",
       "      <td>...</td>\n",
       "      <td>...</td>\n",
       "      <td>...</td>\n",
       "      <td>...</td>\n",
       "      <td>...</td>\n",
       "      <td>...</td>\n",
       "    </tr>\n",
       "    <tr>\n",
       "      <th>179995</th>\n",
       "      <td>16</td>\n",
       "      <td>Male</td>\n",
       "      <td>Engineering</td>\n",
       "      <td>3.700000</td>\n",
       "      <td>2.1</td>\n",
       "      <td>1.0</td>\n",
       "      <td>Yes</td>\n",
       "      <td>80.8</td>\n",
       "      <td>6.1</td>\n",
       "      <td>Fair</td>\n",
       "      <td>...</td>\n",
       "      <td>8.3</td>\n",
       "      <td>Library</td>\n",
       "      <td>No</td>\n",
       "      <td>Low</td>\n",
       "      <td>1</td>\n",
       "      <td>4</td>\n",
       "      <td>10</td>\n",
       "      <td>Auditory</td>\n",
       "      <td>5.3</td>\n",
       "      <td>88</td>\n",
       "    </tr>\n",
       "    <tr>\n",
       "      <th>179996</th>\n",
       "      <td>16</td>\n",
       "      <td>Female</td>\n",
       "      <td>Business</td>\n",
       "      <td>1.200000</td>\n",
       "      <td>0.4</td>\n",
       "      <td>2.9</td>\n",
       "      <td>No</td>\n",
       "      <td>99.5</td>\n",
       "      <td>4.1</td>\n",
       "      <td>Good</td>\n",
       "      <td>...</td>\n",
       "      <td>4.7</td>\n",
       "      <td>Co-Learning Group</td>\n",
       "      <td>No</td>\n",
       "      <td>Low</td>\n",
       "      <td>3</td>\n",
       "      <td>2</td>\n",
       "      <td>10</td>\n",
       "      <td>Kinesthetic</td>\n",
       "      <td>6.8</td>\n",
       "      <td>52</td>\n",
       "    </tr>\n",
       "    <tr>\n",
       "      <th>179997</th>\n",
       "      <td>26</td>\n",
       "      <td>Female</td>\n",
       "      <td>Arts</td>\n",
       "      <td>4.100000</td>\n",
       "      <td>1.6</td>\n",
       "      <td>1.6</td>\n",
       "      <td>Yes</td>\n",
       "      <td>46.1</td>\n",
       "      <td>8.3</td>\n",
       "      <td>Good</td>\n",
       "      <td>...</td>\n",
       "      <td>7.5</td>\n",
       "      <td>Dorm</td>\n",
       "      <td>No</td>\n",
       "      <td>Medium</td>\n",
       "      <td>7</td>\n",
       "      <td>1</td>\n",
       "      <td>10</td>\n",
       "      <td>Visual</td>\n",
       "      <td>1.3</td>\n",
       "      <td>89</td>\n",
       "    </tr>\n",
       "    <tr>\n",
       "      <th>179998</th>\n",
       "      <td>23</td>\n",
       "      <td>Other</td>\n",
       "      <td>Biology</td>\n",
       "      <td>3.800000</td>\n",
       "      <td>0.6</td>\n",
       "      <td>3.5</td>\n",
       "      <td>Yes</td>\n",
       "      <td>58.7</td>\n",
       "      <td>5.8</td>\n",
       "      <td>Good</td>\n",
       "      <td>...</td>\n",
       "      <td>9.3</td>\n",
       "      <td>Quiet Room</td>\n",
       "      <td>Yes</td>\n",
       "      <td>Low</td>\n",
       "      <td>2</td>\n",
       "      <td>8</td>\n",
       "      <td>7</td>\n",
       "      <td>Kinesthetic</td>\n",
       "      <td>3.7</td>\n",
       "      <td>96</td>\n",
       "    </tr>\n",
       "    <tr>\n",
       "      <th>179999</th>\n",
       "      <td>25</td>\n",
       "      <td>Other</td>\n",
       "      <td>Engineering</td>\n",
       "      <td>3.000000</td>\n",
       "      <td>4.5</td>\n",
       "      <td>3.4</td>\n",
       "      <td>Yes</td>\n",
       "      <td>97.7</td>\n",
       "      <td>5.3</td>\n",
       "      <td>Fair</td>\n",
       "      <td>...</td>\n",
       "      <td>12.2</td>\n",
       "      <td>Co-Learning Group</td>\n",
       "      <td>Yes</td>\n",
       "      <td>Medium</td>\n",
       "      <td>1</td>\n",
       "      <td>8</td>\n",
       "      <td>7</td>\n",
       "      <td>Reading</td>\n",
       "      <td>6.7</td>\n",
       "      <td>100</td>\n",
       "    </tr>\n",
       "  </tbody>\n",
       "</table>\n",
       "<p>80000 rows × 30 columns</p>\n",
       "</div>"
      ],
      "text/plain": [
       "            age  gender             major  study_hours_per_day  \\\n",
       "student_id                                                       \n",
       "100000       26    Male  Computer Science             7.645367   \n",
       "100001       28    Male              Arts             5.700000   \n",
       "100002       17    Male              Arts             2.400000   \n",
       "100003       27   Other        Psychology             3.400000   \n",
       "100004       25  Female          Business             4.700000   \n",
       "...         ...     ...               ...                  ...   \n",
       "179995       16    Male       Engineering             3.700000   \n",
       "179996       16  Female          Business             1.200000   \n",
       "179997       26  Female              Arts             4.100000   \n",
       "179998       23   Other           Biology             3.800000   \n",
       "179999       25   Other       Engineering             3.000000   \n",
       "\n",
       "            social_media_hours  netflix_hours part_time_job  \\\n",
       "student_id                                                    \n",
       "100000                     3.0            0.1           Yes   \n",
       "100001                     0.5            0.4            No   \n",
       "100002                     4.2            0.7            No   \n",
       "100003                     4.6            2.3           Yes   \n",
       "100004                     0.8            2.7           Yes   \n",
       "...                        ...            ...           ...   \n",
       "179995                     2.1            1.0           Yes   \n",
       "179996                     0.4            2.9            No   \n",
       "179997                     1.6            1.6           Yes   \n",
       "179998                     0.6            3.5           Yes   \n",
       "179999                     4.5            3.4           Yes   \n",
       "\n",
       "            attendance_percentage  sleep_hours diet_quality  ...  screen_time  \\\n",
       "student_id                                                   ...                \n",
       "100000                       70.3          6.2         Poor  ...         10.9   \n",
       "100001                       88.4          7.2         Good  ...          8.3   \n",
       "100002                       82.1          9.2         Good  ...          8.0   \n",
       "100003                       79.3          4.2         Fair  ...         11.7   \n",
       "100004                       62.9          6.5         Good  ...          9.4   \n",
       "...                           ...          ...          ...  ...          ...   \n",
       "179995                       80.8          6.1         Fair  ...          8.3   \n",
       "179996                       99.5          4.1         Good  ...          4.7   \n",
       "179997                       46.1          8.3         Good  ...          7.5   \n",
       "179998                       58.7          5.8         Good  ...          9.3   \n",
       "179999                       97.7          5.3         Fair  ...         12.2   \n",
       "\n",
       "            study_environment access_to_tutoring  family_income_range  \\\n",
       "student_id                                                              \n",
       "100000      Co-Learning Group                Yes                 High   \n",
       "100001      Co-Learning Group                Yes                  Low   \n",
       "100002                Library                Yes                 High   \n",
       "100003      Co-Learning Group                Yes                  Low   \n",
       "100004             Quiet Room                Yes               Medium   \n",
       "...                       ...                ...                  ...   \n",
       "179995                Library                 No                  Low   \n",
       "179996      Co-Learning Group                 No                  Low   \n",
       "179997                   Dorm                 No               Medium   \n",
       "179998             Quiet Room                Yes                  Low   \n",
       "179999      Co-Learning Group                Yes               Medium   \n",
       "\n",
       "           parental_support_level  motivation_level  exam_anxiety_score  \\\n",
       "student_id                                                                \n",
       "100000                          9                 7                   8   \n",
       "100001                          7                 2                  10   \n",
       "100002                          3                 9                   6   \n",
       "100003                          5                 3                  10   \n",
       "100004                          9                 1                  10   \n",
       "...                           ...               ...                 ...   \n",
       "179995                          1                 4                  10   \n",
       "179996                          3                 2                  10   \n",
       "179997                          7                 1                  10   \n",
       "179998                          2                 8                   7   \n",
       "179999                          1                 8                   7   \n",
       "\n",
       "            learning_style time_management_score  exam_score  \n",
       "student_id                                                    \n",
       "100000             Reading                   3.0         100  \n",
       "100001             Reading                   6.0          99  \n",
       "100002         Kinesthetic                   7.6          98  \n",
       "100003             Reading                   3.2         100  \n",
       "100004             Reading                   7.1          98  \n",
       "...                    ...                   ...         ...  \n",
       "179995            Auditory                   5.3          88  \n",
       "179996         Kinesthetic                   6.8          52  \n",
       "179997              Visual                   1.3          89  \n",
       "179998         Kinesthetic                   3.7          96  \n",
       "179999             Reading                   6.7         100  \n",
       "\n",
       "[80000 rows x 30 columns]"
      ]
     },
     "execution_count": 190,
     "metadata": {},
     "output_type": "execute_result"
    }
   ],
   "source": [
    "students"
   ]
  },
  {
   "attachments": {},
   "cell_type": "markdown",
   "id": "10f55f98",
   "metadata": {},
   "source": [
    "Procediamo a verificare la presenza o meno di tutti i valori delle colonne del dataset."
   ]
  },
  {
   "cell_type": "code",
   "execution_count": 191,
   "id": "36bbe24c",
   "metadata": {},
   "outputs": [
    {
     "name": "stdout",
     "output_type": "stream",
     "text": [
      "Valori mancanti per colonna:\n",
      "Series([], dtype: int64)\n"
     ]
    }
   ],
   "source": [
    "missing_values = students.isnull().sum()\n",
    "print(\"Valori mancanti per colonna:\")\n",
    "print(missing_values[missing_values > 0])"
   ]
  },
  {
   "attachments": {},
   "cell_type": "markdown",
   "id": "12f9921f",
   "metadata": {},
   "source": [
    "Il dataset non contiene valori mancanti, questo ci permette di utilizzare tutte le colonne senza problemi."
   ]
  },
  {
   "cell_type": "code",
   "execution_count": 192,
   "id": "66d2949b",
   "metadata": {},
   "outputs": [
    {
     "name": "stdout",
     "output_type": "stream",
     "text": [
      "<class 'pandas.core.frame.DataFrame'>\n",
      "Index: 80000 entries, 100000 to 179999\n",
      "Columns: 30 entries, age to exam_score\n",
      "dtypes: float64(10), int64(8), object(12)\n",
      "memory usage: 68.4 MB\n"
     ]
    }
   ],
   "source": [
    "students.info(verbose=False, memory_usage=\"deep\")"
   ]
  },
  {
   "cell_type": "markdown",
   "id": "f3649017",
   "metadata": {},
   "source": [
    "Definiamo l’elenco delle colonne da trattare come categorical e al caricamento ne specifichiamo il tipo. Andiamo infine a ricalcolare la dimensione del file costatando una netta diminuzione dello spazio occupato rispetto all'originale."
   ]
  },
  {
   "cell_type": "code",
   "execution_count": 193,
   "id": "d8ff6d0b",
   "metadata": {},
   "outputs": [
    {
     "name": "stdout",
     "output_type": "stream",
     "text": [
      "<class 'pandas.core.frame.DataFrame'>\n",
      "RangeIndex: 80000 entries, 0 to 79999\n",
      "Columns: 31 entries, student_id to exam_score\n",
      "dtypes: category(10), float64(10), int64(8), object(3)\n",
      "memory usage: 25.5 MB\n"
     ]
    }
   ],
   "source": [
    "cols_to_cat = [\n",
    "    'gender', 'major', 'part_time_job', 'diet_quality',\n",
    "    'study_environment', 'access_to_tutoring',\n",
    "    'family_income_range', 'parental_support_level',\n",
    "    'parental_education_level', 'learning_style'\n",
    "]\n",
    "\n",
    "dtype = {col: 'category' for col in cols_to_cat}\n",
    "students = pd.read_csv(file, dtype=dtype)\n",
    "\n",
    "for col in cols_to_cat:\n",
    "    students[col] = students[col].astype('category')\n",
    "\n",
    "students.info(verbose=False, memory_usage=\"deep\")"
   ]
  },
  {
   "attachments": {},
   "cell_type": "markdown",
   "id": "36277b99",
   "metadata": {},
   "source": [
    "Questo passaggio garantisce il mantenimento dell'integrità semantica dei dati e della loro fruibilità riducendo al contempo lo spazio occupato dal dataset."
   ]
  },
  {
   "cell_type": "markdown",
   "id": "a2d59e87",
   "metadata": {},
   "source": [
    "### Preparazione dati"
   ]
  },
  {
   "cell_type": "code",
   "execution_count": 194,
   "id": "6d629f0b",
   "metadata": {},
   "outputs": [
    {
     "data": {
      "text/html": [
       "<div>\n",
       "<style scoped>\n",
       "    .dataframe tbody tr th:only-of-type {\n",
       "        vertical-align: middle;\n",
       "    }\n",
       "\n",
       "    .dataframe tbody tr th {\n",
       "        vertical-align: top;\n",
       "    }\n",
       "\n",
       "    .dataframe thead th {\n",
       "        text-align: right;\n",
       "    }\n",
       "</style>\n",
       "<table border=\"1\" class=\"dataframe\">\n",
       "  <thead>\n",
       "    <tr style=\"text-align: right;\">\n",
       "      <th></th>\n",
       "      <th>student_id</th>\n",
       "      <th>age</th>\n",
       "      <th>gender</th>\n",
       "      <th>major</th>\n",
       "      <th>study_hours_per_day</th>\n",
       "      <th>social_media_hours</th>\n",
       "      <th>netflix_hours</th>\n",
       "      <th>part_time_job</th>\n",
       "      <th>attendance_percentage</th>\n",
       "      <th>sleep_hours</th>\n",
       "      <th>...</th>\n",
       "      <th>screen_time</th>\n",
       "      <th>study_environment</th>\n",
       "      <th>access_to_tutoring</th>\n",
       "      <th>family_income_range</th>\n",
       "      <th>parental_support_level</th>\n",
       "      <th>motivation_level</th>\n",
       "      <th>exam_anxiety_score</th>\n",
       "      <th>learning_style</th>\n",
       "      <th>time_management_score</th>\n",
       "      <th>exam_score</th>\n",
       "    </tr>\n",
       "  </thead>\n",
       "  <tbody>\n",
       "    <tr>\n",
       "      <th>0</th>\n",
       "      <td>100000</td>\n",
       "      <td>26</td>\n",
       "      <td>Male</td>\n",
       "      <td>Computer Science</td>\n",
       "      <td>7.645367</td>\n",
       "      <td>3.0</td>\n",
       "      <td>0.1</td>\n",
       "      <td>Yes</td>\n",
       "      <td>70.3</td>\n",
       "      <td>6.2</td>\n",
       "      <td>...</td>\n",
       "      <td>10.9</td>\n",
       "      <td>Co-Learning Group</td>\n",
       "      <td>Yes</td>\n",
       "      <td>High</td>\n",
       "      <td>9</td>\n",
       "      <td>7</td>\n",
       "      <td>8</td>\n",
       "      <td>Reading</td>\n",
       "      <td>3.0</td>\n",
       "      <td>100</td>\n",
       "    </tr>\n",
       "  </tbody>\n",
       "</table>\n",
       "<p>1 rows × 31 columns</p>\n",
       "</div>"
      ],
      "text/plain": [
       "   student_id  age gender             major  study_hours_per_day  \\\n",
       "0      100000   26   Male  Computer Science             7.645367   \n",
       "\n",
       "   social_media_hours  netflix_hours part_time_job  attendance_percentage  \\\n",
       "0                 3.0            0.1           Yes                   70.3   \n",
       "\n",
       "   sleep_hours  ... screen_time  study_environment access_to_tutoring  \\\n",
       "0          6.2  ...        10.9  Co-Learning Group                Yes   \n",
       "\n",
       "  family_income_range  parental_support_level motivation_level  \\\n",
       "0                High                       9                7   \n",
       "\n",
       "   exam_anxiety_score  learning_style  time_management_score exam_score  \n",
       "0                   8         Reading                    3.0        100  \n",
       "\n",
       "[1 rows x 31 columns]"
      ]
     },
     "execution_count": 194,
     "metadata": {},
     "output_type": "execute_result"
    }
   ],
   "source": [
    "students.head(1)"
   ]
  },
  {
   "attachments": {},
   "cell_type": "markdown",
   "id": "efbe0964",
   "metadata": {},
   "source": [
    "Riteniamo che alcune colonne del dataset siano assimilabili per similarità dei dati forniti, quindi procediamo ad accorparle per attinenza semantica. "
   ]
  },
  {
   "cell_type": "code",
   "execution_count": 195,
   "id": "dd908502",
   "metadata": {},
   "outputs": [],
   "source": [
    "students[\"screen_entertainment_hours\"] = students[\"social_media_hours\"] + students[\"netflix_hours\"]\n",
    "students.drop(columns=[\"social_media_hours\", \"netflix_hours\"], inplace=True)\n",
    "ent = students.pop(\"screen_entertainment_hours\")\n",
    "students.insert(loc=5, column=\"screen_entertainment_hours\", value=ent)"
   ]
  },
  {
   "attachments": {},
   "cell_type": "markdown",
   "id": "1b7de30b",
   "metadata": {},
   "source": [
    "Estraiamo inoltre il tempo di utilizzo di tecnologie dedicato ad attività produttive o con attinenza scolastica, dato interesante per i nostri fini."
   ]
  },
  {
   "cell_type": "code",
   "execution_count": 196,
   "id": "d1c4f55a",
   "metadata": {},
   "outputs": [],
   "source": [
    "students[\"screen_productivity_hours\"] = students[\"screen_time\"] - students[\"screen_entertainment_hours\"]\n",
    "students[\"screen_productivity_hours\"] = students[\"screen_productivity_hours\"].clip(lower=0, upper=24)\n",
    "prod = students.pop(\"screen_productivity_hours\")\n",
    "students.insert(loc=6, column=\"screen_productivity_hours\", value=prod)"
   ]
  },
  {
   "attachments": {},
   "cell_type": "markdown",
   "id": "a9f4038e",
   "metadata": {},
   "source": [
    "Per via dell'approsimazione decimale dovuta al cast implicito dei tipi di python diversi otteniamo, in alcuni isolati casi, dei valori fuori scala che procediamo a normalizzare."
   ]
  },
  {
   "cell_type": "code",
   "execution_count": 197,
   "id": "e5cf2e70",
   "metadata": {},
   "outputs": [],
   "source": [
    "outlier_screen_productivity = students[(students['screen_productivity_hours'] < 0) | \n",
    "                                       (students['screen_productivity_hours'] > 24)]"
   ]
  },
  {
   "cell_type": "code",
   "execution_count": 198,
   "id": "6d629f0b",
   "metadata": {},
   "outputs": [
    {
     "data": {
      "text/html": [
       "<div>\n",
       "<style scoped>\n",
       "    .dataframe tbody tr th:only-of-type {\n",
       "        vertical-align: middle;\n",
       "    }\n",
       "\n",
       "    .dataframe tbody tr th {\n",
       "        vertical-align: top;\n",
       "    }\n",
       "\n",
       "    .dataframe thead th {\n",
       "        text-align: right;\n",
       "    }\n",
       "</style>\n",
       "<table border=\"1\" class=\"dataframe\">\n",
       "  <thead>\n",
       "    <tr style=\"text-align: right;\">\n",
       "      <th></th>\n",
       "      <th>student_id</th>\n",
       "      <th>age</th>\n",
       "      <th>gender</th>\n",
       "      <th>major</th>\n",
       "      <th>study_hours_per_day</th>\n",
       "      <th>screen_entertainment_hours</th>\n",
       "      <th>screen_productivity_hours</th>\n",
       "      <th>part_time_job</th>\n",
       "      <th>attendance_percentage</th>\n",
       "      <th>sleep_hours</th>\n",
       "      <th>...</th>\n",
       "      <th>screen_time</th>\n",
       "      <th>study_environment</th>\n",
       "      <th>access_to_tutoring</th>\n",
       "      <th>family_income_range</th>\n",
       "      <th>parental_support_level</th>\n",
       "      <th>motivation_level</th>\n",
       "      <th>exam_anxiety_score</th>\n",
       "      <th>learning_style</th>\n",
       "      <th>time_management_score</th>\n",
       "      <th>exam_score</th>\n",
       "    </tr>\n",
       "  </thead>\n",
       "  <tbody>\n",
       "    <tr>\n",
       "      <th>0</th>\n",
       "      <td>100000</td>\n",
       "      <td>26</td>\n",
       "      <td>Male</td>\n",
       "      <td>Computer Science</td>\n",
       "      <td>7.645367</td>\n",
       "      <td>3.1</td>\n",
       "      <td>7.8</td>\n",
       "      <td>Yes</td>\n",
       "      <td>70.3</td>\n",
       "      <td>6.2</td>\n",
       "      <td>...</td>\n",
       "      <td>10.9</td>\n",
       "      <td>Co-Learning Group</td>\n",
       "      <td>Yes</td>\n",
       "      <td>High</td>\n",
       "      <td>9</td>\n",
       "      <td>7</td>\n",
       "      <td>8</td>\n",
       "      <td>Reading</td>\n",
       "      <td>3.0</td>\n",
       "      <td>100</td>\n",
       "    </tr>\n",
       "  </tbody>\n",
       "</table>\n",
       "<p>1 rows × 31 columns</p>\n",
       "</div>"
      ],
      "text/plain": [
       "   student_id  age gender             major  study_hours_per_day  \\\n",
       "0      100000   26   Male  Computer Science             7.645367   \n",
       "\n",
       "   screen_entertainment_hours  screen_productivity_hours part_time_job  \\\n",
       "0                         3.1                        7.8           Yes   \n",
       "\n",
       "   attendance_percentage  sleep_hours  ... screen_time  study_environment  \\\n",
       "0                   70.3          6.2  ...        10.9  Co-Learning Group   \n",
       "\n",
       "  access_to_tutoring family_income_range  parental_support_level  \\\n",
       "0                Yes                High                       9   \n",
       "\n",
       "  motivation_level  exam_anxiety_score  learning_style  time_management_score  \\\n",
       "0                7                   8         Reading                    3.0   \n",
       "\n",
       "  exam_score  \n",
       "0        100  \n",
       "\n",
       "[1 rows x 31 columns]"
      ]
     },
     "execution_count": 198,
     "metadata": {},
     "output_type": "execute_result"
    }
   ],
   "source": [
    "students.head(1)"
   ]
  },
  {
   "cell_type": "code",
   "execution_count": 199,
   "id": "42df8f25",
   "metadata": {},
   "outputs": [],
   "source": [
    "category_order = [\n",
    "    \"Identifiers\",\n",
    "    \"Demographics\",\n",
    "    \"Academic Engagement\",\n",
    "    \"Lifestyle & Health\",\n",
    "    \"Screen Activity\",\n",
    "    \"Family & Socioeconomic Support\",\n",
    "    \"Personal Skills\",\n",
    "    \"Behavior & Preferences\",\n",
    "    \"Outcomes\"\n",
    "]\n",
    "\n",
    "\n",
    "category_map = {\n",
    "    \"student_id\": \"Identifiers\",\n",
    "\n",
    "    \"age\":       \"Demographics\",\n",
    "    \"gender\":    \"Demographics\",\n",
    "    \"major\":     \"Demographics\",\n",
    "\n",
    "    \"semester\":                      \"Academic Engagement\",\n",
    "    \"study_hours_per_day\":           \"Academic Engagement\",\n",
    "    \"attendance_percentage\":         \"Academic Engagement\",\n",
    "    \"access_to_tutoring\":            \"Academic Engagement\",\n",
    "    \"extracurricular_participation\": \"Academic Engagement\",\n",
    "    \"previous_gpa\":                  \"Academic Engagement\",\n",
    "\n",
    "\n",
    "    \"sleep_hours\":          \"Lifestyle & Health\",\n",
    "    \"diet_quality\":         \"Lifestyle & Health\",\n",
    "    \"exercise_frequency\":   \"Lifestyle & Health\",\n",
    "    \"mental_health_rating\": \"Lifestyle & Health\",\n",
    "    \"stress_level\":         \"Lifestyle & Health\",\n",
    "    \"exam_anxiety_score\":   \"Lifestyle & Health\",\n",
    "\n",
    "    \"screen_time\":                \"Screen Activity\",\n",
    "    \"screen_productivity_hours\":  \"Screen Activity\",\n",
    "    \"screen_entertainment_hours\": \"Screen Activity\",\n",
    "    \"social_activity\":            \"Screen Activity\",\n",
    "\n",
    "    \"family_income_range\":      \"Family & Socioeconomic Support\",\n",
    "    \"parental_education_level\": \"Family & Socioeconomic Support\",\n",
    "    \"parental_support_level\":   \"Family & Socioeconomic Support\",\n",
    "    \"internet_quality\":         \"Family & Socioeconomic Support\",\n",
    "    \n",
    "    \n",
    "    \"time_management_score\": \"Personal Skills\",\n",
    "    \"motivation_level\":      \"Personal Skills\",\n",
    "    \"learning_style\":        \"Personal Skills\",\n",
    "\n",
    "    \n",
    "    \"part_time_job\":      \"Behavior & Preferences\",\n",
    "    \"dropout_risk\":       \"Behavior & Preferences\",\n",
    "    \"study_environment\":  \"Behavior & Preferences\",\n",
    "\n",
    "    \"exam_score\":   \"Outcomes\"\n",
    "}\n"
   ]
  },
  {
   "cell_type": "code",
   "execution_count": 200,
   "id": "3f7d29d8",
   "metadata": {},
   "outputs": [],
   "source": [
    "missing_cols = [col for col in students.columns if col not in category_map]\n",
    "if missing_cols:\n",
    "    raise ValueError(f\"The following columns are not present in category_map: {missing_cols}\")\n",
    "\n",
    "cols_sorted = sorted(\n",
    "    students.columns,\n",
    "    key=lambda col: category_order.index(category_map[col])\n",
    ")\n",
    "\n",
    "students = students[cols_sorted]"
   ]
  },
  {
   "cell_type": "code",
   "execution_count": 201,
   "id": "c75f2b39",
   "metadata": {},
   "outputs": [
    {
     "name": "stdout",
     "output_type": "stream",
     "text": [
      "['student_id', 'age', 'gender', 'major', 'study_hours_per_day', 'attendance_percentage', 'extracurricular_participation', 'previous_gpa', 'semester', 'access_to_tutoring', 'sleep_hours', 'diet_quality', 'exercise_frequency', 'mental_health_rating', 'stress_level', 'exam_anxiety_score', 'screen_entertainment_hours', 'screen_productivity_hours', 'social_activity', 'screen_time', 'parental_education_level', 'internet_quality', 'family_income_range', 'parental_support_level', 'motivation_level', 'learning_style', 'time_management_score', 'part_time_job', 'dropout_risk', 'study_environment', 'exam_score']\n"
     ]
    }
   ],
   "source": [
    "print(students.columns.tolist())"
   ]
  },
  {
   "cell_type": "markdown",
   "id": "e3d3a5e7",
   "metadata": {},
   "source": [
    "### Analisi generale dei dati"
   ]
  },
  {
   "cell_type": "markdown",
   "id": "661fcdd5-944c-4a2a-afcb-85816fb37c51",
   "metadata": {},
   "source": [
    "#### Aspetto grafico"
   ]
  },
  {
   "cell_type": "markdown",
   "id": "34dffcd5",
   "metadata": {},
   "source": [
    "Analizziamo alcune statistiche descrittive mediante l'utilizzo di grafici per poterne acquisire consapevolezza dei dati e delle caratteristiche del contesto applicativo facendo dei confronti interessanti sui dati correlati."
   ]
  },
  {
   "cell_type": "code",
   "execution_count": 202,
   "id": "bc8c1714",
   "metadata": {},
   "outputs": [],
   "source": [
    "CMAP = plt.get_cmap('viridis')"
   ]
  },
  {
   "cell_type": "code",
   "execution_count": 203,
   "id": "fbf47f86",
   "metadata": {},
   "outputs": [],
   "source": [
    "def plot_bar(data, feature, n=None, title=None):\n",
    "    rounded = np.round(data[feature] * 2) / 2\n",
    "    counts = rounded.value_counts()\n",
    "    if n is not None:\n",
    "        counts = counts.iloc[:n]\n",
    "    counts = counts.sort_index()\n",
    "    labels = counts.index.astype(str)\n",
    "    values = counts.values\n",
    "    colors = CMAP(np.linspace(0, 1, len(values)))\n",
    "    plt.figure(figsize=(10, 6))\n",
    "    plt.bar(labels, values, color=colors, edgecolor='black')\n",
    "    plt.title(title or f'Distribuzione di {feature}', fontsize=14)\n",
    "    plt.xlabel(feature, fontsize=12)\n",
    "    plt.ylabel('Frequenza', fontsize=12)\n",
    "    plt.xticks(rotation=45, ha='right')\n",
    "    plt.tight_layout()\n",
    "    plt.show()"
   ]
  },
  {
   "cell_type": "code",
   "execution_count": 204,
   "id": "614db346",
   "metadata": {},
   "outputs": [],
   "source": [
    "def plot_hist(data, feature, bins=20, title=None):\n",
    "    plt.figure(figsize=(10, 6))\n",
    "    plt.hist(data[feature].dropna(), bins=bins,\n",
    "             color=CMAP(0.6), edgecolor='black')\n",
    "    plt.title(title or f'Istogramma di {feature}', fontsize=14)\n",
    "    plt.xlabel(feature, fontsize=12)\n",
    "    plt.ylabel('Frequenza', fontsize=12)\n",
    "    plt.tight_layout()\n",
    "    plt.show()"
   ]
  },
  {
   "cell_type": "code",
   "execution_count": 205,
   "id": "d6b6e88f",
   "metadata": {},
   "outputs": [],
   "source": [
    "def plot_box(data, feature, title=None):\n",
    "    plt.figure(figsize=(10, 6))\n",
    "    plt.boxplot(data[feature].dropna(), vert=False, patch_artist=True,\n",
    "                boxprops=dict(facecolor='lightgreen', edgecolor='green'),\n",
    "                medianprops=dict(color='red'),\n",
    "                whiskerprops=dict(color='green'),\n",
    "                capprops=dict(color='green'))\n",
    "    plt.title(title or f'Boxplot di {feature}', fontsize=14)\n",
    "    plt.xlabel(feature, fontsize=12)\n",
    "    plt.tight_layout()\n",
    "    plt.show()"
   ]
  },
  {
   "cell_type": "code",
   "execution_count": 206,
   "id": "3eada832",
   "metadata": {},
   "outputs": [],
   "source": [
    "def plot_correlation_heatmap(data, features, title=None):\n",
    "    corr = data[features].corr()\n",
    "    plt.figure(figsize=(8,6))\n",
    "    im = plt.imshow(corr, cmap='coolwarm', vmin=-1, vmax=1)\n",
    "    plt.colorbar(im, fraction=0.046, pad=0.04, label='r di Pearson')\n",
    "    plt.xticks(range(len(features)), features, rotation=45, ha='right')\n",
    "    plt.yticks(range(len(features)), features)\n",
    "    plt.title(title or 'Matrice di correlazione', fontsize=14)\n",
    "    plt.tight_layout()\n",
    "    plt.show()"
   ]
  },
  {
   "cell_type": "code",
   "execution_count": 207,
   "id": "74c4981c",
   "metadata": {},
   "outputs": [],
   "source": [
    "def plot_line_trend(data, cat, num, title=None):\n",
    "    means = data.groupby(cat)[num].mean().sort_index()\n",
    "    plt.figure(figsize=(8,5))\n",
    "    plt.plot(means.index, means.values, marker='o', linestyle='-')\n",
    "    plt.title(title or f'Trend di {num} per {cat}', fontsize=14)\n",
    "    plt.xlabel(cat, fontsize=12)\n",
    "    plt.ylabel(f'Media di {num}', fontsize=12)\n",
    "    plt.grid(alpha=0.3)\n",
    "    plt.tight_layout()\n",
    "    plt.show()\n"
   ]
  },
  {
   "cell_type": "code",
   "execution_count": 208,
   "id": "babd524e",
   "metadata": {},
   "outputs": [
    {
     "data": {
      "image/png": "[encoded data removed]",
      "text/plain": [
       "<Figure size 720x432 with 1 Axes>"
      ]
     },
     "metadata": {
      "needs_background": "light"
     },
     "output_type": "display_data"
    }
   ],
   "source": [
    "plot_bar(students, 'sleep_hours', n=30, \n",
    "         title='Distribuzione delle ore di sonno')"
   ]
  },
  {
   "cell_type": "markdown",
   "id": "7fa34447",
   "metadata": {},
   "source": [
    "La maggior parte degli studenti dorme tra 6 e 8 ore a notte, con un picco a 7 ore. Sono pochi quelli che dormono meno di 5 o più di 9 ore. La curva è leggermente spostata verso destra a causa di un piccolo gruppo che dorme più a lungo."
   ]
  },
  {
   "cell_type": "code",
   "execution_count": 209,
   "id": "a9086f31",
   "metadata": {},
   "outputs": [
    {
     "data": {
      "image/png": "[encoded data removed]",
      "text/plain": [
       "<Figure size 720x432 with 1 Axes>"
      ]
     },
     "metadata": {
      "needs_background": "light"
     },
     "output_type": "display_data"
    }
   ],
   "source": [
    "plot_hist(students, 'study_hours_per_day', bins=20, \n",
    "          title='Istogramma delle ore di studio per giorno')"
   ]
  },
  {
   "cell_type": "markdown",
   "id": "9f203f30",
   "metadata": {},
   "source": [
    "La maggior parte degli studenti studia tra 2 e 6 ore al giorno, con un picco intorno alle 4 ore. Chi studia meno di un’ora o più di 8–9 ore è molto raro. La curva è un po’ spostata verso destra, perché c’è un piccolo gruppo di studiosi che fa sessioni di studio più lunghe, ma la maggioranza si ferma a tempi moderati."
   ]
  },
  {
   "cell_type": "code",
   "execution_count": 210,
   "id": "8d1aef3d",
   "metadata": {},
   "outputs": [
    {
     "data": {
      "image/png": "[encoded data removed]",
      "text/plain": [
       "<Figure size 576x432 with 2 Axes>"
      ]
     },
     "metadata": {
      "needs_background": "light"
     },
     "output_type": "display_data"
    }
   ],
   "source": [
    "num_feats = [\n",
    "    'study_hours_per_day', 'sleep_hours',\n",
    "    'previous_gpa', 'time_management_score',\n",
    "    'exam_anxiety_score', 'exam_score'\n",
    "]\n",
    "plot_correlation_heatmap(\n",
    "    students,\n",
    "    features=num_feats,\n",
    "    title='Correlazioni tra variabili chiave'\n",
    ")"
   ]
  },
  {
   "cell_type": "markdown",
   "id": "eec86d4c",
   "metadata": {},
   "source": [
    "Il grafico mostra quanto ogni variabile sia in correlazione con il punteggio d’esame:\n",
    "\n",
    "* La media dei voti precedenti (previous\\_gpa) è il fattore che predice meglio il risultato: più è alta, più sale anche il punteggio.\n",
    "* Ore di studio e sonno aiutano un po’ (leggero effetto positivo), ma non in modo drammatico.\n",
    "* L’ansia da esame fa l’opposto: più ansia, più basso tende a essere il punteggio.\n",
    "* La gestione del tempo non sembra influire quasi per niente sui risultati."
   ]
  },
  {
   "cell_type": "code",
   "execution_count": 211,
   "id": "9f48bfd0",
   "metadata": {},
   "outputs": [
    {
     "data": {
      "image/png": "[encoded data removed]",
      "text/plain": [
       "<Figure size 576x360 with 1 Axes>"
      ]
     },
     "metadata": {
      "needs_background": "light"
     },
     "output_type": "display_data"
    }
   ],
   "source": [
    "plot_line_trend(\n",
    "    students,\n",
    "    cat='semester',\n",
    "    num='exam_score',\n",
    "    title='Trend del punteggio d’esame per semestre'\n",
    ")"
   ]
  },
  {
   "cell_type": "markdown",
   "id": "9f4db3c3",
   "metadata": {},
   "source": [
    "Il grafico mostra che la media del punteggio d’esame rimane molto stabile intorno a 89 nel corso dei diversi semestri, con una lieve flessione nel secondo semestre, un picco nel quinto e un calo più marcato nell’ottavo. In generale, le variazioni sono contenute, suggerendo performance accademiche costanti durante tutto il percorso di studi."
   ]
  },
  {
   "cell_type": "markdown",
   "id": "db2bf88f",
   "metadata": {},
   "source": [
    "#### Aspetto matematico"
   ]
  },
  {
   "cell_type": "markdown",
   "id": "bc08bb3c-49d6-4904-8e25-fc261332d823",
   "metadata": {},
   "source": [
    "Per l'aspetto matematico andiamo a ricavare alcune statistiche descrittive sui dati degli studenti. In particolare prendiamo in analisi: la media ed il massimo e minimo nelle principali colonne."
   ]
  },
  {
   "cell_type": "code",
   "execution_count": 212,
   "id": "5d1666e9",
   "metadata": {},
   "outputs": [
    {
     "data": {
      "text/html": [
       "<div>\n",
       "<style scoped>\n",
       "    .dataframe tbody tr th:only-of-type {\n",
       "        vertical-align: middle;\n",
       "    }\n",
       "\n",
       "    .dataframe tbody tr th {\n",
       "        vertical-align: top;\n",
       "    }\n",
       "\n",
       "    .dataframe thead th {\n",
       "        text-align: right;\n",
       "    }\n",
       "</style>\n",
       "<table border=\"1\" class=\"dataframe\">\n",
       "  <thead>\n",
       "    <tr style=\"text-align: right;\">\n",
       "      <th></th>\n",
       "      <th>age</th>\n",
       "      <th>study_hours_per_day</th>\n",
       "      <th>attendance_percentage</th>\n",
       "      <th>previous_gpa</th>\n",
       "      <th>semester</th>\n",
       "    </tr>\n",
       "  </thead>\n",
       "  <tbody>\n",
       "    <tr>\n",
       "      <th>mean</th>\n",
       "      <td>22.004288</td>\n",
       "      <td>4.174388</td>\n",
       "      <td>69.967884</td>\n",
       "      <td>3.602448</td>\n",
       "      <td>4.497338</td>\n",
       "    </tr>\n",
       "    <tr>\n",
       "      <th>min</th>\n",
       "      <td>16.000000</td>\n",
       "      <td>0.000000</td>\n",
       "      <td>40.000000</td>\n",
       "      <td>1.640000</td>\n",
       "      <td>1.000000</td>\n",
       "    </tr>\n",
       "    <tr>\n",
       "      <th>max</th>\n",
       "      <td>28.000000</td>\n",
       "      <td>12.000000</td>\n",
       "      <td>100.000000</td>\n",
       "      <td>4.000000</td>\n",
       "      <td>8.000000</td>\n",
       "    </tr>\n",
       "  </tbody>\n",
       "</table>\n",
       "</div>"
      ],
      "text/plain": [
       "            age  study_hours_per_day  attendance_percentage  previous_gpa  \\\n",
       "mean  22.004288             4.174388              69.967884      3.602448   \n",
       "min   16.000000             0.000000              40.000000      1.640000   \n",
       "max   28.000000            12.000000             100.000000      4.000000   \n",
       "\n",
       "      semester  \n",
       "mean  4.497338  \n",
       "min   1.000000  \n",
       "max   8.000000  "
      ]
     },
     "metadata": {},
     "output_type": "display_data"
    },
    {
     "data": {
      "text/html": [
       "<div>\n",
       "<style scoped>\n",
       "    .dataframe tbody tr th:only-of-type {\n",
       "        vertical-align: middle;\n",
       "    }\n",
       "\n",
       "    .dataframe tbody tr th {\n",
       "        vertical-align: top;\n",
       "    }\n",
       "\n",
       "    .dataframe thead th {\n",
       "        text-align: right;\n",
       "    }\n",
       "</style>\n",
       "<table border=\"1\" class=\"dataframe\">\n",
       "  <thead>\n",
       "    <tr style=\"text-align: right;\">\n",
       "      <th></th>\n",
       "      <th>sleep_hours</th>\n",
       "      <th>exercise_frequency</th>\n",
       "      <th>mental_health_rating</th>\n",
       "      <th>stress_level</th>\n",
       "      <th>exam_anxiety_score</th>\n",
       "    </tr>\n",
       "  </thead>\n",
       "  <tbody>\n",
       "    <tr>\n",
       "      <th>mean</th>\n",
       "      <td>7.017417</td>\n",
       "      <td>3.516587</td>\n",
       "      <td>6.804107</td>\n",
       "      <td>5.012478</td>\n",
       "      <td>8.508475</td>\n",
       "    </tr>\n",
       "    <tr>\n",
       "      <th>min</th>\n",
       "      <td>4.000000</td>\n",
       "      <td>0.000000</td>\n",
       "      <td>1.000000</td>\n",
       "      <td>1.000000</td>\n",
       "      <td>5.000000</td>\n",
       "    </tr>\n",
       "    <tr>\n",
       "      <th>max</th>\n",
       "      <td>12.000000</td>\n",
       "      <td>7.000000</td>\n",
       "      <td>10.000000</td>\n",
       "      <td>10.000000</td>\n",
       "      <td>10.000000</td>\n",
       "    </tr>\n",
       "  </tbody>\n",
       "</table>\n",
       "</div>"
      ],
      "text/plain": [
       "      sleep_hours  exercise_frequency  mental_health_rating  stress_level  \\\n",
       "mean     7.017417            3.516587              6.804107      5.012478   \n",
       "min      4.000000            0.000000              1.000000      1.000000   \n",
       "max     12.000000            7.000000             10.000000     10.000000   \n",
       "\n",
       "      exam_anxiety_score  \n",
       "mean            8.508475  \n",
       "min             5.000000  \n",
       "max            10.000000  "
      ]
     },
     "metadata": {},
     "output_type": "display_data"
    },
    {
     "data": {
      "text/html": [
       "<div>\n",
       "<style scoped>\n",
       "    .dataframe tbody tr th:only-of-type {\n",
       "        vertical-align: middle;\n",
       "    }\n",
       "\n",
       "    .dataframe tbody tr th {\n",
       "        vertical-align: top;\n",
       "    }\n",
       "\n",
       "    .dataframe thead th {\n",
       "        text-align: right;\n",
       "    }\n",
       "</style>\n",
       "<table border=\"1\" class=\"dataframe\">\n",
       "  <thead>\n",
       "    <tr style=\"text-align: right;\">\n",
       "      <th></th>\n",
       "      <th>screen_entertainment_hours</th>\n",
       "      <th>screen_productivity_hours</th>\n",
       "      <th>social_activity</th>\n",
       "      <th>screen_time</th>\n",
       "      <th>motivation_level</th>\n",
       "    </tr>\n",
       "  </thead>\n",
       "  <tbody>\n",
       "    <tr>\n",
       "      <th>mean</th>\n",
       "      <td>4.49912</td>\n",
       "      <td>5.173909</td>\n",
       "      <td>2.500225</td>\n",
       "      <td>9.673029</td>\n",
       "      <td>5.488525</td>\n",
       "    </tr>\n",
       "    <tr>\n",
       "      <th>min</th>\n",
       "      <td>0.00000</td>\n",
       "      <td>0.000000</td>\n",
       "      <td>0.000000</td>\n",
       "      <td>0.300000</td>\n",
       "      <td>1.000000</td>\n",
       "    </tr>\n",
       "    <tr>\n",
       "      <th>max</th>\n",
       "      <td>9.00000</td>\n",
       "      <td>13.800000</td>\n",
       "      <td>5.000000</td>\n",
       "      <td>21.000000</td>\n",
       "      <td>10.000000</td>\n",
       "    </tr>\n",
       "  </tbody>\n",
       "</table>\n",
       "</div>"
      ],
      "text/plain": [
       "      screen_entertainment_hours  screen_productivity_hours  social_activity  \\\n",
       "mean                     4.49912                   5.173909         2.500225   \n",
       "min                      0.00000                   0.000000         0.000000   \n",
       "max                      9.00000                  13.800000         5.000000   \n",
       "\n",
       "      screen_time  motivation_level  \n",
       "mean     9.673029          5.488525  \n",
       "min      0.300000          1.000000  \n",
       "max     21.000000         10.000000  "
      ]
     },
     "metadata": {},
     "output_type": "display_data"
    },
    {
     "data": {
      "text/html": [
       "<div>\n",
       "<style scoped>\n",
       "    .dataframe tbody tr th:only-of-type {\n",
       "        vertical-align: middle;\n",
       "    }\n",
       "\n",
       "    .dataframe tbody tr th {\n",
       "        vertical-align: top;\n",
       "    }\n",
       "\n",
       "    .dataframe thead th {\n",
       "        text-align: right;\n",
       "    }\n",
       "</style>\n",
       "<table border=\"1\" class=\"dataframe\">\n",
       "  <thead>\n",
       "    <tr style=\"text-align: right;\">\n",
       "      <th></th>\n",
       "      <th>time_management_score</th>\n",
       "      <th>exam_score</th>\n",
       "    </tr>\n",
       "  </thead>\n",
       "  <tbody>\n",
       "    <tr>\n",
       "      <th>mean</th>\n",
       "      <td>5.499132</td>\n",
       "      <td>89.14135</td>\n",
       "    </tr>\n",
       "    <tr>\n",
       "      <th>min</th>\n",
       "      <td>1.000000</td>\n",
       "      <td>36.00000</td>\n",
       "    </tr>\n",
       "    <tr>\n",
       "      <th>max</th>\n",
       "      <td>10.000000</td>\n",
       "      <td>100.00000</td>\n",
       "    </tr>\n",
       "  </tbody>\n",
       "</table>\n",
       "</div>"
      ],
      "text/plain": [
       "      time_management_score  exam_score\n",
       "mean               5.499132    89.14135\n",
       "min                1.000000    36.00000\n",
       "max               10.000000   100.00000"
      ]
     },
     "metadata": {},
     "output_type": "display_data"
    }
   ],
   "source": [
    "studentDescribed = students.describe()\n",
    "\n",
    "rows_to_drop = ['count', 'std', '25%', '50%', '75%']\n",
    "filtered_studentDescribed = studentDescribed.drop(index=rows_to_drop)\n",
    "\n",
    "filtered_studentDescribed = filtered_studentDescribed.drop(columns=[\"student_id\"])\n",
    "\n",
    "segment_size = 5 \n",
    "\n",
    "for start in range(0, len(filtered_studentDescribed.columns), segment_size):\n",
    "    stop = start + segment_size\n",
    "    display(filtered_studentDescribed.iloc[:, start:stop])"
   ]
  },
  {
   "cell_type": "markdown",
   "id": "dfb7f554",
   "metadata": {},
   "source": [
    "- **Age**: Gli studenti hanno un'età media di circa 22 anni, con un range tra i 16 e i 28 anni, tipico di un'ampia fascia universitaria.\n",
    "- **Study Hours per Day**: Il numero medio di ore di studio è 4.17, suggerendo che la maggior parte degli studenti dedica un tempo moderato allo studio giornaliero. Tuttavia, un massimo di 12 ore indicano alcuni outlier che potrebbero mettere molta enfasi sulla preparazione accademica.\n",
    "- **Attendance Percentage**: La frequenza media è del 69.97%, con un minimo del 40% e massimo del 100%. Ciò indica una discreta variabilità nella partecipazione alle lezioni, cruciale per la performance accademica.\n",
    "- **Previous GPA**: Con una media di 3.60, gli studenti mostrano un buon rendimento accademico precedente, evidenziato anche dal \"massimo\" di 4.0, il che rappresenta di solito il voto più elevato raggiungibile.\n",
    "- **Semester**: La media è di 4.5, suggerendo che gli studenti si trovano per lo più a metà del loro percorso accademico, tra il primo e l'ultimo semestre.\n",
    "- **Sleep Hours**: Gli studenti dormono mediamente 7 ore, che è vicino al raccomandato per la loro età. Tuttavia, alcuni studenti dormono solo 4 ore, potenzialmente influenzando negativamente la loro salute mentale e rendimento.\n",
    "- **Exercise Frequency**: Con una media di 3.5, i dati indicano che gli studenti fanno esercizio regolarmente un paio di volte a settimana; il minimo di 0 segnala una totale assenza di attività fisica tra alcuni studenti.\n",
    "- **Mental Health Rating e Stress Level**: La salute mentale media è valutata a 6.8 su 10, mentre il livello di stress è mediamente 5 su 10. Questo equilibrio suggerisce che, sebbene gli studenti affrontino stress, mantengono una salute mentale relativamente positiva.\n",
    "- **Exam Anxiety Score**: Il livello di ansia è elevato, con una media di 8.5, indicando che gli esami sono una fonte significativa di pressione, potenzialmente impattando sulle performance.\n",
    "- **Screen Entertainment e Productivity Hours**: Gli studenti passano più di 4 ore al giorno in attività di intrattenimento e poco più di 5 in attività produttive; la gestione del tempo tra intrattenimento e produttività è cruciale per la riuscita accademica.\n",
    "- **Social Activity**: Con una media bassa di 2.5, l'interazione sociale può essere limitante ed è opportuno valutare se impatti sul benessere generale.\n",
    "- **Motivation Level**: La motivazione media è 5.4, suggerendo che metà degli studenti potrebbe mancare di guida o interesse nei loro studi, un fattore che potrebbe ridurre l'engagement accademico complessivo.\n",
    "- **Time Management Score**: In media 5.5, suggerisce che la gestione del tempo è moderata, con possibilità di miglioramento per molti studenti."
   ]
  },
  {
   "cell_type": "markdown",
   "id": "433f4e88",
   "metadata": {},
   "source": [
    "### Preparazione del modello\n",
    "In questa sezione, prepareremo i dati per l'allenamento di un modello di machine learning. Seguiremo i seguenti passi:\n",
    "\n",
    "1. **Gestione delle variabili categoriche**: Convertiremo le colonne categoriche in un formato numerico utilizzando tecniche come One-Hot Encoding.\n",
    "2. **Selezione delle feature**: Identificheremo le colonne più rilevanti per predire il punteggio d'esame.\n",
    "3. **Suddivisione dei dati**: Divideremo il dataset in set di addestramento e test.\n",
    "4. **Standardizzazione dei dati numerici**: Trasformeremo i dati numerici per migliorare le performance del modello."
   ]
  },
  {
   "cell_type": "code",
   "execution_count": 213,
   "id": "271adeac",
   "metadata": {},
   "outputs": [
    {
     "name": "stdout",
     "output_type": "stream",
     "text": [
      "Colonne numeriche:\n",
      "['student_id', 'age', 'study_hours_per_day', 'attendance_percentage', 'previous_gpa', 'semester', 'sleep_hours', 'exercise_frequency', 'mental_health_rating', 'stress_level', 'exam_anxiety_score', 'screen_entertainment_hours', 'screen_productivity_hours', 'social_activity', 'screen_time', 'motivation_level', 'time_management_score', 'exam_score']\n",
      "Colonne categoriche:\n",
      "['gender', 'major', 'access_to_tutoring', 'diet_quality', 'parental_education_level', 'family_income_range', 'parental_support_level', 'learning_style', 'part_time_job', 'study_environment']\n",
      "Colonne dopo One-Hot Encoding:\n",
      "['student_id', 'age', 'study_hours_per_day', 'attendance_percentage', 'extracurricular_participation', 'previous_gpa', 'semester', 'sleep_hours', 'exercise_frequency', 'mental_health_rating', 'stress_level', 'exam_anxiety_score', 'screen_entertainment_hours', 'screen_productivity_hours', 'social_activity', 'screen_time', 'internet_quality', 'motivation_level', 'time_management_score', 'dropout_risk', 'exam_score', 'gender_Male', 'gender_Other', 'major_Biology', 'major_Business', 'major_Computer Science', 'major_Engineering', 'major_Psychology', 'access_to_tutoring_Yes', 'diet_quality_Good', 'diet_quality_Poor', 'parental_education_level_High School', 'parental_education_level_Master', 'parental_education_level_PhD', 'parental_education_level_Some College', 'family_income_range_Low', 'family_income_range_Medium', 'parental_support_level_10', 'parental_support_level_2', 'parental_support_level_3', 'parental_support_level_4', 'parental_support_level_5', 'parental_support_level_6', 'parental_support_level_7', 'parental_support_level_8', 'parental_support_level_9', 'learning_style_Kinesthetic', 'learning_style_Reading', 'learning_style_Visual', 'part_time_job_Yes', 'study_environment_Co-Learning Group', 'study_environment_Dorm', 'study_environment_Library', 'study_environment_Quiet Room']\n"
     ]
    }
   ],
   "source": [
    "from sklearn.model_selection import train_test_split\n",
    "from sklearn.preprocessing import StandardScaler\n",
    "\n",
    "numerical_cols = students.select_dtypes(include=[np.number]).columns\n",
    "print(\"Colonne numeriche:\")\n",
    "print(numerical_cols.tolist())\n",
    "\n",
    "categorical_cols = students.select_dtypes(include=['category']).columns\n",
    "print(\"Colonne categoriche:\")\n",
    "print(categorical_cols.tolist())\n",
    "\n",
    "students_encoded = pd.get_dummies(students, columns=categorical_cols, drop_first=True)\n",
    "\n",
    "print(\"Colonne dopo One-Hot Encoding:\")\n",
    "print(students_encoded.columns.tolist())"
   ]
  },
  {
   "cell_type": "markdown",
   "id": "cc4848b6",
   "metadata": {},
   "source": [
    "#### Selezione delle feature\n",
    "Per predire il punteggio d'esame (`exam_score`), selezioneremo le colonne più rilevanti. Escluderemo colonne come `student_id` che non hanno valore predittivo."
   ]
  },
  {
   "cell_type": "code",
   "execution_count": 214,
   "id": "04630ef6",
   "metadata": {},
   "outputs": [
    {
     "name": "stdout",
     "output_type": "stream",
     "text": [
      "Dimensioni del dataset delle feature: (80000, 52)\n",
      "Dimensioni del target: (80000,)\n"
     ]
    }
   ],
   "source": [
    "X = students_encoded.drop(columns=['student_id', 'exam_score'], errors='ignore')\n",
    "y = students_encoded['exam_score']\n",
    "\n",
    "print(\"Dimensioni del dataset delle feature:\", X.shape)\n",
    "print(\"Dimensioni del target:\", y.shape)"
   ]
  },
  {
   "cell_type": "markdown",
   "id": "8354b0bc",
   "metadata": {},
   "source": [
    "#### Suddivisione dei dati\n",
    "Divideremo i dati in un set di addestramento (70%) e un set di test (30%) per valutare le performance del modello."
   ]
  },
  {
   "cell_type": "code",
   "execution_count": 215,
   "id": "6519e567",
   "metadata": {},
   "outputs": [
    {
     "name": "stdout",
     "output_type": "stream",
     "text": [
      "Dimensioni del set di addestramento: (56000, 52) (56000,)\n",
      "Dimensioni del set di test: (24000, 52) (24000,)\n"
     ]
    }
   ],
   "source": [
    "X_train, X_test, y_train, y_test = train_test_split(X, y, test_size=0.3, random_state=42)\n",
    "\n",
    "print(\"Dimensioni del set di addestramento:\", X_train.shape, y_train.shape)\n",
    "print(\"Dimensioni del set di test:\", X_test.shape, y_test.shape)"
   ]
  },
  {
   "cell_type": "markdown",
   "id": "f2dcdd86",
   "metadata": {},
   "source": [
    "#### Standardizzazione dei dati numerici\n",
    "Standardizzeremo le feature numeriche per garantire che tutte abbiano media zero e varianza unitaria. Questo è particolarmente utile per algoritmi sensibili alle scale delle variabili."
   ]
  },
  {
   "cell_type": "code",
   "execution_count": 216,
   "id": "33f82ca5",
   "metadata": {},
   "outputs": [
    {
     "name": "stdout",
     "output_type": "stream",
     "text": [
      "Esempio di dati standardizzati (prime 5 righe):\n",
      "[[ 1.06655212  0.17938419  1.72923622 -0.13581513 -1.08501796  2.03150206\n",
      "   0.20971907 -2.19268722  1.11705122  0.83172701 -0.75777416 -0.27645622\n",
      "   0.29484412 -0.7100885  -0.52193377 -0.53449031  1.41652744 -0.70563941\n",
      "  -0.44493085 -0.44688773  2.24101605 -0.44369191 -0.451395   -0.9990005\n",
      "  -0.9970757   2.22695953  1.98813586 -0.49910698 -0.49673332 -0.50267716\n",
      "   1.41158493 -0.70575298 -0.32801667 -0.33909081 -0.33141201 -0.33270467\n",
      "   2.99465526 -0.33630163 -0.33111327 -0.33068147 -0.33270467 -0.57883489\n",
      "  -0.57883489 -0.57501337  1.00619778 -0.49726411 -0.50465536 -0.49609064\n",
      "  -0.50075324]\n",
      " [-0.53885917  1.35848686  0.88704074  0.38262507  1.52785292 -1.16533431\n",
      "  -0.22669235 -0.31457615 -0.26385547 -0.83531909  0.43645025  1.45073117\n",
      "  -0.8803353   1.37820286  0.87261231 -0.07345784 -0.70595173 -0.70563941\n",
      "   2.24754026 -0.44688773 -0.44622617 -0.44369191 -0.451395   -0.9990005\n",
      "   1.00293287 -0.44904274 -0.50298374  2.00357846 -0.49673332 -0.50267716\n",
      "   1.41158493 -0.70575298 -0.32801667 -0.33909081 -0.33141201 -0.33270467\n",
      "  -0.33392825 -0.33630163 -0.33111327 -0.33068147  3.00566866  1.72760838\n",
      "  -0.57883489 -0.57501337 -0.9938404  -0.49726411 -0.50465536  2.01576069\n",
      "  -0.50075324]\n",
      " [ 0.53141503  1.37962436  1.07163153  0.85786191 -0.64953948 -1.70947667\n",
      "  -0.66310377  0.46797013  0.34988084  0.83172701  1.19641124  1.21084403\n",
      "   1.47002355  1.70224807 -0.8705703   0.73334899  1.41652744 -0.70563941\n",
      "  -0.44493085 -0.44688773  2.24101605 -0.44369191 -0.451395   -0.9990005\n",
      "   1.00293287 -0.44904274 -0.50298374 -0.49910698 -0.49673332  1.98934841\n",
      "  -0.70842355 -0.70575298 -0.32801667 -0.33909081 -0.33141201 -0.33270467\n",
      "  -0.33392825 -0.33630163 -0.33111327  3.02405812 -0.33270467  1.72760838\n",
      "  -0.57883489 -0.57501337 -0.9938404   2.01100378 -0.50465536 -0.49609064\n",
      "  -0.50075324]\n",
      " [ 0.26384648  1.20877595 -1.10307871  0.85786191 -1.08501796  0.19502159\n",
      "   0.64613049  0.15495162 -1.23560461  0.27604497 -0.37779367  1.30679889\n",
      "   1.47002355  0.73011244  0.17533927  0.50283275  1.41652744 -0.70563941\n",
      "  -0.44493085 -0.44688773 -0.44622617 -0.44369191 -0.451395    1.0010005\n",
      "  -0.9970757  -0.44904274 -0.50298374 -0.49910698 -0.49673332  1.98934841\n",
      "  -0.70842355 -0.70575298  3.04862553 -0.33909081 -0.33141201 -0.33270467\n",
      "  -0.33392825 -0.33630163 -0.33111327 -0.33068147 -0.33270467 -0.57883489\n",
      "  -0.57883489  1.73909001 -0.9938404  -0.49726411 -0.50465536 -0.49609064\n",
      "   1.99699159]\n",
      " [-0.53885917  0.95925777 -1.19537411 -0.99988212  0.22141748 -1.84551226\n",
      "   0.64613049 -0.88844342  1.32162998  0.83172701  0.5450161   0.53916005\n",
      "   0.29484412  0.76611746 -0.52193377  1.57857519  1.41652744 -0.70563941\n",
      "  -0.44493085 -0.44688773 -0.44622617 -0.44369191 -0.451395    1.0010005\n",
      "  -0.9970757  -0.44904274  1.98813586 -0.49910698 -0.49673332 -0.50267716\n",
      "  -0.70842355 -0.70575298  3.04862553 -0.33909081 -0.33141201 -0.33270467\n",
      "  -0.33392825 -0.33630163 -0.33111327 -0.33068147 -0.33270467 -0.57883489\n",
      "   1.72760838 -0.57501337 -0.9938404  -0.49726411  1.98155034 -0.49609064\n",
      "  -0.50075324]]\n"
     ]
    }
   ],
   "source": [
    "non_numeric_cols = X_train.select_dtypes(include=['object']).columns\n",
    "if len(non_numeric_cols) > 0:\n",
    "\tX_train_numeric = X_train.drop(columns=non_numeric_cols)\n",
    "\tX_test_numeric = X_test.drop(columns=non_numeric_cols)\n",
    "else:\n",
    "\tX_train_numeric = X_train\n",
    "\tX_test_numeric = X_test\n",
    "\n",
    "scaler = StandardScaler()\n",
    "X_train_scaled = scaler.fit_transform(X_train_numeric)\n",
    "X_test_scaled = scaler.transform(X_test_numeric)\n",
    "\n",
    "print(\"Esempio di dati standardizzati (prime 5 righe):\")\n",
    "print(X_train_scaled[:5])"
   ]
  },
  {
   "attachments": {},
   "cell_type": "markdown",
   "id": "b583cba3",
   "metadata": {},
   "source": [
    "### Preparazione del modello\n"
   ]
  },
  {
   "attachments": {},
   "cell_type": "markdown",
   "id": "28dc6b58",
   "metadata": {},
   "source": [
    "#### Addestramento e Valutazione del Modello"
   ]
  },
  {
   "attachments": {},
   "cell_type": "markdown",
   "id": "3ec2ecdb",
   "metadata": {},
   "source": [
    "In questa sezione, andremo a:\n",
    "\n",
    "1. Scegliere e importare alcuni algoritmi di regressione.\n",
    "2. Addestrare questi modelli sul X_train_scaled e y_train.\n",
    "3. Fare previsioni sul X_test_scaled.\n",
    "4. Valutare le performance dei modelli usando metriche di regressione appropriate.\n",
    "\n",
    "Per la valutazione, useremo metriche comuni per i problemi di regressione:\n",
    "\n",
    "- MAE (Mean Absolute Error): La media del valore assoluto degli errori. È facile da interpretare, indica l'errore medio in unità della variabile target.\n",
    "- MSE (Mean Squared Error): La media dei quadrati degli errori. Penalizza maggiormente gli errori grandi.\n",
    "- RMSE (Root Mean Squared Error): La radice quadrata del MSE. È nella stessa unità della variabile target ed è interpretabile.\n",
    "- R² (R-squared): Il coefficiente di determinazione. Indica la proporzione della varianza nella variabile dipendente che è prevedibile dalle variabili indipendenti. Un valore più vicino a 1 indica un modello che spiega bene la variabilità dei dati."
   ]
  },
  {
   "attachments": {},
   "cell_type": "markdown",
   "id": "1e967b9c",
   "metadata": {},
   "source": [
    "# TODO verifcare librerie"
   ]
  },
  {
   "cell_type": "code",
   "execution_count": 217,
   "id": "c6ed64c5",
   "metadata": {},
   "outputs": [],
   "source": [
    "from sklearn.linear_model import LinearRegression, Ridge\n",
    "from sklearn.tree import DecisionTreeRegressor\n",
    "from sklearn.ensemble import RandomForestRegressor\n",
    "\n",
    "from sklearn.metrics import mean_absolute_error, mean_squared_error, r2_score\n"
   ]
  },
  {
   "cell_type": "code",
   "execution_count": 218,
   "id": "9ef196a6",
   "metadata": {},
   "outputs": [],
   "source": [
    "from sklearn.pipeline import Pipeline\n",
    "from sklearn.model_selection import GridSearchCV\n",
    "\n",
    "\n",
    "import warnings\n",
    "warnings.filterwarnings(\"ignore\") "
   ]
  },
  {
   "attachments": {},
   "cell_type": "markdown",
   "id": "15482f9b",
   "metadata": {},
   "source": [
    "Procediamo con i seguenti quattro passaggi su diversi modelli per poterli paragonare:\n",
    "1. Creazione del modello\n",
    "2. Addestramento del modello\n",
    "3. Effettuare previsioni sul set di test\n",
    "4. Valutazione delle performance"
   ]
  },
  {
   "attachments": {},
   "cell_type": "markdown",
   "id": "f9d26520",
   "metadata": {},
   "source": [
    "Cominciamo con un modello semplice come la Regressione Lineare per avere un punto di riferimento."
   ]
  },
  {
   "cell_type": "code",
   "execution_count": 219,
   "id": "202e041a",
   "metadata": {},
   "outputs": [],
   "source": [
    "lin_reg = LinearRegression()\n",
    "\n",
    "lin_reg.fit(X_train_scaled, y_train)\n",
    "\n",
    "y_pred_lin_reg = lin_reg.predict(X_test_scaled)\n",
    "\n",
    "mae_lin_reg = mean_absolute_error(y_test, y_pred_lin_reg)\n",
    "mse_lin_reg = mean_squared_error(y_test, y_pred_lin_reg)\n",
    "rmse_lin_reg = np.sqrt(mse_lin_reg)\n",
    "r2_lin_reg = r2_score(y_test, y_pred_lin_reg)\n"
   ]
  },
  {
   "attachments": {},
   "cell_type": "markdown",
   "id": "a2e17cfc",
   "metadata": {},
   "source": [
    "Passiamo poi al modello Ridge, in questo modello appere un iperparametro 'alpha' che adremo ad identificare grazie all'utilizzo delle Pipeline."
   ]
  },
  {
   "attachments": {},
   "cell_type": "markdown",
   "id": "d6750e8c",
   "metadata": {},
   "source": [
    "1. Definiamo la Pipeline per Ridge, abbiamo già i dati scalati (X_train_scaled, X_test_scaled), quindi non includiamo StandardScaler nella pipeline qui.\n",
    "2. Definizione della griglia di iperparametri da esplorare per Ridge, nello specifico 'alpha'. Esploriamo una gamma logaritmica di valori per alpha.\n",
    "3. Eseguiamo la Grid Search sul training set.\n",
    "4. stampiamo infine gli iperparametri ottimali per Ridge\n"
   ]
  },
  {
   "cell_type": "code",
   "execution_count": 220,
   "id": "166c66a9",
   "metadata": {},
   "outputs": [
    {
     "name": "stdout",
     "output_type": "stream",
     "text": [
      "Fitting 5 folds for each of 6 candidates, totalling 30 fits\n",
      "\n",
      "Grid Search per Ridge completata.\n",
      "Migliori parametri trovati per Ridge: {'ridge__alpha': 0.001}\n",
      "Miglior MAE (negativo) trovato in cross-validation per Ridge: -3.20\n"
     ]
    }
   ],
   "source": [
    "\n",
    "\n",
    "pipeline_ridge = Pipeline([\n",
    "    ('ridge', Ridge(random_state=42))\n",
    "])\n",
    "\n",
    "\n",
    "param_grid_ridge = {\n",
    "    'ridge__alpha': np.logspace(-3, 2, 6) \n",
    "}\n",
    "\n",
    "\n",
    "grid_search_ridge = GridSearchCV(pipeline_ridge, param_grid_ridge, cv=5,\n",
    "                                 scoring='neg_mean_absolute_error', n_jobs=-1, verbose=2)\n",
    "\n",
    "\n",
    "grid_search_ridge.fit(X_train_scaled, y_train)\n",
    "\n",
    "print(\"\\nGrid Search per Ridge completata.\")\n",
    "print(f\"Migliori parametri trovati per Ridge: {grid_search_ridge.best_params_}\")\n",
    "print(f\"Miglior MAE (negativo) trovato in cross-validation per Ridge: {grid_search_ridge.best_score_:.2f}\")\n",
    "\n",
    "best_ridge_model = grid_search_ridge.best_estimator_\n",
    "y_pred_best_ridge = best_ridge_model.predict(X_test_scaled)"
   ]
  },
  {
   "attachments": {},
   "cell_type": "markdown",
   "id": "226b3a63",
   "metadata": {},
   "source": [
    "Ora che abbiamo ottenuto il valore ottimale per 'alpha' procedaimo all'utilizzo di Ridge.\n"
   ]
  },
  {
   "cell_type": "code",
   "execution_count": 221,
   "id": "88efc772",
   "metadata": {},
   "outputs": [],
   "source": [
    "ridge_reg = Ridge(alpha=0.001, random_state=42)\n",
    "\n",
    "ridge_reg.fit(X_train_scaled, y_train)\n",
    "\n",
    "y_pred_ridge_reg = ridge_reg.predict(X_test_scaled)\n",
    "\n",
    "mae_ridge_reg = mean_absolute_error(y_test, y_pred_ridge_reg)\n",
    "mse_ridge_reg = mean_squared_error(y_test, y_pred_ridge_reg)\n",
    "rmse_ridge_reg = np.sqrt(mse_ridge_reg)\n",
    "r2_ridge_reg = r2_score(y_test, y_pred_ridge_reg)"
   ]
  },
  {
   "attachments": {},
   "cell_type": "markdown",
   "id": "55b1cc97",
   "metadata": {},
   "source": [
    "Ripetiamo il processo per un altro tipo di modello, ad esempio un RandomForestRegressor, che, al contrario dei precedenti non è più un modello lineare ma è un modello basato su ensemble learning ideato sul concetto di Bagging (Bootstrap Aggregating)."
   ]
  },
  {
   "attachments": {},
   "cell_type": "markdown",
   "id": "efe22958",
   "metadata": {},
   "source": [
    "Inizialmente non scegliamo un numero di alberi (n_estimators) e una profondità massima (max_depth) ma ci affidiamo a quelli di default del modello per avere un termine di paragone con le prestazioni basate sugli iperparametri ottenuti dall'utilizzo della pipeline. La profondità massima non è esplicitamente settata dunque si utilizzarà il valore di default none che permette una profondità massima indefinita ovvero che cresce fino a che tutte le foglie non sono pure (cioè, contengono un solo valore target, o tutti gli elementi in quella foglia hanno lo stesso valore target). Settiamo inoltre n_jobs a -1 così da usare tutti i core della CPU."
   ]
  },
  {
   "cell_type": "code",
   "execution_count": 222,
   "id": "6289c00b",
   "metadata": {},
   "outputs": [],
   "source": [
    "rf_reg = RandomForestRegressor(random_state=42, n_jobs=-1)\n",
    "\n",
    "rf_reg.fit(X_train_scaled, y_train)\n",
    "\n",
    "y_pred_rf_reg = rf_reg.predict(X_test_scaled)\n",
    "\n",
    "mae_rf_reg = mean_absolute_error(y_test, y_pred_rf_reg)\n",
    "mse_rf_reg = mean_squared_error(y_test, y_pred_rf_reg)\n",
    "rmse_rf_reg = np.sqrt(mse_rf_reg)\n",
    "r2_rf_reg = r2_score(y_test, y_pred_rf_reg)"
   ]
  },
  {
   "attachments": {},
   "cell_type": "markdown",
   "id": "cbf2cbdb",
   "metadata": {},
   "source": [
    "Notiamo che l'incremento delle prestazioni in termini di risultati non è minimamante rilevante in relazione alle risorse computazionili allocate in più, si denota dunque una scelta quantomeno opportuna dei dei valori iniziali per numero di alberi (n_estimators) e profondità massima (max_depth)."
   ]
  },
  {
   "attachments": {},
   "cell_type": "markdown",
   "id": "3bbbd1a9",
   "metadata": {},
   "source": [
    "Proceduamo ora ad utilizzare le pipeline per ricavare gli iperparametri più opportuni con cui settare il nostro modello. "
   ]
  },
  {
   "attachments": {},
   "cell_type": "markdown",
   "id": "19e21677",
   "metadata": {},
   "source": [
    "1. Definiamo la pipeline (non includendo StandardScaler perché X_train_scaled è già scalato).\n",
    "2. Definiamo la griglia di iperparametri da esplorare per RandomForest.\n",
    "3. Restituzione dei migliori iperparametri per Random Forest.\n"
   ]
  },
  {
   "cell_type": "code",
   "execution_count": 223,
   "id": "0fadb2b9",
   "metadata": {},
   "outputs": [
    {
     "data": {
      "text/plain": [
       "'pipeline_rf = Pipeline([\\n    (\\'regressor\\', RandomForestRegressor(random_state=42, n_jobs=-1))\\n])\\n\\nparam_grid_rf = {\\n    \\'regressor__n_estimators\\': [50, 100, 200], \\n    \\'regressor__max_depth\\': [10, 20, None], \\n    \\'regressor__min_samples_leaf\\': [1, 2, 4]\\n}\\n\\ngrid_search_rf = GridSearchCV(pipeline_rf, param_grid_rf, cv=5,\\n                              scoring=\\'neg_mean_absolute_error\\',\\n                              n_jobs=-1, verbose=2)\\n\\ngrid_search_rf.fit(X_train_scaled, y_train)\\n\\nprint(\"\\nGrid Search per RandomForest completata.\")\\nprint(f\"Migliori parametri trovati: {grid_search_rf.best_params_}\")\\nprint(f\"Miglior MAE (negativo) trovato in cross-validation: {grid_search_rf.best_score_:.2f}\")\\n\\n\\nbest_rf_model = grid_search_rf.best_estimator_\\ny_pred_best_rf = best_rf_model.predict(X_test_scaled)'"
      ]
     },
     "execution_count": 223,
     "metadata": {},
     "output_type": "execute_result"
    }
   ],
   "source": [
    "'''pipeline_rf = Pipeline([\n",
    "    ('regressor', RandomForestRegressor(random_state=42, n_jobs=-1))\n",
    "])\n",
    "\n",
    "param_grid_rf = {\n",
    "    'regressor__n_estimators': [50, 100, 200], \n",
    "    'regressor__max_depth': [10, 20, None], \n",
    "    'regressor__min_samples_leaf': [1, 2, 4]\n",
    "}\n",
    "\n",
    "grid_search_rf = GridSearchCV(pipeline_rf, param_grid_rf, cv=5,\n",
    "                              scoring='neg_mean_absolute_error',\n",
    "                              n_jobs=-1, verbose=2)\n",
    "\n",
    "grid_search_rf.fit(X_train_scaled, y_train)\n",
    "\n",
    "print(\"\\nGrid Search per RandomForest completata.\")\n",
    "print(f\"Migliori parametri trovati: {grid_search_rf.best_params_}\")\n",
    "print(f\"Miglior MAE (negativo) trovato in cross-validation: {grid_search_rf.best_score_:.2f}\")\n",
    "\n",
    "\n",
    "best_rf_model = grid_search_rf.best_estimator_\n",
    "y_pred_best_rf = best_rf_model.predict(X_test_scaled)'''"
   ]
  },
  {
   "cell_type": "code",
   "execution_count": 224,
   "id": "4eab6413",
   "metadata": {},
   "outputs": [],
   "source": [
    "rf_reg_opt = RandomForestRegressor(n_estimators=200,    \n",
    "                               max_depth=10,         \n",
    "                               min_samples_leaf=4,   \n",
    "                               random_state=120,     \n",
    "                               n_jobs=-1)            \n",
    "\n",
    "rf_reg_opt.fit(X_train_scaled, y_train)\n",
    "\n",
    "\n",
    "y_pred_rf_reg_opt = rf_reg_opt.predict(X_test_scaled)\n",
    "\n",
    "\n",
    "mae_rf_reg_opt = mean_absolute_error(y_test, y_pred_rf_reg_opt)\n",
    "mse_rf_reg_opt = mean_squared_error(y_test, y_pred_rf_reg_opt)\n",
    "rmse_rf_reg_opt = np.sqrt(mse_rf_reg_opt)\n",
    "r2_rf_reg_opt = r2_score(y_test, y_pred_rf_reg_opt)"
   ]
  },
  {
   "attachments": {},
   "cell_type": "markdown",
   "id": "342269e8",
   "metadata": {},
   "source": [
    "Dopo l'utilizzo delle pipeline siamo riusciti ad identificare un set di iperparametri per Random Forest opportuno per i nostri scopi infatti massimizza le prestazioni mantenedo un utilizzo delle risorse computazionali decisamente basso."
   ]
  },
  {
   "attachments": {},
   "cell_type": "markdown",
   "id": "b3d11ffb",
   "metadata": {},
   "source": [
    "Come per Random Forest inizialmente non applichiamo iperparametri specifici ma ci limitiamo a sfruttare i default per avere un metro di misura efficace con il modello trinato con gli iperparametri ottimali."
   ]
  },
  {
   "cell_type": "code",
   "execution_count": 225,
   "id": "ffb60b99",
   "metadata": {},
   "outputs": [],
   "source": [
    "dt_reg_default = DecisionTreeRegressor(random_state=42)\n",
    "dt_reg_default.fit(X_train_scaled, y_train)\n",
    "y_pred_dt_reg_default = dt_reg_default.predict(X_test_scaled)\n",
    "\n",
    "mae_dt_reg_default = mean_absolute_error(y_test, y_pred_dt_reg_default)\n",
    "mse_dt_reg_default = mean_squared_error(y_test, y_pred_dt_reg_default)\n",
    "rmse_dt_reg_default = np.sqrt(mse_dt_reg_default)\n",
    "r2_dt_reg_default = r2_score(y_test, y_pred_dt_reg_default)"
   ]
  },
  {
   "attachments": {},
   "cell_type": "markdown",
   "id": "aab54538",
   "metadata": {},
   "source": [
    "Notiamo risultsati abbastanza deludenti rispetto ai precedenti modelli"
   ]
  },
  {
   "attachments": {},
   "cell_type": "markdown",
   "id": "c3d74999",
   "metadata": {},
   "source": [
    "1. Definizione della Pipeline per DecisionTreeRegressor.\n",
    "2. Definizione della griglia di iperparametri da esplorare per DecisionTreeRegressor.\n",
    "3. Esecuzione della Grid Search sul training set."
   ]
  },
  {
   "cell_type": "code",
   "execution_count": 226,
   "id": "76ca2c55",
   "metadata": {},
   "outputs": [
    {
     "name": "stdout",
     "output_type": "stream",
     "text": [
      "Fitting 5 folds for each of 20 candidates, totalling 100 fits\n",
      "\n",
      "Grid Search per DecisionTreeRegressor completata.\n",
      "Migliori parametri trovati per DecisionTreeRegressor: {'dt_regressor__max_depth': 5, 'dt_regressor__min_samples_leaf': 1}\n",
      "Miglior MAE (negativo) trovato in cross-validation per DecisionTreeRegressor: -3.23\n"
     ]
    }
   ],
   "source": [
    "pipeline_dt = Pipeline([\n",
    "    ('dt_regressor', DecisionTreeRegressor(random_state=42)) # 'dt_regressor' è il nome dello step nella pipeline\n",
    "])\n",
    "\n",
    "param_grid_dt = {\n",
    "    'dt_regressor__max_depth': [5, 10, 15, 20, None], # Profondità massima dell'albero (None = illimitata)\n",
    "    'dt_regressor__min_samples_leaf': [1, 5, 10, 20] # Numero minimo di campioni richiesti per essere un nodo foglia\n",
    "}\n",
    "\n",
    "grid_search_dt = GridSearchCV(pipeline_dt, param_grid_dt, cv=5,\n",
    "                              scoring='neg_mean_absolute_error', n_jobs=-1, verbose=2)\n",
    "\n",
    "grid_search_dt.fit(X_train_scaled, y_train)\n",
    "\n",
    "print(\"\\nGrid Search per DecisionTreeRegressor completata.\")\n",
    "print(f\"Migliori parametri trovati per DecisionTreeRegressor: {grid_search_dt.best_params_}\")\n",
    "print(f\"Miglior MAE (negativo) trovato in cross-validation per DecisionTreeRegressor: {grid_search_dt.best_score_:.2f}\")\n"
   ]
  },
  {
   "cell_type": "code",
   "execution_count": 227,
   "id": "ac4bf1e4",
   "metadata": {},
   "outputs": [],
   "source": [
    "\n",
    "dt_reg_opt = DecisionTreeRegressor(\n",
    "    max_depth=5,           \n",
    "    min_samples_leaf=1,    \n",
    "    random_state=42        \n",
    ")\n",
    "\n",
    "dt_reg_opt.fit(X_train_scaled, y_train)\n",
    "\n",
    "y_pred_dt_reg_opt = dt_reg_opt.predict(X_test_scaled)\n",
    "\n",
    "mae_dt_reg_opt = mean_absolute_error(y_test, y_pred_dt_reg_opt)\n",
    "mse_dt_reg_opt = mean_squared_error(y_test, y_pred_dt_reg_opt)\n",
    "rmse_dt_reg_opt = np.sqrt(mse_dt_reg_opt)\n",
    "r2_dt_reg_opt = r2_score(y_test, y_pred_dt_reg_opt)"
   ]
  },
  {
   "cell_type": "code",
   "execution_count": 229,
   "id": "d455d160",
   "metadata": {},
   "outputs": [
    {
     "name": "stdout",
     "output_type": "stream",
     "text": [
      "\n",
      "Linear Regression:\n",
      "\n",
      "MAE (Mean Absolute Error): 3.20\n",
      "MSE (Mean Squared Error): 17.58\n",
      "RMSE (Root Mean Squared Error): 4.19\n",
      "R-squared: 0.87\n",
      "\n",
      "Ridge Regression:\n",
      "\n",
      "MAE (Mean Absolute Error): 3.20\n",
      "MSE (Mean Squared Error): 17.58\n",
      "RMSE (Root Mean Squared Error): 4.19\n",
      "R-squared: 0.87\n",
      "\n",
      "Random Forest Regressor (con iperparametri di default):\n",
      "\n",
      "MAE (Mean Absolute Error): 3.31\n",
      "MSE (Mean Squared Error): 17.84\n",
      "RMSE (Root Mean Squared Error): 4.22\n",
      "R-squared: 0.87\n",
      "\n",
      "Random Forest Regressor (con iperparametri ottimizzati):\n",
      "\n",
      "MAE (Mean Absolute Error): 3.23\n",
      "MSE (Mean Squared Error): 17.43\n",
      "RMSE (Root Mean Squared Error): 4.17\n",
      "R-squared: 0.87\n",
      "\n",
      "Decision Tree Regressor (con iperparametri di default):\n",
      "\n",
      "MAE (Mean Absolute Error): 4.48\n",
      "MSE (Mean Squared Error): 36.54\n",
      "RMSE (Root Mean Squared Error): 6.04\n",
      "R-squared: 0.73\n",
      "\n",
      "Decision Tree Regressor (con iperparametri ottimizzati):\n",
      "\n",
      "MAE (Mean Absolute Error): 3.24\n",
      "MSE (Mean Squared Error): 17.47\n",
      "RMSE (Root Mean Squared Error): 4.18\n",
      "R-squared: 0.87\n"
     ]
    }
   ],
   "source": [
    "print(\"\\nLinear Regression:\\n\")\n",
    "print(f\"MAE (Mean Absolute Error): {mae_lin_reg:.2f}\")\n",
    "print(f\"MSE (Mean Squared Error): {mse_lin_reg:.2f}\")\n",
    "print(f\"RMSE (Root Mean Squared Error): {rmse_lin_reg:.2f}\")\n",
    "print(f\"R-squared: {r2_lin_reg:.2f}\")\n",
    "\n",
    "print(\"\\nRidge Regression:\\n\")\n",
    "print(f\"MAE (Mean Absolute Error): {mae_ridge_reg:.2f}\")\n",
    "print(f\"MSE (Mean Squared Error): {mse_ridge_reg:.2f}\")\n",
    "print(f\"RMSE (Root Mean Squared Error): {rmse_ridge_reg:.2f}\")\n",
    "print(f\"R-squared: {r2_ridge_reg:.2f}\")\n",
    "\n",
    "print(\"\\nRandom Forest Regressor (con iperparametri di default):\\n\")\n",
    "print(f\"MAE (Mean Absolute Error): {mae_rf_reg:.2f}\")\n",
    "print(f\"MSE (Mean Squared Error): {mse_rf_reg:.2f}\")\n",
    "print(f\"RMSE (Root Mean Squared Error): {rmse_rf_reg:.2f}\")\n",
    "print(f\"R-squared: {r2_rf_reg:.2f}\")\n",
    "\n",
    "print(\"\\nRandom Forest Regressor (con iperparametri ottimizzati):\\n\") \n",
    "print(f\"MAE (Mean Absolute Error): {mae_rf_reg_opt:.2f}\")\n",
    "print(f\"MSE (Mean Squared Error): {mse_rf_reg_opt:.2f}\")\n",
    "print(f\"RMSE (Root Mean Squared Error): {rmse_rf_reg_opt:.2f}\")\n",
    "print(f\"R-squared: {r2_rf_reg_opt:.2f}\")\n",
    "\n",
    "print(\"\\nDecision Tree Regressor (con iperparametri di default):\\n\") \n",
    "print(f\"MAE (Mean Absolute Error): {mae_dt_reg_default:.2f}\")\n",
    "print(f\"MSE (Mean Squared Error): {mse_dt_reg_default:.2f}\")\n",
    "print(f\"RMSE (Root Mean Squared Error): {rmse_dt_reg_default:.2f}\")\n",
    "print(f\"R-squared: {r2_dt_reg_default:.2f}\")\n",
    "\n",
    "print(\"\\nDecision Tree Regressor (con iperparametri ottimizzati):\\n\") \n",
    "print(f\"MAE (Mean Absolute Error): {mae_dt_reg_opt:.2f}\")\n",
    "print(f\"MSE (Mean Squared Error): {mse_dt_reg_opt:.2f}\")\n",
    "print(f\"RMSE (Root Mean Squared Error): {rmse_dt_reg_opt:.2f}\")\n",
    "print(f\"R-squared: {r2_dt_reg_opt:.2f}\")"
   ]
  }
 ],
 "metadata": {
  "kernelspec": {
   "display_name": "py310",
   "language": "python",
   "name": "python3"
  },
  "language_info": {
   "codemirror_mode": {
    "name": "ipython",
    "version": 3
   },
   "file_extension": ".py",
   "mimetype": "text/x-python",
   "name": "python",
   "nbconvert_exporter": "python",
   "pygments_lexer": "ipython3",
   "version": "3.10.8"
  },
  "vscode": {
   "interpreter": {
    "hash": "30eef1dcfb837675ec28ded3b62cbdc631b763468d0e57f04da975e3db11727d"
   }
  }
 },
 "nbformat": 4,
 "nbformat_minor": 5
}
