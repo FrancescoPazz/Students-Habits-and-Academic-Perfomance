{
 "cells": [
  {
   "cell_type": "markdown",
   "id": "4c43bc42",
   "metadata": {},
   "source": [
    "# Progetto di  Applicazioni Data Intensive"
   ]
  },
  {
   "cell_type": "markdown",
   "id": "9b4cfd20",
   "metadata": {},
   "source": [
    "Progetto svolto nell'anno accademico 2024-2025 da:\n",
    "- Filippo Massari 0001071420\n",
    "- Francesco Pazzaglia 0001077423"
   ]
  },
  {
   "cell_type": "markdown",
   "id": "4fd01101",
   "metadata": {},
   "source": [
    "## Introduzione\n",
    "I dati presi in esame riguardano lo stile di vita di circa 80.000 studenti includendo dati come: l'ambiente di studio, la salute mentale, background familiare, motivazione e fattori ambientali.\n",
    "\n",
    "Il dataset è stato preso su [Kaggle](https://www.kaggle.com/datasets/aryan208/student-habits-and-academic-performance-dataset).\n",
    "\n",
    "Ci poniamo come obiettivo quello di sfruttare i dati precedentemente descritti per ricavarne una predizione delle performance studentesche del soggetto preso in analisi. "
   ]
  },
  {
   "cell_type": "markdown",
   "id": "88e4d860",
   "metadata": {},
   "source": [
    "## Implementazione"
   ]
  },
  {
   "cell_type": "markdown",
   "id": "7baae5a7",
   "metadata": {},
   "source": [
    "### Caricamento delle librerie"
   ]
  },
  {
   "cell_type": "markdown",
   "id": "0118dd35",
   "metadata": {},
   "source": [
    "Per prima cosa importiamo le librerie che ci serviranno per poter manipolare ed effettuare operazioni sui dati ottenuti all'interno del dataset. Tra cui:\n",
    "\n",
    "- *NumPy* per l'elaborazione numerica in Python di array e matrici;\n",
    "\n",
    "- *pandas* per l'importazione ed esportazione dei dati;\n",
    "\n",
    "- *matplotlib* per la rappresentazione grafica dei risultati ottenuti;\n",
    "    - importiamo il modulo di matplotlib inline per far in modo che gli output vengano renderizzati direttamente nel file Jupyter piuttosto che all'esterno"
   ]
  },
  {
   "cell_type": "code",
   "execution_count": 4,
   "id": "189a5bd7",
   "metadata": {},
   "outputs": [],
   "source": [
    "import numpy as np\n",
    "import pandas as pd\n",
    "import matplotlib.pyplot as plt\n",
    "\n",
    "%matplotlib inline"
   ]
  },
  {
   "cell_type": "markdown",
   "id": "524a4a1d",
   "metadata": {},
   "source": [
    "### Caricamento dei dati"
   ]
  },
  {
   "cell_type": "markdown",
   "id": "88a20f01",
   "metadata": {},
   "source": [
    "Carichiamo il dataset delle abitudini degli studenti, che contiene informazioni dettagliate sulle loro routine quotidiane, le attività accademiche, lo stile di vita e altri fattori che possono influenzare le loro performance scolastiche."
   ]
  },
  {
   "cell_type": "code",
   "execution_count": 5,
   "id": "747d0d69",
   "metadata": {},
   "outputs": [],
   "source": [
    "import os.path\n",
    "file = \"./data/enhanced_student_habits_performance_dataset.csv\"\n",
    "if not os.path.exists(file):\n",
    "    print(\"Missing datasets, retrievit from kaggle: https://www.kaggle.com/datasets/aryan208/student-habits-and-academic-performance-dataset\")\n",
    "    \n",
    "students = pd.read_csv(file, index_col=0)"
   ]
  },
  {
   "cell_type": "code",
   "execution_count": 6,
   "id": "b9462c29",
   "metadata": {},
   "outputs": [
    {
     "name": "stdout",
     "output_type": "stream",
     "text": [
      "['age', 'gender', 'major', 'study_hours_per_day', 'social_media_hours', 'netflix_hours', 'part_time_job', 'attendance_percentage', 'sleep_hours', 'diet_quality', 'exercise_frequency', 'parental_education_level', 'internet_quality', 'mental_health_rating', 'extracurricular_participation', 'previous_gpa', 'semester', 'stress_level', 'dropout_risk', 'social_activity', 'screen_time', 'study_environment', 'access_to_tutoring', 'family_income_range', 'parental_support_level', 'motivation_level', 'exam_anxiety_score', 'learning_style', 'time_management_score', 'exam_score']\n"
     ]
    }
   ],
   "source": [
    "print(students.columns.tolist())"
   ]
  },
  {
   "cell_type": "markdown",
   "id": "3b2eb206",
   "metadata": {},
   "source": [
    "### Significato delle colonne del Dataset"
   ]
  },
  {
   "attachments": {},
   "cell_type": "markdown",
   "id": "63dde003",
   "metadata": {},
   "source": [
    "| #  | Variabile                          | Descrizione                                                                 |\n",
    "|----|------------------------------------|-----------------------------------------------------------------------------|\n",
    "| 0  | **student_id**                     | Codice unico ed identificativo dello studente                               |\n",
    "| 1  | **age**                            | Età dello studente (16–28 anni)                                             |\n",
    "| 2  | **gender**                         | Genere: Maschile, Femminile o Altro                                         |\n",
    "| 3  | **major**                          | Corso di laurea o area di studio (es. Informatica, Ingegneria, Arti)        |\n",
    "| 4  | **study_hours_per_day**            | Ore medie di studio giornaliere                                             |\n",
    "| 5  | **social_media_hours**             | Ore trascorse sui social media                                              |\n",
    "| 6  | **netflix_hours**                  | Ore trascorse a guardare Netflix                                            |\n",
    "| 7  | **part_time_job**                  | Se lo studente ha un lavoro part-time (Sì/No)                               |\n",
    "| 8  | **attendance_percentage**          | Percentuale di frequenza alle lezioni                                       |\n",
    "| 9  | **sleep_hours**                    | Ore di sonno giornaliere                                                    |\n",
    "| 10 | **diet_quality**                   | Qualità della dieta                                                         |\n",
    "| 11 | **exercise_frequency**             | Frequenza dell’attività fisica                                              |\n",
    "| 12 | **parental_education_level**       | Livello di istruzione dei genitori                                          |\n",
    "| 13 | **internet_quality**               | Qualità della rete Internet                                                 |\n",
    "| 14 | **mental_health_rating**           | Valutazione dello stato di salute mentale (1–10)                            |\n",
    "| 15 | **extracurricular_participation**  | Partecipazione ad attività extracurriculari                                 |\n",
    "| 16 | **previous_gpa**                   | Media dei voti precedenti                                                   |\n",
    "| 17 | **semester**                       | Semestre dello studente                                                     |\n",
    "| 18 | **stress_level**                   | Livello di stress (1–10)                                                    |\n",
    "| 19 | **dropout_risk**                   | Rischio di abbandono degli studi (Sì/No) — derivato da stress e motivazione |\n",
    "| 20 | **social_activity**                | Numero di eventi sociali settimanali                                        |\n",
    "| 21 | **screen_time**                    | Tempo complessivo trascorso davanti agli schermi                            |\n",
    "| 22 | **study_environment**              | Ambiente abituale di studio                                                 |\n",
    "| 23 | **access_to_tutoring**             | Accesso a servizi di tutoraggio (Sì/No)                                     |\n",
    "| 24 | **family_income_range**            | Fascia di reddito familiare                                                 |\n",
    "| 25 | **parental_support_level**         | Livello di supporto da parte dei genitori                                   |\n",
    "| 26 | **motivation_level**               | Livello di motivazione (1–10)                                               |\n",
    "| 27 | **exam_anxiety_score**             | Punteggio di ansia da esame (1–10)                                          |\n",
    "| 28 | **learning_style**                 | Stile di apprendimento preferito                                            |\n",
    "| 29 | **time_management_score**          | Punteggio di capacità di gestione del tempo (1–10)                          |\n",
    "|    |                                              |\n",
    "| 30 | **exam_score**                     | **Valore da predire: punteggio all’esame**                                  |"
   ]
  },
  {
   "cell_type": "code",
   "execution_count": 7,
   "id": "24d7c8c4",
   "metadata": {},
   "outputs": [
    {
     "data": {
      "text/html": [
       "<div>\n",
       "<style scoped>\n",
       "    .dataframe tbody tr th:only-of-type {\n",
       "        vertical-align: middle;\n",
       "    }\n",
       "\n",
       "    .dataframe tbody tr th {\n",
       "        vertical-align: top;\n",
       "    }\n",
       "\n",
       "    .dataframe thead th {\n",
       "        text-align: right;\n",
       "    }\n",
       "</style>\n",
       "<table border=\"1\" class=\"dataframe\">\n",
       "  <thead>\n",
       "    <tr style=\"text-align: right;\">\n",
       "      <th></th>\n",
       "      <th>age</th>\n",
       "      <th>gender</th>\n",
       "      <th>major</th>\n",
       "      <th>study_hours_per_day</th>\n",
       "      <th>social_media_hours</th>\n",
       "      <th>netflix_hours</th>\n",
       "      <th>part_time_job</th>\n",
       "      <th>attendance_percentage</th>\n",
       "      <th>sleep_hours</th>\n",
       "      <th>diet_quality</th>\n",
       "      <th>...</th>\n",
       "      <th>screen_time</th>\n",
       "      <th>study_environment</th>\n",
       "      <th>access_to_tutoring</th>\n",
       "      <th>family_income_range</th>\n",
       "      <th>parental_support_level</th>\n",
       "      <th>motivation_level</th>\n",
       "      <th>exam_anxiety_score</th>\n",
       "      <th>learning_style</th>\n",
       "      <th>time_management_score</th>\n",
       "      <th>exam_score</th>\n",
       "    </tr>\n",
       "    <tr>\n",
       "      <th>student_id</th>\n",
       "      <th></th>\n",
       "      <th></th>\n",
       "      <th></th>\n",
       "      <th></th>\n",
       "      <th></th>\n",
       "      <th></th>\n",
       "      <th></th>\n",
       "      <th></th>\n",
       "      <th></th>\n",
       "      <th></th>\n",
       "      <th></th>\n",
       "      <th></th>\n",
       "      <th></th>\n",
       "      <th></th>\n",
       "      <th></th>\n",
       "      <th></th>\n",
       "      <th></th>\n",
       "      <th></th>\n",
       "      <th></th>\n",
       "      <th></th>\n",
       "      <th></th>\n",
       "    </tr>\n",
       "  </thead>\n",
       "  <tbody>\n",
       "    <tr>\n",
       "      <th>100000</th>\n",
       "      <td>26</td>\n",
       "      <td>Male</td>\n",
       "      <td>Computer Science</td>\n",
       "      <td>7.645367</td>\n",
       "      <td>3.0</td>\n",
       "      <td>0.1</td>\n",
       "      <td>Yes</td>\n",
       "      <td>70.3</td>\n",
       "      <td>6.2</td>\n",
       "      <td>Poor</td>\n",
       "      <td>...</td>\n",
       "      <td>10.9</td>\n",
       "      <td>Co-Learning Group</td>\n",
       "      <td>Yes</td>\n",
       "      <td>High</td>\n",
       "      <td>9</td>\n",
       "      <td>7</td>\n",
       "      <td>8</td>\n",
       "      <td>Reading</td>\n",
       "      <td>3.0</td>\n",
       "      <td>100</td>\n",
       "    </tr>\n",
       "    <tr>\n",
       "      <th>100001</th>\n",
       "      <td>28</td>\n",
       "      <td>Male</td>\n",
       "      <td>Arts</td>\n",
       "      <td>5.700000</td>\n",
       "      <td>0.5</td>\n",
       "      <td>0.4</td>\n",
       "      <td>No</td>\n",
       "      <td>88.4</td>\n",
       "      <td>7.2</td>\n",
       "      <td>Good</td>\n",
       "      <td>...</td>\n",
       "      <td>8.3</td>\n",
       "      <td>Co-Learning Group</td>\n",
       "      <td>Yes</td>\n",
       "      <td>Low</td>\n",
       "      <td>7</td>\n",
       "      <td>2</td>\n",
       "      <td>10</td>\n",
       "      <td>Reading</td>\n",
       "      <td>6.0</td>\n",
       "      <td>99</td>\n",
       "    </tr>\n",
       "    <tr>\n",
       "      <th>100002</th>\n",
       "      <td>17</td>\n",
       "      <td>Male</td>\n",
       "      <td>Arts</td>\n",
       "      <td>2.400000</td>\n",
       "      <td>4.2</td>\n",
       "      <td>0.7</td>\n",
       "      <td>No</td>\n",
       "      <td>82.1</td>\n",
       "      <td>9.2</td>\n",
       "      <td>Good</td>\n",
       "      <td>...</td>\n",
       "      <td>8.0</td>\n",
       "      <td>Library</td>\n",
       "      <td>Yes</td>\n",
       "      <td>High</td>\n",
       "      <td>3</td>\n",
       "      <td>9</td>\n",
       "      <td>6</td>\n",
       "      <td>Kinesthetic</td>\n",
       "      <td>7.6</td>\n",
       "      <td>98</td>\n",
       "    </tr>\n",
       "    <tr>\n",
       "      <th>100003</th>\n",
       "      <td>27</td>\n",
       "      <td>Other</td>\n",
       "      <td>Psychology</td>\n",
       "      <td>3.400000</td>\n",
       "      <td>4.6</td>\n",
       "      <td>2.3</td>\n",
       "      <td>Yes</td>\n",
       "      <td>79.3</td>\n",
       "      <td>4.2</td>\n",
       "      <td>Fair</td>\n",
       "      <td>...</td>\n",
       "      <td>11.7</td>\n",
       "      <td>Co-Learning Group</td>\n",
       "      <td>Yes</td>\n",
       "      <td>Low</td>\n",
       "      <td>5</td>\n",
       "      <td>3</td>\n",
       "      <td>10</td>\n",
       "      <td>Reading</td>\n",
       "      <td>3.2</td>\n",
       "      <td>100</td>\n",
       "    </tr>\n",
       "    <tr>\n",
       "      <th>100004</th>\n",
       "      <td>25</td>\n",
       "      <td>Female</td>\n",
       "      <td>Business</td>\n",
       "      <td>4.700000</td>\n",
       "      <td>0.8</td>\n",
       "      <td>2.7</td>\n",
       "      <td>Yes</td>\n",
       "      <td>62.9</td>\n",
       "      <td>6.5</td>\n",
       "      <td>Good</td>\n",
       "      <td>...</td>\n",
       "      <td>9.4</td>\n",
       "      <td>Quiet Room</td>\n",
       "      <td>Yes</td>\n",
       "      <td>Medium</td>\n",
       "      <td>9</td>\n",
       "      <td>1</td>\n",
       "      <td>10</td>\n",
       "      <td>Reading</td>\n",
       "      <td>7.1</td>\n",
       "      <td>98</td>\n",
       "    </tr>\n",
       "    <tr>\n",
       "      <th>...</th>\n",
       "      <td>...</td>\n",
       "      <td>...</td>\n",
       "      <td>...</td>\n",
       "      <td>...</td>\n",
       "      <td>...</td>\n",
       "      <td>...</td>\n",
       "      <td>...</td>\n",
       "      <td>...</td>\n",
       "      <td>...</td>\n",
       "      <td>...</td>\n",
       "      <td>...</td>\n",
       "      <td>...</td>\n",
       "      <td>...</td>\n",
       "      <td>...</td>\n",
       "      <td>...</td>\n",
       "      <td>...</td>\n",
       "      <td>...</td>\n",
       "      <td>...</td>\n",
       "      <td>...</td>\n",
       "      <td>...</td>\n",
       "      <td>...</td>\n",
       "    </tr>\n",
       "    <tr>\n",
       "      <th>179995</th>\n",
       "      <td>16</td>\n",
       "      <td>Male</td>\n",
       "      <td>Engineering</td>\n",
       "      <td>3.700000</td>\n",
       "      <td>2.1</td>\n",
       "      <td>1.0</td>\n",
       "      <td>Yes</td>\n",
       "      <td>80.8</td>\n",
       "      <td>6.1</td>\n",
       "      <td>Fair</td>\n",
       "      <td>...</td>\n",
       "      <td>8.3</td>\n",
       "      <td>Library</td>\n",
       "      <td>No</td>\n",
       "      <td>Low</td>\n",
       "      <td>1</td>\n",
       "      <td>4</td>\n",
       "      <td>10</td>\n",
       "      <td>Auditory</td>\n",
       "      <td>5.3</td>\n",
       "      <td>88</td>\n",
       "    </tr>\n",
       "    <tr>\n",
       "      <th>179996</th>\n",
       "      <td>16</td>\n",
       "      <td>Female</td>\n",
       "      <td>Business</td>\n",
       "      <td>1.200000</td>\n",
       "      <td>0.4</td>\n",
       "      <td>2.9</td>\n",
       "      <td>No</td>\n",
       "      <td>99.5</td>\n",
       "      <td>4.1</td>\n",
       "      <td>Good</td>\n",
       "      <td>...</td>\n",
       "      <td>4.7</td>\n",
       "      <td>Co-Learning Group</td>\n",
       "      <td>No</td>\n",
       "      <td>Low</td>\n",
       "      <td>3</td>\n",
       "      <td>2</td>\n",
       "      <td>10</td>\n",
       "      <td>Kinesthetic</td>\n",
       "      <td>6.8</td>\n",
       "      <td>52</td>\n",
       "    </tr>\n",
       "    <tr>\n",
       "      <th>179997</th>\n",
       "      <td>26</td>\n",
       "      <td>Female</td>\n",
       "      <td>Arts</td>\n",
       "      <td>4.100000</td>\n",
       "      <td>1.6</td>\n",
       "      <td>1.6</td>\n",
       "      <td>Yes</td>\n",
       "      <td>46.1</td>\n",
       "      <td>8.3</td>\n",
       "      <td>Good</td>\n",
       "      <td>...</td>\n",
       "      <td>7.5</td>\n",
       "      <td>Dorm</td>\n",
       "      <td>No</td>\n",
       "      <td>Medium</td>\n",
       "      <td>7</td>\n",
       "      <td>1</td>\n",
       "      <td>10</td>\n",
       "      <td>Visual</td>\n",
       "      <td>1.3</td>\n",
       "      <td>89</td>\n",
       "    </tr>\n",
       "    <tr>\n",
       "      <th>179998</th>\n",
       "      <td>23</td>\n",
       "      <td>Other</td>\n",
       "      <td>Biology</td>\n",
       "      <td>3.800000</td>\n",
       "      <td>0.6</td>\n",
       "      <td>3.5</td>\n",
       "      <td>Yes</td>\n",
       "      <td>58.7</td>\n",
       "      <td>5.8</td>\n",
       "      <td>Good</td>\n",
       "      <td>...</td>\n",
       "      <td>9.3</td>\n",
       "      <td>Quiet Room</td>\n",
       "      <td>Yes</td>\n",
       "      <td>Low</td>\n",
       "      <td>2</td>\n",
       "      <td>8</td>\n",
       "      <td>7</td>\n",
       "      <td>Kinesthetic</td>\n",
       "      <td>3.7</td>\n",
       "      <td>96</td>\n",
       "    </tr>\n",
       "    <tr>\n",
       "      <th>179999</th>\n",
       "      <td>25</td>\n",
       "      <td>Other</td>\n",
       "      <td>Engineering</td>\n",
       "      <td>3.000000</td>\n",
       "      <td>4.5</td>\n",
       "      <td>3.4</td>\n",
       "      <td>Yes</td>\n",
       "      <td>97.7</td>\n",
       "      <td>5.3</td>\n",
       "      <td>Fair</td>\n",
       "      <td>...</td>\n",
       "      <td>12.2</td>\n",
       "      <td>Co-Learning Group</td>\n",
       "      <td>Yes</td>\n",
       "      <td>Medium</td>\n",
       "      <td>1</td>\n",
       "      <td>8</td>\n",
       "      <td>7</td>\n",
       "      <td>Reading</td>\n",
       "      <td>6.7</td>\n",
       "      <td>100</td>\n",
       "    </tr>\n",
       "  </tbody>\n",
       "</table>\n",
       "<p>80000 rows × 30 columns</p>\n",
       "</div>"
      ],
      "text/plain": [
       "            age  gender             major  study_hours_per_day  \\\n",
       "student_id                                                       \n",
       "100000       26    Male  Computer Science             7.645367   \n",
       "100001       28    Male              Arts             5.700000   \n",
       "100002       17    Male              Arts             2.400000   \n",
       "100003       27   Other        Psychology             3.400000   \n",
       "100004       25  Female          Business             4.700000   \n",
       "...         ...     ...               ...                  ...   \n",
       "179995       16    Male       Engineering             3.700000   \n",
       "179996       16  Female          Business             1.200000   \n",
       "179997       26  Female              Arts             4.100000   \n",
       "179998       23   Other           Biology             3.800000   \n",
       "179999       25   Other       Engineering             3.000000   \n",
       "\n",
       "            social_media_hours  netflix_hours part_time_job  \\\n",
       "student_id                                                    \n",
       "100000                     3.0            0.1           Yes   \n",
       "100001                     0.5            0.4            No   \n",
       "100002                     4.2            0.7            No   \n",
       "100003                     4.6            2.3           Yes   \n",
       "100004                     0.8            2.7           Yes   \n",
       "...                        ...            ...           ...   \n",
       "179995                     2.1            1.0           Yes   \n",
       "179996                     0.4            2.9            No   \n",
       "179997                     1.6            1.6           Yes   \n",
       "179998                     0.6            3.5           Yes   \n",
       "179999                     4.5            3.4           Yes   \n",
       "\n",
       "            attendance_percentage  sleep_hours diet_quality  ...  screen_time  \\\n",
       "student_id                                                   ...                \n",
       "100000                       70.3          6.2         Poor  ...         10.9   \n",
       "100001                       88.4          7.2         Good  ...          8.3   \n",
       "100002                       82.1          9.2         Good  ...          8.0   \n",
       "100003                       79.3          4.2         Fair  ...         11.7   \n",
       "100004                       62.9          6.5         Good  ...          9.4   \n",
       "...                           ...          ...          ...  ...          ...   \n",
       "179995                       80.8          6.1         Fair  ...          8.3   \n",
       "179996                       99.5          4.1         Good  ...          4.7   \n",
       "179997                       46.1          8.3         Good  ...          7.5   \n",
       "179998                       58.7          5.8         Good  ...          9.3   \n",
       "179999                       97.7          5.3         Fair  ...         12.2   \n",
       "\n",
       "            study_environment access_to_tutoring  family_income_range  \\\n",
       "student_id                                                              \n",
       "100000      Co-Learning Group                Yes                 High   \n",
       "100001      Co-Learning Group                Yes                  Low   \n",
       "100002                Library                Yes                 High   \n",
       "100003      Co-Learning Group                Yes                  Low   \n",
       "100004             Quiet Room                Yes               Medium   \n",
       "...                       ...                ...                  ...   \n",
       "179995                Library                 No                  Low   \n",
       "179996      Co-Learning Group                 No                  Low   \n",
       "179997                   Dorm                 No               Medium   \n",
       "179998             Quiet Room                Yes                  Low   \n",
       "179999      Co-Learning Group                Yes               Medium   \n",
       "\n",
       "           parental_support_level  motivation_level  exam_anxiety_score  \\\n",
       "student_id                                                                \n",
       "100000                          9                 7                   8   \n",
       "100001                          7                 2                  10   \n",
       "100002                          3                 9                   6   \n",
       "100003                          5                 3                  10   \n",
       "100004                          9                 1                  10   \n",
       "...                           ...               ...                 ...   \n",
       "179995                          1                 4                  10   \n",
       "179996                          3                 2                  10   \n",
       "179997                          7                 1                  10   \n",
       "179998                          2                 8                   7   \n",
       "179999                          1                 8                   7   \n",
       "\n",
       "            learning_style time_management_score  exam_score  \n",
       "student_id                                                    \n",
       "100000             Reading                   3.0         100  \n",
       "100001             Reading                   6.0          99  \n",
       "100002         Kinesthetic                   7.6          98  \n",
       "100003             Reading                   3.2         100  \n",
       "100004             Reading                   7.1          98  \n",
       "...                    ...                   ...         ...  \n",
       "179995            Auditory                   5.3          88  \n",
       "179996         Kinesthetic                   6.8          52  \n",
       "179997              Visual                   1.3          89  \n",
       "179998         Kinesthetic                   3.7          96  \n",
       "179999             Reading                   6.7         100  \n",
       "\n",
       "[80000 rows x 30 columns]"
      ]
     },
     "execution_count": 7,
     "metadata": {},
     "output_type": "execute_result"
    }
   ],
   "source": [
    "students"
   ]
  },
  {
   "cell_type": "markdown",
   "id": "836d5248",
   "metadata": {},
   "source": [
    "### Preparazione dei dati"
   ]
  },
  {
   "attachments": {},
   "cell_type": "markdown",
   "id": "10f55f98",
   "metadata": {},
   "source": [
    "Procediamo a verificare la presenza o meno di tutti i valori delle colonne del dataset."
   ]
  },
  {
   "cell_type": "code",
   "execution_count": 8,
   "id": "36bbe24c",
   "metadata": {},
   "outputs": [
    {
     "name": "stdout",
     "output_type": "stream",
     "text": [
      "Valori mancanti per colonna:\n",
      "Series([], dtype: int64)\n"
     ]
    }
   ],
   "source": [
    "missing_values = students.isnull().sum()\n",
    "print(\"Valori mancanti per colonna:\")\n",
    "print(missing_values[missing_values > 0])"
   ]
  },
  {
   "attachments": {},
   "cell_type": "markdown",
   "id": "12f9921f",
   "metadata": {},
   "source": [
    "Il dataset non contiene valori mancanti, questo ci permette di utilizzare tutte le colonne senza problemi."
   ]
  },
  {
   "cell_type": "markdown",
   "id": "73181c54",
   "metadata": {},
   "source": [
    "Visualizziamo ora le informazioni presenti nel dataset, così da verificarne le features e il loro peso complessivo in memoria."
   ]
  },
  {
   "cell_type": "code",
   "execution_count": 9,
   "id": "66d2949b",
   "metadata": {},
   "outputs": [
    {
     "name": "stdout",
     "output_type": "stream",
     "text": [
      "<class 'pandas.core.frame.DataFrame'>\n",
      "Index: 80000 entries, 100000 to 179999\n",
      "Columns: 30 entries, age to exam_score\n",
      "dtypes: float64(10), int64(8), object(12)\n",
      "memory usage: 68.4 MB\n"
     ]
    }
   ],
   "source": [
    "students.info(verbose=False, memory_usage=\"deep\")"
   ]
  },
  {
   "cell_type": "markdown",
   "id": "b5cc4347",
   "metadata": {},
   "source": [
    "Notiamo che il dataset occupa abbastanza spazio in memoria quindi proviamo a ricaricarlo specificando quali dati gestire come categorici."
   ]
  },
  {
   "cell_type": "markdown",
   "id": "f3649017",
   "metadata": {},
   "source": [
    "Quindi definiamo l’elenco delle colonne da trattare come categorical e al caricamento ne specifichiamo il tipo. Andiamo infine a ricalcolare la dimensione del file costatando una netta diminuzione dello spazio occupato rispetto all'originale."
   ]
  },
  {
   "cell_type": "code",
   "execution_count": 10,
   "id": "d8ff6d0b",
   "metadata": {},
   "outputs": [
    {
     "name": "stdout",
     "output_type": "stream",
     "text": [
      "<class 'pandas.core.frame.DataFrame'>\n",
      "RangeIndex: 80000 entries, 0 to 79999\n",
      "Columns: 31 entries, student_id to exam_score\n",
      "dtypes: category(10), float64(10), int64(8), object(3)\n",
      "memory usage: 25.5 MB\n"
     ]
    }
   ],
   "source": [
    "cols_to_cat = [\n",
    "    'gender', 'major', 'part_time_job', 'diet_quality',\n",
    "    'study_environment', 'access_to_tutoring',\n",
    "    'family_income_range', 'parental_support_level',\n",
    "    'parental_education_level', 'learning_style'\n",
    "]\n",
    "\n",
    "dtype = {col: 'category' for col in cols_to_cat}\n",
    "students = pd.read_csv(file, dtype=dtype)\n",
    "\n",
    "for col in cols_to_cat:\n",
    "    students[col] = students[col].astype('category')\n",
    "\n",
    "students.info(verbose=False, memory_usage=\"deep\")"
   ]
  },
  {
   "attachments": {},
   "cell_type": "markdown",
   "id": "36277b99",
   "metadata": {},
   "source": [
    "Facendo questo passaggio, possiamo notare come siamo riusciti a ridurre lo spazio in memoria di circa 2/3, quindi da circa 60 MB a circa 20MB."
   ]
  },
  {
   "cell_type": "markdown",
   "id": "1e9ff54f",
   "metadata": {},
   "source": [
    "Andiamo ora a visualizzare la prima riga del nostro dataset e a definire tutte le colonne che possono essere rimosse o collassate con altre, così da preparare e rendere omogenei i dati."
   ]
  },
  {
   "cell_type": "code",
   "execution_count": 11,
   "id": "6d629f0b",
   "metadata": {},
   "outputs": [
    {
     "data": {
      "text/html": [
       "<div>\n",
       "<style scoped>\n",
       "    .dataframe tbody tr th:only-of-type {\n",
       "        vertical-align: middle;\n",
       "    }\n",
       "\n",
       "    .dataframe tbody tr th {\n",
       "        vertical-align: top;\n",
       "    }\n",
       "\n",
       "    .dataframe thead th {\n",
       "        text-align: right;\n",
       "    }\n",
       "</style>\n",
       "<table border=\"1\" class=\"dataframe\">\n",
       "  <thead>\n",
       "    <tr style=\"text-align: right;\">\n",
       "      <th></th>\n",
       "      <th>student_id</th>\n",
       "      <th>age</th>\n",
       "      <th>gender</th>\n",
       "      <th>major</th>\n",
       "      <th>study_hours_per_day</th>\n",
       "      <th>social_media_hours</th>\n",
       "      <th>netflix_hours</th>\n",
       "      <th>part_time_job</th>\n",
       "      <th>attendance_percentage</th>\n",
       "      <th>sleep_hours</th>\n",
       "      <th>...</th>\n",
       "      <th>screen_time</th>\n",
       "      <th>study_environment</th>\n",
       "      <th>access_to_tutoring</th>\n",
       "      <th>family_income_range</th>\n",
       "      <th>parental_support_level</th>\n",
       "      <th>motivation_level</th>\n",
       "      <th>exam_anxiety_score</th>\n",
       "      <th>learning_style</th>\n",
       "      <th>time_management_score</th>\n",
       "      <th>exam_score</th>\n",
       "    </tr>\n",
       "  </thead>\n",
       "  <tbody>\n",
       "    <tr>\n",
       "      <th>0</th>\n",
       "      <td>100000</td>\n",
       "      <td>26</td>\n",
       "      <td>Male</td>\n",
       "      <td>Computer Science</td>\n",
       "      <td>7.645367</td>\n",
       "      <td>3.0</td>\n",
       "      <td>0.1</td>\n",
       "      <td>Yes</td>\n",
       "      <td>70.3</td>\n",
       "      <td>6.2</td>\n",
       "      <td>...</td>\n",
       "      <td>10.9</td>\n",
       "      <td>Co-Learning Group</td>\n",
       "      <td>Yes</td>\n",
       "      <td>High</td>\n",
       "      <td>9</td>\n",
       "      <td>7</td>\n",
       "      <td>8</td>\n",
       "      <td>Reading</td>\n",
       "      <td>3.0</td>\n",
       "      <td>100</td>\n",
       "    </tr>\n",
       "  </tbody>\n",
       "</table>\n",
       "<p>1 rows × 31 columns</p>\n",
       "</div>"
      ],
      "text/plain": [
       "   student_id  age gender             major  study_hours_per_day  \\\n",
       "0      100000   26   Male  Computer Science             7.645367   \n",
       "\n",
       "   social_media_hours  netflix_hours part_time_job  attendance_percentage  \\\n",
       "0                 3.0            0.1           Yes                   70.3   \n",
       "\n",
       "   sleep_hours  ... screen_time  study_environment access_to_tutoring  \\\n",
       "0          6.2  ...        10.9  Co-Learning Group                Yes   \n",
       "\n",
       "  family_income_range  parental_support_level motivation_level  \\\n",
       "0                High                       9                7   \n",
       "\n",
       "   exam_anxiety_score  learning_style  time_management_score exam_score  \n",
       "0                   8         Reading                    3.0        100  \n",
       "\n",
       "[1 rows x 31 columns]"
      ]
     },
     "execution_count": 11,
     "metadata": {},
     "output_type": "execute_result"
    }
   ],
   "source": [
    "students.head(1)"
   ]
  },
  {
   "attachments": {},
   "cell_type": "markdown",
   "id": "efbe0964",
   "metadata": {},
   "source": [
    "Riteniamo che alcune colonne del dataset siano assimilabili per similarità dei dati forniti, quindi procediamo ad accorparle per attinenza semantica. Procediamo dunque a unire le colonne \"social_media_hours\" e \"netflix_hours\" dato che entrambi fanno riferimento alle ore di intrattenimento, andiamo dunque a creare la colonna \"screen_entertainment_hours\" come somma delle due precedenti."
   ]
  },
  {
   "cell_type": "code",
   "execution_count": 12,
   "id": "dd908502",
   "metadata": {},
   "outputs": [],
   "source": [
    "students[\"screen_entertainment_hours\"] = students[\"social_media_hours\"] + students[\"netflix_hours\"]\n",
    "students.drop(columns=[\"social_media_hours\", \"netflix_hours\"], inplace=True)\n",
    "ent = students.pop(\"screen_entertainment_hours\")\n",
    "students.insert(loc=5, column=\"screen_entertainment_hours\", value=ent)"
   ]
  },
  {
   "attachments": {},
   "cell_type": "markdown",
   "id": "1b7de30b",
   "metadata": {},
   "source": [
    "Estraiamo inoltre il tempo di utilizzo di tecnologie dedicato ad attività produttive o con attinenza scolastica, dato interessante per i nostri fini. Lo ricaviamo in maniera molto semplice sottraendo al tempo di utilizzo di dispositivi elettronici quello dedicato all'intrattenimento."
   ]
  },
  {
   "cell_type": "code",
   "execution_count": 13,
   "id": "d1c4f55a",
   "metadata": {},
   "outputs": [],
   "source": [
    "students[\"screen_productivity_hours\"] = students[\"screen_time\"] - students[\"screen_entertainment_hours\"]\n",
    "prod = students.pop(\"screen_productivity_hours\")\n",
    "students.insert(loc=6, column=\"screen_productivity_hours\", value=prod)"
   ]
  },
  {
   "attachments": {},
   "cell_type": "markdown",
   "id": "a9f4038e",
   "metadata": {},
   "source": [
    "Per via dell'approsimazione decimale dovuta al cast implicito dei tipi di python diversi otteniamo, in alcuni isolati casi, dei valori fuori scala. Nello specifivo quando il valore dovrebbe risultare essere zero può accadere che le cifre decimali producano un'intorno molto stretto di zero che mando in over o under flow il dato. Proceduamo dunque ad identificare questi casi."
   ]
  },
  {
   "cell_type": "code",
   "execution_count": 14,
   "id": "e5cf2e70",
   "metadata": {},
   "outputs": [
    {
     "data": {
      "text/html": [
       "<div>\n",
       "<style scoped>\n",
       "    .dataframe tbody tr th:only-of-type {\n",
       "        vertical-align: middle;\n",
       "    }\n",
       "\n",
       "    .dataframe tbody tr th {\n",
       "        vertical-align: top;\n",
       "    }\n",
       "\n",
       "    .dataframe thead th {\n",
       "        text-align: right;\n",
       "    }\n",
       "</style>\n",
       "<table border=\"1\" class=\"dataframe\">\n",
       "  <thead>\n",
       "    <tr style=\"text-align: right;\">\n",
       "      <th></th>\n",
       "      <th>screen_productivity_hours</th>\n",
       "      <th>screen_time</th>\n",
       "      <th>screen_entertainment_hours</th>\n",
       "    </tr>\n",
       "  </thead>\n",
       "  <tbody>\n",
       "    <tr>\n",
       "      <th>33323</th>\n",
       "      <td>-5.551115e-17</td>\n",
       "      <td>0.3</td>\n",
       "      <td>0.3</td>\n",
       "    </tr>\n",
       "    <tr>\n",
       "      <th>34320</th>\n",
       "      <td>-4.440892e-16</td>\n",
       "      <td>3.8</td>\n",
       "      <td>3.8</td>\n",
       "    </tr>\n",
       "    <tr>\n",
       "      <th>42684</th>\n",
       "      <td>-8.881784e-16</td>\n",
       "      <td>6.3</td>\n",
       "      <td>6.3</td>\n",
       "    </tr>\n",
       "    <tr>\n",
       "      <th>45754</th>\n",
       "      <td>-4.440892e-16</td>\n",
       "      <td>3.3</td>\n",
       "      <td>3.3</td>\n",
       "    </tr>\n",
       "  </tbody>\n",
       "</table>\n",
       "</div>"
      ],
      "text/plain": [
       "       screen_productivity_hours  screen_time  screen_entertainment_hours\n",
       "33323              -5.551115e-17          0.3                         0.3\n",
       "34320              -4.440892e-16          3.8                         3.8\n",
       "42684              -8.881784e-16          6.3                         6.3\n",
       "45754              -4.440892e-16          3.3                         3.3"
      ]
     },
     "execution_count": 14,
     "metadata": {},
     "output_type": "execute_result"
    }
   ],
   "source": [
    "outlier_screen_productivity = students[(students['screen_productivity_hours'] < 0)]\n",
    "\n",
    "outlier_screen_productivity[[\"screen_productivity_hours\", \"screen_time\", \"screen_entertainment_hours\"]]"
   ]
  },
  {
   "cell_type": "markdown",
   "id": "6c8db42a",
   "metadata": {},
   "source": [
    "Essendo numericamente molto limitati ci limitiamo ad usare la funzione clip() per gestire queste poche eccezioni, ovvero 4 su 80.000 "
   ]
  },
  {
   "cell_type": "code",
   "execution_count": 15,
   "id": "e62ef5f4",
   "metadata": {},
   "outputs": [],
   "source": [
    "students[\"screen_productivity_hours\"] = students[\"screen_productivity_hours\"].clip(lower=0)"
   ]
  },
  {
   "cell_type": "markdown",
   "id": "27840cc1",
   "metadata": {},
   "source": [
    "Procediamo infine a verificare l'assenza di dati fuori scala."
   ]
  },
  {
   "cell_type": "code",
   "execution_count": 16,
   "id": "14174039",
   "metadata": {},
   "outputs": [
    {
     "data": {
      "text/html": [
       "<div>\n",
       "<style scoped>\n",
       "    .dataframe tbody tr th:only-of-type {\n",
       "        vertical-align: middle;\n",
       "    }\n",
       "\n",
       "    .dataframe tbody tr th {\n",
       "        vertical-align: top;\n",
       "    }\n",
       "\n",
       "    .dataframe thead th {\n",
       "        text-align: right;\n",
       "    }\n",
       "</style>\n",
       "<table border=\"1\" class=\"dataframe\">\n",
       "  <thead>\n",
       "    <tr style=\"text-align: right;\">\n",
       "      <th></th>\n",
       "      <th>screen_productivity_hours</th>\n",
       "      <th>screen_time</th>\n",
       "      <th>screen_entertainment_hours</th>\n",
       "    </tr>\n",
       "  </thead>\n",
       "  <tbody>\n",
       "  </tbody>\n",
       "</table>\n",
       "</div>"
      ],
      "text/plain": [
       "Empty DataFrame\n",
       "Columns: [screen_productivity_hours, screen_time, screen_entertainment_hours]\n",
       "Index: []"
      ]
     },
     "execution_count": 16,
     "metadata": {},
     "output_type": "execute_result"
    }
   ],
   "source": [
    "outlier_screen_productivity = students[(students['screen_productivity_hours'] < 0) ]\n",
    "\n",
    "outlier_screen_productivity[[\"screen_productivity_hours\", \"screen_time\", \"screen_entertainment_hours\"]]"
   ]
  },
  {
   "cell_type": "markdown",
   "id": "3ccea2ad",
   "metadata": {},
   "source": [
    "Definiamo ora delle categorie sulla base della attinenza semantica dei dati per poter raggruppare tutte le features affini tra loro. "
   ]
  },
  {
   "cell_type": "code",
   "execution_count": 17,
   "id": "42df8f25",
   "metadata": {},
   "outputs": [],
   "source": [
    "category_order = [\n",
    "    \"Identifiers\",\n",
    "    \"Demographics\",\n",
    "    \"Academic Engagement\",\n",
    "    \"Lifestyle & Health\",\n",
    "    \"Screen Activity\",\n",
    "    \"Family & Socioeconomic Support\",\n",
    "    \"Personal Skills\",\n",
    "    \"Behavior & Preferences\",\n",
    "    \"Outcomes\"\n",
    "]\n",
    "\n",
    "category_map = {\n",
    "    \"student_id\": \"Identifiers\",\n",
    "\n",
    "    \"age\":       \"Demographics\",\n",
    "    \"gender\":    \"Demographics\",\n",
    "    \"major\":     \"Demographics\",\n",
    "\n",
    "    \"semester\":                      \"Academic Engagement\",\n",
    "    \"study_hours_per_day\":           \"Academic Engagement\",\n",
    "    \"attendance_percentage\":         \"Academic Engagement\",\n",
    "    \"access_to_tutoring\":            \"Academic Engagement\",\n",
    "    \"extracurricular_participation\": \"Academic Engagement\",\n",
    "    \"previous_gpa\":                  \"Academic Engagement\",\n",
    "\n",
    "\n",
    "    \"sleep_hours\":          \"Lifestyle & Health\",\n",
    "    \"diet_quality\":         \"Lifestyle & Health\",\n",
    "    \"exercise_frequency\":   \"Lifestyle & Health\",\n",
    "    \"mental_health_rating\": \"Lifestyle & Health\",\n",
    "    \"stress_level\":         \"Lifestyle & Health\",\n",
    "    \"exam_anxiety_score\":   \"Lifestyle & Health\",\n",
    "\n",
    "    \"screen_time\":                \"Screen Activity\",\n",
    "    \"screen_productivity_hours\":  \"Screen Activity\",\n",
    "    \"screen_entertainment_hours\": \"Screen Activity\",\n",
    "    \"social_activity\":            \"Screen Activity\",\n",
    "\n",
    "    \"family_income_range\":      \"Family & Socioeconomic Support\",\n",
    "    \"parental_education_level\": \"Family & Socioeconomic Support\",\n",
    "    \"parental_support_level\":   \"Family & Socioeconomic Support\",\n",
    "    \"internet_quality\":         \"Family & Socioeconomic Support\",\n",
    "    \n",
    "    \n",
    "    \"time_management_score\": \"Personal Skills\",\n",
    "    \"motivation_level\":      \"Personal Skills\",\n",
    "    \"learning_style\":        \"Personal Skills\",\n",
    "\n",
    "    \n",
    "    \"part_time_job\":      \"Behavior & Preferences\",\n",
    "    \"dropout_risk\":       \"Behavior & Preferences\",\n",
    "    \"study_environment\":  \"Behavior & Preferences\",\n",
    "\n",
    "    \"exam_score\":   \"Outcomes\"\n",
    "}\n"
   ]
  },
  {
   "cell_type": "markdown",
   "id": "19c689a7",
   "metadata": {},
   "source": [
    "Procediamo ora ad assegare e riordinare i dati"
   ]
  },
  {
   "cell_type": "code",
   "execution_count": 18,
   "id": "3f7d29d8",
   "metadata": {},
   "outputs": [],
   "source": [
    "missing_cols = [col for col in students.columns if col not in category_map]\n",
    "if missing_cols:\n",
    "    raise ValueError(f\"The following columns are not present in category_map: {missing_cols}\")\n",
    "\n",
    "cols_sorted = sorted(\n",
    "    students.columns,\n",
    "    key=lambda col: category_order.index(category_map[col])\n",
    ")\n",
    "\n",
    "students = students[cols_sorted]"
   ]
  },
  {
   "cell_type": "code",
   "execution_count": 19,
   "id": "c75f2b39",
   "metadata": {},
   "outputs": [
    {
     "name": "stdout",
     "output_type": "stream",
     "text": [
      "['student_id', 'age', 'gender', 'major', 'study_hours_per_day', 'attendance_percentage', 'extracurricular_participation', 'previous_gpa', 'semester', 'access_to_tutoring', 'sleep_hours', 'diet_quality', 'exercise_frequency', 'mental_health_rating', 'stress_level', 'exam_anxiety_score', 'screen_entertainment_hours', 'screen_productivity_hours', 'social_activity', 'screen_time', 'parental_education_level', 'internet_quality', 'family_income_range', 'parental_support_level', 'motivation_level', 'learning_style', 'time_management_score', 'part_time_job', 'dropout_risk', 'study_environment', 'exam_score']\n"
     ]
    }
   ],
   "source": [
    "print(students.columns.tolist())"
   ]
  },
  {
   "cell_type": "markdown",
   "id": "e3d3a5e7",
   "metadata": {},
   "source": [
    "### Analisi generale dei dati"
   ]
  },
  {
   "cell_type": "markdown",
   "id": "20ebddef",
   "metadata": {},
   "source": [
    "Nella parte di analisi dei dati andiamo a visualizzare alcune statistiche dei dati appartenenti al dominio applicativo, tramite tabelle e grafici. Di conseguenza a ciò, andiamo a suddividere la parte di analisi sotto il punto di vista grafico e matematico."
   ]
  },
  {
   "cell_type": "markdown",
   "id": "661fcdd5-944c-4a2a-afcb-85816fb37c51",
   "metadata": {},
   "source": [
    "#### Aspetto grafico"
   ]
  },
  {
   "cell_type": "markdown",
   "id": "34dffcd5",
   "metadata": {},
   "source": [
    "Analizziamo alcune statistiche descrittive mediante l'utilizzo di grafici per poterne acquisire consapevolezza dei dati e delle caratteristiche del contesto applicativo facendo dei confronti interessanti sui dati correlati."
   ]
  },
  {
   "cell_type": "code",
   "execution_count": 20,
   "id": "bc8c1714",
   "metadata": {},
   "outputs": [],
   "source": [
    "CMAP = plt.get_cmap('viridis')"
   ]
  },
  {
   "cell_type": "code",
   "execution_count": 21,
   "id": "fbf47f86",
   "metadata": {},
   "outputs": [],
   "source": [
    "def plot_bar(data, feature, n=None, title=None):\n",
    "    rounded = np.round(data[feature] * 2) / 2\n",
    "    counts = rounded.value_counts()\n",
    "    if n is not None:\n",
    "        counts = counts.iloc[:n]\n",
    "    counts = counts.sort_index()\n",
    "    labels = counts.index.astype(str)\n",
    "    values = counts.values\n",
    "    colors = CMAP(np.linspace(0, 1, len(values)))\n",
    "    plt.figure(figsize=(10, 6))\n",
    "    plt.bar(labels, values, color=colors, edgecolor='black')\n",
    "    plt.title(title or f'Distribuzione di {feature}', fontsize=14)\n",
    "    plt.xlabel(feature, fontsize=12)\n",
    "    plt.ylabel('Frequenza', fontsize=12)\n",
    "    plt.xticks(rotation=45, ha='right')\n",
    "    plt.tight_layout()\n",
    "    plt.show()"
   ]
  },
  {
   "cell_type": "code",
   "execution_count": 22,
   "id": "614db346",
   "metadata": {},
   "outputs": [],
   "source": [
    "def plot_hist(data, feature, bins=20, title=None):\n",
    "    plt.figure(figsize=(10, 6))\n",
    "    plt.hist(data[feature].dropna(), bins=bins,\n",
    "             color=CMAP(0.6), edgecolor='black')\n",
    "    plt.title(title or f'Istogramma di {feature}', fontsize=14)\n",
    "    plt.xlabel(feature, fontsize=12)\n",
    "    plt.ylabel('Frequenza', fontsize=12)\n",
    "    plt.tight_layout()\n",
    "    plt.show()"
   ]
  },
  {
   "cell_type": "code",
   "execution_count": 23,
   "id": "d6b6e88f",
   "metadata": {},
   "outputs": [],
   "source": [
    "def plot_box(data, feature, title=None):\n",
    "    plt.figure(figsize=(10, 6))\n",
    "    plt.boxplot(data[feature].dropna(), vert=False, patch_artist=True,\n",
    "                boxprops=dict(facecolor='lightgreen', edgecolor='green'),\n",
    "                medianprops=dict(color='red'),\n",
    "                whiskerprops=dict(color='green'),\n",
    "                capprops=dict(color='green'))\n",
    "    plt.title(title or f'Boxplot di {feature}', fontsize=14)\n",
    "    plt.xlabel(feature, fontsize=12)\n",
    "    plt.tight_layout()\n",
    "    plt.show()"
   ]
  },
  {
   "cell_type": "code",
   "execution_count": 24,
   "id": "3eada832",
   "metadata": {},
   "outputs": [],
   "source": [
    "def plot_correlation_heatmap(data, features, title=None):\n",
    "    corr = data[features].corr()\n",
    "    plt.figure(figsize=(8,6))\n",
    "    im = plt.imshow(corr, cmap='coolwarm', vmin=-1, vmax=1)\n",
    "    plt.colorbar(im, fraction=0.046, pad=0.04, label='r di Pearson')\n",
    "    plt.xticks(range(len(features)), features, rotation=45, ha='right')\n",
    "    plt.yticks(range(len(features)), features)\n",
    "    plt.title(title or 'Matrice di correlazione', fontsize=14)\n",
    "    plt.tight_layout()\n",
    "    plt.show()"
   ]
  },
  {
   "cell_type": "code",
   "execution_count": 25,
   "id": "74c4981c",
   "metadata": {},
   "outputs": [],
   "source": [
    "def plot_line_trend(data, cat, num, title=None):\n",
    "    means = data.groupby(cat)[num].mean().sort_index()\n",
    "    plt.figure(figsize=(8,5))\n",
    "    plt.plot(means.index, means.values, marker='o', linestyle='-')\n",
    "    plt.title(title or f'Trend di {num} per {cat}', fontsize=14)\n",
    "    plt.xlabel(cat, fontsize=12)\n",
    "    plt.ylabel(f'Media di {num}', fontsize=12)\n",
    "    plt.grid(alpha=0.3)\n",
    "    plt.tight_layout()\n",
    "    plt.show()\n"
   ]
  },
  {
   "cell_type": "code",
   "execution_count": 26,
   "id": "babd524e",
   "metadata": {},
   "outputs": [
    {
     "data": {
      "image/png": "[encoded data removed]",
      "text/plain": [
       "<Figure size 1000x600 with 1 Axes>"
      ]
     },
     "metadata": {},
     "output_type": "display_data"
    }
   ],
   "source": [
    "plot_bar(students, 'sleep_hours', n=30, \n",
    "         title='Distribuzione delle ore di sonno')"
   ]
  },
  {
   "cell_type": "markdown",
   "id": "7fa34447",
   "metadata": {},
   "source": [
    "La maggior parte degli studenti dorme tra 6 e 8 ore a notte, con un picco a 7 ore. Sono pochi quelli che dormono meno di 5 o più di 9 ore. La curva è leggermente spostata verso destra a causa di un piccolo gruppo che dorme più a lungo."
   ]
  },
  {
   "cell_type": "code",
   "execution_count": 27,
   "id": "a9086f31",
   "metadata": {},
   "outputs": [
    {
     "data": {
      "image/png": "[encoded data removed]",
      "text/plain": [
       "<Figure size 1000x600 with 1 Axes>"
      ]
     },
     "metadata": {},
     "output_type": "display_data"
    }
   ],
   "source": [
    "plot_hist(students, 'study_hours_per_day', bins=20, \n",
    "          title='Istogramma delle ore di studio per giorno')"
   ]
  },
  {
   "cell_type": "markdown",
   "id": "9f203f30",
   "metadata": {},
   "source": [
    "La maggior parte degli studenti studia tra 2 e 6 ore al giorno, con un picco intorno alle 4 ore. Chi studia meno di un’ora o più di 8–9 ore è molto raro. La curva è un po’ spostata verso destra, perché c’è un piccolo gruppo di studenti che fa sessioni di studio più lunghe, ma la maggioranza si ferma a tempi moderati."
   ]
  },
  {
   "cell_type": "code",
   "execution_count": 28,
   "id": "8d1aef3d",
   "metadata": {},
   "outputs": [
    {
     "data": {
      "image/png": "[encoded data removed]",
      "text/plain": [
       "<Figure size 800x600 with 2 Axes>"
      ]
     },
     "metadata": {},
     "output_type": "display_data"
    }
   ],
   "source": [
    "num_feats = [\n",
    "    'study_hours_per_day', 'sleep_hours',\n",
    "    'previous_gpa', 'time_management_score',\n",
    "    'exam_anxiety_score', 'exam_score'\n",
    "]\n",
    "plot_correlation_heatmap(\n",
    "    students,\n",
    "    features=num_feats,\n",
    "    title='Correlazioni tra variabili chiave'\n",
    ")"
   ]
  },
  {
   "cell_type": "markdown",
   "id": "eec86d4c",
   "metadata": {},
   "source": [
    "Il grafico mostra quanto ogni variabile sia in correlazione con il punteggio d’esame:\n",
    "\n",
    "* La media dei voti precedenti (previous\\_gpa) è il fattore che predice meglio il risultato: più è alta, più sale anche il punteggio.\n",
    "* Ore di studio e sonno aiutano un po’ (leggero effetto positivo), ma non in modo drammatico.\n",
    "* L’ansia da esame fa l’opposto: più ansia, più basso tende a essere il punteggio.\n",
    "* La gestione del tempo non sembra influire quasi per niente sui risultati."
   ]
  },
  {
   "cell_type": "code",
   "execution_count": 29,
   "id": "9f48bfd0",
   "metadata": {},
   "outputs": [
    {
     "data": {
      "image/png": "[encoded data removed]",
      "text/plain": [
       "<Figure size 800x500 with 1 Axes>"
      ]
     },
     "metadata": {},
     "output_type": "display_data"
    }
   ],
   "source": [
    "plot_line_trend(\n",
    "    students,\n",
    "    cat='semester',\n",
    "    num='exam_score',\n",
    "    title='Trend del punteggio d’esame per semestre'\n",
    ")"
   ]
  },
  {
   "cell_type": "markdown",
   "id": "9f4db3c3",
   "metadata": {},
   "source": [
    "Il grafico mostra che la media del punteggio d’esame rimane molto stabile intorno a 89 nel corso dei diversi semestri, con una lieve flessione nel secondo semestre, un picco nel quinto e un calo più marcato nell’ottavo. In generale, le variazioni sono contenute, suggerendo performance accademiche costanti durante tutto il percorso di studi."
   ]
  },
  {
   "cell_type": "markdown",
   "id": "db2bf88f",
   "metadata": {},
   "source": [
    "#### Aspetto matematico"
   ]
  },
  {
   "cell_type": "markdown",
   "id": "bc08bb3c-49d6-4904-8e25-fc261332d823",
   "metadata": {},
   "source": [
    "Il metodo `.describe()` di Pandas è uno strumento fondamentale per ottenere una rapida panoramica statistica delle colonne numeriche di un dataset. Analizziamo i valori che estrae:\n",
    "\n",
    "1.  **`mean` (Media):** Dove si concentra la maggior parte dei dati per quella specifica variabile. Ad esempio, una `mean` di 22.00 per l'età indica che l'età media degli studenti nel dataset è di circa 22 anni.\n",
    "\n",
    "2.  **`std` (Deviazione Standard):** Quanto sono omogenei o eterogenei i valori di una feature. Ad esempio, per `attendance_percentage`, un `std` di 17.33 è relativamente alto e suggerisce una notevole variabilità nella frequenza degli studenti.\n",
    "\n",
    "1.  **`min` (Minimo):** Il limite inferiore del range di valori della feature. Ad esempio, il `min` di 4.00 per `sleep_hours` indica che ci sono studenti che dormono solo 4 ore al giorno.\n",
    "\n",
    "2.  **`25%` (Primo Quartile o Q1):** Il confine inferiore del 50% centrale dei dati. Insieme alla mediana e al terzo quartile, aiuta a capire la distribuzione dei dati (se sono simmetrici o asimmetrici).\n",
    "\n",
    "3.  **`50%` (Mediana o Secondo Quartile o Q2):** È una misura di tendenza centrale meno sensibile agli outlier rispetto alla media. Se media e mediana sono molto diverse, potrebbe indicare una distribuzione asimmetrica o la presenza di valori anomali.\n",
    "\n",
    "4.  **`75%` (Terzo Quartile o Q3):** Il confine superiore del 50% centrale dei dati. La differenza tra Q3 e Q1 (intervallo interquartile) è un'altra misura di dispersione.\n",
    "\n",
    "5.  **`max` (Massimo):** Il limite superiore del range di valori della feature. Ad esempio, un `max` di 12.00 per `study_hours_per_day` indica che ci sono studenti che studiano fino a 12 ore al giorno."
   ]
  },
  {
   "cell_type": "code",
   "execution_count": 30,
   "id": "5d1666e9",
   "metadata": {},
   "outputs": [
    {
     "data": {
      "text/html": [
       "<div>\n",
       "<style scoped>\n",
       "    .dataframe tbody tr th:only-of-type {\n",
       "        vertical-align: middle;\n",
       "    }\n",
       "\n",
       "    .dataframe tbody tr th {\n",
       "        vertical-align: top;\n",
       "    }\n",
       "\n",
       "    .dataframe thead th {\n",
       "        text-align: right;\n",
       "    }\n",
       "</style>\n",
       "<table border=\"1\" class=\"dataframe\">\n",
       "  <thead>\n",
       "    <tr style=\"text-align: right;\">\n",
       "      <th></th>\n",
       "      <th>age</th>\n",
       "      <th>study_hours_per_day</th>\n",
       "      <th>attendance_percentage</th>\n",
       "      <th>previous_gpa</th>\n",
       "      <th>semester</th>\n",
       "    </tr>\n",
       "  </thead>\n",
       "  <tbody>\n",
       "    <tr>\n",
       "      <th>mean</th>\n",
       "      <td>22.004288</td>\n",
       "      <td>4.174388</td>\n",
       "      <td>69.967884</td>\n",
       "      <td>3.602448</td>\n",
       "      <td>4.497338</td>\n",
       "    </tr>\n",
       "    <tr>\n",
       "      <th>std</th>\n",
       "      <td>3.745570</td>\n",
       "      <td>2.004135</td>\n",
       "      <td>17.333015</td>\n",
       "      <td>0.462876</td>\n",
       "      <td>2.295312</td>\n",
       "    </tr>\n",
       "    <tr>\n",
       "      <th>min</th>\n",
       "      <td>16.000000</td>\n",
       "      <td>0.000000</td>\n",
       "      <td>40.000000</td>\n",
       "      <td>1.640000</td>\n",
       "      <td>1.000000</td>\n",
       "    </tr>\n",
       "    <tr>\n",
       "      <th>25%</th>\n",
       "      <td>19.000000</td>\n",
       "      <td>2.800000</td>\n",
       "      <td>55.000000</td>\n",
       "      <td>3.270000</td>\n",
       "      <td>2.000000</td>\n",
       "    </tr>\n",
       "    <tr>\n",
       "      <th>50%</th>\n",
       "      <td>22.000000</td>\n",
       "      <td>4.125624</td>\n",
       "      <td>69.900000</td>\n",
       "      <td>3.790000</td>\n",
       "      <td>5.000000</td>\n",
       "    </tr>\n",
       "    <tr>\n",
       "      <th>75%</th>\n",
       "      <td>25.000000</td>\n",
       "      <td>5.500000</td>\n",
       "      <td>84.900000</td>\n",
       "      <td>4.000000</td>\n",
       "      <td>7.000000</td>\n",
       "    </tr>\n",
       "    <tr>\n",
       "      <th>max</th>\n",
       "      <td>28.000000</td>\n",
       "      <td>12.000000</td>\n",
       "      <td>100.000000</td>\n",
       "      <td>4.000000</td>\n",
       "      <td>8.000000</td>\n",
       "    </tr>\n",
       "  </tbody>\n",
       "</table>\n",
       "</div>"
      ],
      "text/plain": [
       "            age  study_hours_per_day  attendance_percentage  previous_gpa  \\\n",
       "mean  22.004288             4.174388              69.967884      3.602448   \n",
       "std    3.745570             2.004135              17.333015      0.462876   \n",
       "min   16.000000             0.000000              40.000000      1.640000   \n",
       "25%   19.000000             2.800000              55.000000      3.270000   \n",
       "50%   22.000000             4.125624              69.900000      3.790000   \n",
       "75%   25.000000             5.500000              84.900000      4.000000   \n",
       "max   28.000000            12.000000             100.000000      4.000000   \n",
       "\n",
       "      semester  \n",
       "mean  4.497338  \n",
       "std   2.295312  \n",
       "min   1.000000  \n",
       "25%   2.000000  \n",
       "50%   5.000000  \n",
       "75%   7.000000  \n",
       "max   8.000000  "
      ]
     },
     "metadata": {},
     "output_type": "display_data"
    },
    {
     "data": {
      "text/html": [
       "<div>\n",
       "<style scoped>\n",
       "    .dataframe tbody tr th:only-of-type {\n",
       "        vertical-align: middle;\n",
       "    }\n",
       "\n",
       "    .dataframe tbody tr th {\n",
       "        vertical-align: top;\n",
       "    }\n",
       "\n",
       "    .dataframe thead th {\n",
       "        text-align: right;\n",
       "    }\n",
       "</style>\n",
       "<table border=\"1\" class=\"dataframe\">\n",
       "  <thead>\n",
       "    <tr style=\"text-align: right;\">\n",
       "      <th></th>\n",
       "      <th>sleep_hours</th>\n",
       "      <th>exercise_frequency</th>\n",
       "      <th>mental_health_rating</th>\n",
       "      <th>stress_level</th>\n",
       "      <th>exam_anxiety_score</th>\n",
       "    </tr>\n",
       "  </thead>\n",
       "  <tbody>\n",
       "    <tr>\n",
       "      <th>mean</th>\n",
       "      <td>7.017417</td>\n",
       "      <td>3.516587</td>\n",
       "      <td>6.804107</td>\n",
       "      <td>5.012478</td>\n",
       "      <td>8.508475</td>\n",
       "    </tr>\n",
       "    <tr>\n",
       "      <th>std</th>\n",
       "      <td>1.467377</td>\n",
       "      <td>2.291575</td>\n",
       "      <td>1.921579</td>\n",
       "      <td>1.953174</td>\n",
       "      <td>1.796411</td>\n",
       "    </tr>\n",
       "    <tr>\n",
       "      <th>min</th>\n",
       "      <td>4.000000</td>\n",
       "      <td>0.000000</td>\n",
       "      <td>1.000000</td>\n",
       "      <td>1.000000</td>\n",
       "      <td>5.000000</td>\n",
       "    </tr>\n",
       "    <tr>\n",
       "      <th>25%</th>\n",
       "      <td>6.000000</td>\n",
       "      <td>2.000000</td>\n",
       "      <td>5.500000</td>\n",
       "      <td>3.600000</td>\n",
       "      <td>7.000000</td>\n",
       "    </tr>\n",
       "    <tr>\n",
       "      <th>50%</th>\n",
       "      <td>7.000000</td>\n",
       "      <td>4.000000</td>\n",
       "      <td>6.900000</td>\n",
       "      <td>5.000000</td>\n",
       "      <td>10.000000</td>\n",
       "    </tr>\n",
       "    <tr>\n",
       "      <th>75%</th>\n",
       "      <td>8.000000</td>\n",
       "      <td>6.000000</td>\n",
       "      <td>8.200000</td>\n",
       "      <td>6.400000</td>\n",
       "      <td>10.000000</td>\n",
       "    </tr>\n",
       "    <tr>\n",
       "      <th>max</th>\n",
       "      <td>12.000000</td>\n",
       "      <td>7.000000</td>\n",
       "      <td>10.000000</td>\n",
       "      <td>10.000000</td>\n",
       "      <td>10.000000</td>\n",
       "    </tr>\n",
       "  </tbody>\n",
       "</table>\n",
       "</div>"
      ],
      "text/plain": [
       "      sleep_hours  exercise_frequency  mental_health_rating  stress_level  \\\n",
       "mean     7.017417            3.516587              6.804107      5.012478   \n",
       "std      1.467377            2.291575              1.921579      1.953174   \n",
       "min      4.000000            0.000000              1.000000      1.000000   \n",
       "25%      6.000000            2.000000              5.500000      3.600000   \n",
       "50%      7.000000            4.000000              6.900000      5.000000   \n",
       "75%      8.000000            6.000000              8.200000      6.400000   \n",
       "max     12.000000            7.000000             10.000000     10.000000   \n",
       "\n",
       "      exam_anxiety_score  \n",
       "mean            8.508475  \n",
       "std             1.796411  \n",
       "min             5.000000  \n",
       "25%             7.000000  \n",
       "50%            10.000000  \n",
       "75%            10.000000  \n",
       "max            10.000000  "
      ]
     },
     "metadata": {},
     "output_type": "display_data"
    },
    {
     "data": {
      "text/html": [
       "<div>\n",
       "<style scoped>\n",
       "    .dataframe tbody tr th:only-of-type {\n",
       "        vertical-align: middle;\n",
       "    }\n",
       "\n",
       "    .dataframe tbody tr th {\n",
       "        vertical-align: top;\n",
       "    }\n",
       "\n",
       "    .dataframe thead th {\n",
       "        text-align: right;\n",
       "    }\n",
       "</style>\n",
       "<table border=\"1\" class=\"dataframe\">\n",
       "  <thead>\n",
       "    <tr style=\"text-align: right;\">\n",
       "      <th></th>\n",
       "      <th>screen_entertainment_hours</th>\n",
       "      <th>screen_productivity_hours</th>\n",
       "      <th>social_activity</th>\n",
       "      <th>screen_time</th>\n",
       "      <th>motivation_level</th>\n",
       "    </tr>\n",
       "  </thead>\n",
       "  <tbody>\n",
       "    <tr>\n",
       "      <th>mean</th>\n",
       "      <td>4.499120</td>\n",
       "      <td>5.173909</td>\n",
       "      <td>2.500225</td>\n",
       "      <td>9.673029</td>\n",
       "      <td>5.488525</td>\n",
       "    </tr>\n",
       "    <tr>\n",
       "      <th>std</th>\n",
       "      <td>1.845145</td>\n",
       "      <td>2.085923</td>\n",
       "      <td>1.704292</td>\n",
       "      <td>2.780869</td>\n",
       "      <td>2.867782</td>\n",
       "    </tr>\n",
       "    <tr>\n",
       "      <th>min</th>\n",
       "      <td>0.000000</td>\n",
       "      <td>0.000000</td>\n",
       "      <td>0.000000</td>\n",
       "      <td>0.300000</td>\n",
       "      <td>1.000000</td>\n",
       "    </tr>\n",
       "    <tr>\n",
       "      <th>25%</th>\n",
       "      <td>3.200000</td>\n",
       "      <td>3.700000</td>\n",
       "      <td>1.000000</td>\n",
       "      <td>7.800000</td>\n",
       "      <td>3.000000</td>\n",
       "    </tr>\n",
       "    <tr>\n",
       "      <th>50%</th>\n",
       "      <td>4.500000</td>\n",
       "      <td>5.200000</td>\n",
       "      <td>2.000000</td>\n",
       "      <td>9.700000</td>\n",
       "      <td>5.000000</td>\n",
       "    </tr>\n",
       "    <tr>\n",
       "      <th>75%</th>\n",
       "      <td>5.800000</td>\n",
       "      <td>6.600000</td>\n",
       "      <td>4.000000</td>\n",
       "      <td>11.600000</td>\n",
       "      <td>8.000000</td>\n",
       "    </tr>\n",
       "    <tr>\n",
       "      <th>max</th>\n",
       "      <td>9.000000</td>\n",
       "      <td>13.800000</td>\n",
       "      <td>5.000000</td>\n",
       "      <td>21.000000</td>\n",
       "      <td>10.000000</td>\n",
       "    </tr>\n",
       "  </tbody>\n",
       "</table>\n",
       "</div>"
      ],
      "text/plain": [
       "      screen_entertainment_hours  screen_productivity_hours  social_activity  \\\n",
       "mean                    4.499120                   5.173909         2.500225   \n",
       "std                     1.845145                   2.085923         1.704292   \n",
       "min                     0.000000                   0.000000         0.000000   \n",
       "25%                     3.200000                   3.700000         1.000000   \n",
       "50%                     4.500000                   5.200000         2.000000   \n",
       "75%                     5.800000                   6.600000         4.000000   \n",
       "max                     9.000000                  13.800000         5.000000   \n",
       "\n",
       "      screen_time  motivation_level  \n",
       "mean     9.673029          5.488525  \n",
       "std      2.780869          2.867782  \n",
       "min      0.300000          1.000000  \n",
       "25%      7.800000          3.000000  \n",
       "50%      9.700000          5.000000  \n",
       "75%     11.600000          8.000000  \n",
       "max     21.000000         10.000000  "
      ]
     },
     "metadata": {},
     "output_type": "display_data"
    },
    {
     "data": {
      "text/html": [
       "<div>\n",
       "<style scoped>\n",
       "    .dataframe tbody tr th:only-of-type {\n",
       "        vertical-align: middle;\n",
       "    }\n",
       "\n",
       "    .dataframe tbody tr th {\n",
       "        vertical-align: top;\n",
       "    }\n",
       "\n",
       "    .dataframe thead th {\n",
       "        text-align: right;\n",
       "    }\n",
       "</style>\n",
       "<table border=\"1\" class=\"dataframe\">\n",
       "  <thead>\n",
       "    <tr style=\"text-align: right;\">\n",
       "      <th></th>\n",
       "      <th>time_management_score</th>\n",
       "      <th>exam_score</th>\n",
       "    </tr>\n",
       "  </thead>\n",
       "  <tbody>\n",
       "    <tr>\n",
       "      <th>mean</th>\n",
       "      <td>5.499132</td>\n",
       "      <td>89.141350</td>\n",
       "    </tr>\n",
       "    <tr>\n",
       "      <th>std</th>\n",
       "      <td>2.603534</td>\n",
       "      <td>11.591497</td>\n",
       "    </tr>\n",
       "    <tr>\n",
       "      <th>min</th>\n",
       "      <td>1.000000</td>\n",
       "      <td>36.000000</td>\n",
       "    </tr>\n",
       "    <tr>\n",
       "      <th>25%</th>\n",
       "      <td>3.200000</td>\n",
       "      <td>82.000000</td>\n",
       "    </tr>\n",
       "    <tr>\n",
       "      <th>50%</th>\n",
       "      <td>5.500000</td>\n",
       "      <td>93.000000</td>\n",
       "    </tr>\n",
       "    <tr>\n",
       "      <th>75%</th>\n",
       "      <td>7.800000</td>\n",
       "      <td>100.000000</td>\n",
       "    </tr>\n",
       "    <tr>\n",
       "      <th>max</th>\n",
       "      <td>10.000000</td>\n",
       "      <td>100.000000</td>\n",
       "    </tr>\n",
       "  </tbody>\n",
       "</table>\n",
       "</div>"
      ],
      "text/plain": [
       "      time_management_score  exam_score\n",
       "mean               5.499132   89.141350\n",
       "std                2.603534   11.591497\n",
       "min                1.000000   36.000000\n",
       "25%                3.200000   82.000000\n",
       "50%                5.500000   93.000000\n",
       "75%                7.800000  100.000000\n",
       "max               10.000000  100.000000"
      ]
     },
     "metadata": {},
     "output_type": "display_data"
    }
   ],
   "source": [
    "studentDescribed = students.describe()\n",
    "\n",
    "rows_to_drop = ['count']\n",
    "filtered_studentDescribed = studentDescribed.drop(index=rows_to_drop)\n",
    "\n",
    "filtered_studentDescribed = filtered_studentDescribed.drop(columns=[\"student_id\"])\n",
    "\n",
    "segment_size = 5 \n",
    "\n",
    "for start in range(0, len(filtered_studentDescribed.columns), segment_size):\n",
    "    stop = start + segment_size\n",
    "    display(filtered_studentDescribed.iloc[:, start:stop])"
   ]
  },
  {
   "cell_type": "markdown",
   "id": "dfb7f554",
   "metadata": {},
   "source": [
    "L'analisi descrittiva del dataset degli studenti rivela diverse tendenze e aspetti che meritano attenzione, fornendo un quadro approfondito delle caratteristiche accademiche, dello stile di vita e del benessere dei soggetti in esame:\n",
    "\n",
    "**Performance Accademica e Impegno**\n",
    "\n",
    "*   **Punteggio d'Esame (`exam_score`):** Con una media di **89.14** e un massimo di 100, la maggior parte degli studenti dimostra un rendimento molto elevato, imoltre una **Media Voti Precedente (`previous_gpa`)** di **3.60** e un massimo di 4.00 (il massimo raggiungibile) evidenziano un forte rendimento accademico passato della popolazione studentesca, stabilendo un'ottima base per la previsione.\n",
    "*   **Ore di Studio al Giorno (`study_hours_per_day`):** La media è di **4.17** ore, indicando un impegno moderato per la maggior parte. Tuttavia, la presenza di un **massimo di 12.00 ore** suggerisce la presenza di *outlier* con un'enfasi estremamente elevata sulla preparazione accademica, il che potrebbe non sempre correlare linearmente con il successo o il benessere.\n",
    "*   **Percentuale di Frequenza (`attendance_percentage`):** La media del **69.97%** con un minimo del **40.00%** e un'alta deviazione standard (17.33) rivela una discreta variabilità nella partecipazione alle lezioni, un fattore che può avere un impatto diretto sulla performance.\n",
    "*   **Semestre (`semester`):** La media di **4.5** posiziona la maggior parte degli studenti a metà del loro percorso accademico, fornendo un contesto temporale utile per l'analisi.\n",
    "\n",
    "**Benessere, Salute Mentale e Stile di Vita**\n",
    "\n",
    "*   **Ore di Sonno (`sleep_hours`):** La media di **7.02 ore** è in linea con le raccomandazioni generali per l'età. Tuttavia, il dato più preoccupante è il **minimo di 4.00 ore**, che indica che una parte degli studenti soffre di grave privazione del sonno, con potenziali ripercussioni negative sulla salute mentale e sul rendimento.\n",
    "*   **Frequenza Esercizio Fisico (`exercise_frequency`):** Una media di **3.52** volte a settimana suggerisce un impegno fisico regolare ma moderato. Il **minimo di 0** segnala la totale assenza di attività fisica per alcuni studenti, un fattore da monitorare per il benessere generale.\n",
    "*   **Salute Mentale e Livello di Stress (`mental_health_rating`, `stress_level`):** La salute mentale media è valutata a **6.80 su 10**, mentre il livello di stress è mediamente **5.01 su 10**. Questo equilibrio suggerisce che, pur affrontando lo stress, gli studenti mantengono una salute mentale relativamente positiva.\n",
    "*   **Punteggio Ansia da Esame (`exam_anxiety_score`):** Nonostante il livello di stress generale moderato, l'ansia specifica per gli esami è **significativamente elevata (media 8.51)**, con un 75% degli studenti che riporta un punteggio di 10.00. Questo evidenzia gli esami come una fonte predominante e intensa di pressione psicologica, che potrebbe impattare le performance.\n",
    "\n",
    "**Abitudini Digitali e Sociali**\n",
    "\n",
    "*   **Tempo Schermo (Intrattenimento vs. Produttività):** Gli studenti bilanciano il tempo schermo tra attività di intrattenimento (media **4.50 ore**) e produttive (media **5.17 ore**). Questo suggerisce una gestione consapevole dell'uso della tecnologia, fondamentale per la riuscita accademica.\n",
    "*   **Attività Sociale (`social_activity`):** Con una media di **2.50 eventi sociali settimanali**, l'interazione sociale appare moderata. Sebbene questo non sia necessariamente negativo, una bassa attività sociale per alcuni studenti (minimo di 0) potrebbe essere un fattore da considerare nel contesto del benessere generale e nel rendimento sul lungo periodo.\n",
    "\n",
    "**Competenze Trasversali e Supporto**\n",
    "\n",
    "*   **Livello di Motivazione (`motivation_level`):** La motivazione media si attesta a **5.49**, indicando che circa metà degli studenti potrebbe mancare di una forte guida o interesse nei loro studi. L'ampia variabilità (std 2.87, min 1) suggerisce un gruppo a rischio di disengagement accademico.\n",
    "*   **Punteggio Gestione del Tempo (`time_management_score`):** Una media di **5.50** suggerisce che le capacità di gestione del tempo sono moderate, con ampi margini di miglioramento per molti studenti. Questo è un fattore cruciale che potrebbe essere correlato sia allo stress che alle performance.\n"
   ]
  },
  {
   "cell_type": "markdown",
   "id": "433f4e88",
   "metadata": {},
   "source": [
    "### Preparazione del modello\n",
    "In questa sezione, prepareremo i dati per l'allenamento di un modello di machine learning. Seguiremo i seguenti passi:\n",
    "\n",
    "1. **Gestione delle variabili categoriche**: Convertiremo le colonne categoriche in un formato numerico utilizzando tecniche come One-Hot Encoding.\n",
    "2. **Selezione delle feature**: Identificheremo le colonne più rilevanti per predire il punteggio d'esame.\n",
    "3. **Suddivisione dei dati**: Divideremo il dataset in set di addestramento e test.\n",
    "4. **Standardizzazione dei dati numerici**: Trasformeremo i dati numerici per migliorare le performance del modello."
   ]
  },
  {
   "cell_type": "markdown",
   "id": "67993fe8",
   "metadata": {},
   "source": [
    "Importiamo le librerie necessarie per poter trasformare i dati che sono binari, ordinali e nominali ed anche per poter suddividere quelli che sono i dati utilizzati per il training e per la validation."
   ]
  },
  {
   "cell_type": "code",
   "execution_count": 31,
   "id": "271adeac",
   "metadata": {},
   "outputs": [],
   "source": [
    "from sklearn.model_selection import train_test_split\n",
    "from sklearn.preprocessing import OrdinalEncoder, StandardScaler\n",
    "from sklearn.compose import ColumnTransformer"
   ]
  },
  {
   "cell_type": "code",
   "execution_count": 32,
   "id": "3c94e519",
   "metadata": {},
   "outputs": [],
   "source": [
    "binary_cols   = ['access_to_tutoring', 'part_time_job', 'dropout_risk', 'extracurricular_participation']\n",
    "ordinal_cols  = ['parental_support_level', 'family_income_range',\n",
    "                 'parental_education_level', 'diet_quality', 'internet_quality']\n",
    "nominal_cols  = ['gender', 'major', 'learning_style', 'study_environment']\n",
    "numerical_cols = students.select_dtypes(include=[np.number]) \\\n",
    "                         .columns.drop(['student_id','exam_score']) \\\n",
    "                         .tolist()"
   ]
  },
  {
   "cell_type": "markdown",
   "id": "8c12bde1",
   "metadata": {},
   "source": [
    "Definiamo le specifiche categorie per ciascun tipo di dato, così da definirgli dei valori ben precisi."
   ]
  },
  {
   "cell_type": "code",
   "execution_count": null,
   "id": "914ac721",
   "metadata": {},
   "outputs": [],
   "source": [
    "binary_categories = [['No','Yes']] * len(binary_cols)\n",
    "\n",
    "ord_categories = [\n",
    "    list(map(str, range(1, 11))),\n",
    "    ['Low', 'Medium', 'High'],\n",
    "    ['High School','Some College','Bachelor','Master','PhD'],\n",
    "    ['Poor','Fair','Good'],\n",
    "    ['Low','Medium','High']\n",
    "]\n",
    "\n",
    "nominal_categories = [\n",
    "    sorted(students[col].cat.categories.tolist())\n",
    "    for col in nominal_cols\n",
    "]"
   ]
  },
  {
   "cell_type": "markdown",
   "id": "cfae0f65",
   "metadata": {},
   "source": [
    "Creiamo ora gli encoder per poter trasformare, infine, le features non numeriche in numeriche tramite la logica descritta sopra."
   ]
  },
  {
   "cell_type": "code",
   "execution_count": 34,
   "id": "62fe05a5",
   "metadata": {},
   "outputs": [],
   "source": [
    "binary_encoder  = OrdinalEncoder(categories=binary_categories)\n",
    "ordinal_encoder = OrdinalEncoder(categories=ord_categories)\n",
    "nominal_encoder = OrdinalEncoder(categories=nominal_categories)\n",
    "scaler          = StandardScaler()\n",
    "\n",
    "preprocessor = ColumnTransformer(transformers=[\n",
    "    ('bin', binary_encoder,   binary_cols),\n",
    "    ('ord', ordinal_encoder,  ordinal_cols),\n",
    "    ('nom', nominal_encoder,  nominal_cols),\n",
    "    ('num', scaler,           numerical_cols),\n",
    "], remainder='drop')"
   ]
  },
  {
   "cell_type": "markdown",
   "id": "cc4848b6",
   "metadata": {},
   "source": [
    "#### Selezione delle feature\n",
    "Per predire il punteggio d'esame (`exam_score`), selezioneremo le colonne più rilevanti. Escluderemo colonne come `student_id` che non hanno valore predittivo."
   ]
  },
  {
   "cell_type": "code",
   "execution_count": 35,
   "id": "04630ef6",
   "metadata": {},
   "outputs": [],
   "source": [
    "X = students.drop(columns=['student_id','exam_score'])\n",
    "y = students['exam_score']"
   ]
  },
  {
   "cell_type": "markdown",
   "id": "8354b0bc",
   "metadata": {},
   "source": [
    "#### Suddivisione dei dati\n",
    "Divideremo i dati in un set di addestramento (70%) e un set di test (30%) per valutare le performance del modello."
   ]
  },
  {
   "cell_type": "code",
   "execution_count": 36,
   "id": "6519e567",
   "metadata": {},
   "outputs": [],
   "source": [
    "X_train, X_test, y_train, y_test = train_test_split(\n",
    "    X, y, test_size=0.3, random_state=42\n",
    ")"
   ]
  },
  {
   "cell_type": "markdown",
   "id": "f2dcdd86",
   "metadata": {},
   "source": [
    "#### Standardizzazione dei dati numerici\n",
    "Standardizzeremo le feature numeriche per garantire che tutte abbiano media zero e varianza unitaria. Questo è particolarmente utile per algoritmi sensibili alle scale delle variabili."
   ]
  },
  {
   "cell_type": "code",
   "execution_count": null,
   "id": "33f82ca5",
   "metadata": {},
   "outputs": [
    {
     "name": "stdout",
     "output_type": "stream",
     "text": [
      "Dimensioni del set di addestramento: (56000, 29) (56000,)\n",
      "Dimensioni del set di test: (24000, 29) (24000,)\n",
      "Prime 5 righe del train preprocessato:\n"
     ]
    },
    {
     "data": {
      "text/html": [
       "<div>\n",
       "<style scoped>\n",
       "    .dataframe tbody tr th:only-of-type {\n",
       "        vertical-align: middle;\n",
       "    }\n",
       "\n",
       "    .dataframe tbody tr th {\n",
       "        vertical-align: top;\n",
       "    }\n",
       "\n",
       "    .dataframe thead th {\n",
       "        text-align: right;\n",
       "    }\n",
       "</style>\n",
       "<table border=\"1\" class=\"dataframe\">\n",
       "  <thead>\n",
       "    <tr style=\"text-align: right;\">\n",
       "      <th></th>\n",
       "      <th>access_to_tutoring</th>\n",
       "      <th>part_time_job</th>\n",
       "      <th>dropout_risk</th>\n",
       "      <th>extracurricular_participation</th>\n",
       "      <th>parental_support_level</th>\n",
       "      <th>family_income_range</th>\n",
       "      <th>parental_education_level</th>\n",
       "      <th>diet_quality</th>\n",
       "      <th>internet_quality</th>\n",
       "      <th>gender</th>\n",
       "      <th>...</th>\n",
       "      <th>exercise_frequency</th>\n",
       "      <th>mental_health_rating</th>\n",
       "      <th>stress_level</th>\n",
       "      <th>exam_anxiety_score</th>\n",
       "      <th>screen_entertainment_hours</th>\n",
       "      <th>screen_productivity_hours</th>\n",
       "      <th>social_activity</th>\n",
       "      <th>screen_time</th>\n",
       "      <th>motivation_level</th>\n",
       "      <th>time_management_score</th>\n",
       "    </tr>\n",
       "  </thead>\n",
       "  <tbody>\n",
       "    <tr>\n",
       "      <th>52511</th>\n",
       "      <td>0.0</td>\n",
       "      <td>1.0</td>\n",
       "      <td>0.0</td>\n",
       "      <td>1.0</td>\n",
       "      <td>4.0</td>\n",
       "      <td>0.0</td>\n",
       "      <td>0.0</td>\n",
       "      <td>0.0</td>\n",
       "      <td>2.0</td>\n",
       "      <td>1.0</td>\n",
       "      <td>...</td>\n",
       "      <td>0.209719</td>\n",
       "      <td>-2.192687</td>\n",
       "      <td>1.117051</td>\n",
       "      <td>0.831727</td>\n",
       "      <td>-0.757774</td>\n",
       "      <td>-0.276456</td>\n",
       "      <td>0.294844</td>\n",
       "      <td>-0.710089</td>\n",
       "      <td>-0.521934</td>\n",
       "      <td>-0.534490</td>\n",
       "    </tr>\n",
       "    <tr>\n",
       "      <th>36485</th>\n",
       "      <td>0.0</td>\n",
       "      <td>0.0</td>\n",
       "      <td>0.0</td>\n",
       "      <td>0.0</td>\n",
       "      <td>8.0</td>\n",
       "      <td>0.0</td>\n",
       "      <td>3.0</td>\n",
       "      <td>2.0</td>\n",
       "      <td>2.0</td>\n",
       "      <td>0.0</td>\n",
       "      <td>...</td>\n",
       "      <td>-0.226692</td>\n",
       "      <td>-0.314576</td>\n",
       "      <td>-0.263855</td>\n",
       "      <td>-0.835319</td>\n",
       "      <td>0.436450</td>\n",
       "      <td>1.450731</td>\n",
       "      <td>-0.880335</td>\n",
       "      <td>1.378203</td>\n",
       "      <td>0.872612</td>\n",
       "      <td>-0.073458</td>\n",
       "    </tr>\n",
       "    <tr>\n",
       "      <th>48982</th>\n",
       "      <td>0.0</td>\n",
       "      <td>0.0</td>\n",
       "      <td>0.0</td>\n",
       "      <td>0.0</td>\n",
       "      <td>7.0</td>\n",
       "      <td>2.0</td>\n",
       "      <td>1.0</td>\n",
       "      <td>2.0</td>\n",
       "      <td>2.0</td>\n",
       "      <td>1.0</td>\n",
       "      <td>...</td>\n",
       "      <td>-0.663104</td>\n",
       "      <td>0.467970</td>\n",
       "      <td>0.349881</td>\n",
       "      <td>0.831727</td>\n",
       "      <td>1.196411</td>\n",
       "      <td>1.210844</td>\n",
       "      <td>1.470024</td>\n",
       "      <td>1.702248</td>\n",
       "      <td>-0.870570</td>\n",
       "      <td>0.733349</td>\n",
       "    </tr>\n",
       "    <tr>\n",
       "      <th>31737</th>\n",
       "      <td>1.0</td>\n",
       "      <td>0.0</td>\n",
       "      <td>0.0</td>\n",
       "      <td>0.0</td>\n",
       "      <td>9.0</td>\n",
       "      <td>2.0</td>\n",
       "      <td>1.0</td>\n",
       "      <td>1.0</td>\n",
       "      <td>1.0</td>\n",
       "      <td>1.0</td>\n",
       "      <td>...</td>\n",
       "      <td>0.646130</td>\n",
       "      <td>0.154952</td>\n",
       "      <td>-1.235605</td>\n",
       "      <td>0.276045</td>\n",
       "      <td>-0.377794</td>\n",
       "      <td>1.306799</td>\n",
       "      <td>1.470024</td>\n",
       "      <td>0.730112</td>\n",
       "      <td>0.175339</td>\n",
       "      <td>0.502833</td>\n",
       "    </tr>\n",
       "    <tr>\n",
       "      <th>16731</th>\n",
       "      <td>1.0</td>\n",
       "      <td>0.0</td>\n",
       "      <td>0.0</td>\n",
       "      <td>1.0</td>\n",
       "      <td>9.0</td>\n",
       "      <td>2.0</td>\n",
       "      <td>0.0</td>\n",
       "      <td>1.0</td>\n",
       "      <td>2.0</td>\n",
       "      <td>1.0</td>\n",
       "      <td>...</td>\n",
       "      <td>0.646130</td>\n",
       "      <td>-0.888443</td>\n",
       "      <td>1.321630</td>\n",
       "      <td>0.831727</td>\n",
       "      <td>0.545016</td>\n",
       "      <td>0.539160</td>\n",
       "      <td>0.294844</td>\n",
       "      <td>0.766117</td>\n",
       "      <td>-0.521934</td>\n",
       "      <td>1.578575</td>\n",
       "    </tr>\n",
       "  </tbody>\n",
       "</table>\n",
       "<p>5 rows × 29 columns</p>\n",
       "</div>"
      ],
      "text/plain": [
       "       access_to_tutoring  part_time_job  dropout_risk  \\\n",
       "52511                 0.0            1.0           0.0   \n",
       "36485                 0.0            0.0           0.0   \n",
       "48982                 0.0            0.0           0.0   \n",
       "31737                 1.0            0.0           0.0   \n",
       "16731                 1.0            0.0           0.0   \n",
       "\n",
       "       extracurricular_participation  parental_support_level  \\\n",
       "52511                            1.0                     4.0   \n",
       "36485                            0.0                     8.0   \n",
       "48982                            0.0                     7.0   \n",
       "31737                            0.0                     9.0   \n",
       "16731                            1.0                     9.0   \n",
       "\n",
       "       family_income_range  parental_education_level  diet_quality  \\\n",
       "52511                  0.0                       0.0           0.0   \n",
       "36485                  0.0                       3.0           2.0   \n",
       "48982                  2.0                       1.0           2.0   \n",
       "31737                  2.0                       1.0           1.0   \n",
       "16731                  2.0                       0.0           1.0   \n",
       "\n",
       "       internet_quality  gender  ...  exercise_frequency  \\\n",
       "52511               2.0     1.0  ...            0.209719   \n",
       "36485               2.0     0.0  ...           -0.226692   \n",
       "48982               2.0     1.0  ...           -0.663104   \n",
       "31737               1.0     1.0  ...            0.646130   \n",
       "16731               2.0     1.0  ...            0.646130   \n",
       "\n",
       "       mental_health_rating  stress_level  exam_anxiety_score  \\\n",
       "52511             -2.192687      1.117051            0.831727   \n",
       "36485             -0.314576     -0.263855           -0.835319   \n",
       "48982              0.467970      0.349881            0.831727   \n",
       "31737              0.154952     -1.235605            0.276045   \n",
       "16731             -0.888443      1.321630            0.831727   \n",
       "\n",
       "       screen_entertainment_hours  screen_productivity_hours  social_activity  \\\n",
       "52511                   -0.757774                  -0.276456         0.294844   \n",
       "36485                    0.436450                   1.450731        -0.880335   \n",
       "48982                    1.196411                   1.210844         1.470024   \n",
       "31737                   -0.377794                   1.306799         1.470024   \n",
       "16731                    0.545016                   0.539160         0.294844   \n",
       "\n",
       "       screen_time  motivation_level  time_management_score  \n",
       "52511    -0.710089         -0.521934              -0.534490  \n",
       "36485     1.378203          0.872612              -0.073458  \n",
       "48982     1.702248         -0.870570               0.733349  \n",
       "31737     0.730112          0.175339               0.502833  \n",
       "16731     0.766117         -0.521934               1.578575  \n",
       "\n",
       "[5 rows x 29 columns]"
      ]
     },
     "execution_count": 37,
     "metadata": {},
     "output_type": "execute_result"
    }
   ],
   "source": [
    "X_train_scaled = preprocessor.fit_transform(X_train)\n",
    "X_test_scaled = preprocessor.transform(X_test)\n",
    "\n",
    "print(\"Dimensioni del set di addestramento:\", X_train_scaled.shape, y_train.shape)\n",
    "print(\"Dimensioni del set di test:\", X_test_scaled.shape, y_test.shape)\n",
    "\n",
    "feature_names = (\n",
    "    binary_cols\n",
    "  + ordinal_cols\n",
    "  + nominal_cols\n",
    "  + numerical_cols\n",
    ")\n",
    "\n",
    "X_train_df = pd.DataFrame(\n",
    "    X_train_scaled,\n",
    "    columns=feature_names,\n",
    "    index=X_train.index\n",
    ")\n",
    "\n",
    "print(\"Prime 5 righe del train preprocessato:\")\n",
    "X_train_df.iloc[:5]"
   ]
  },
  {
   "attachments": {},
   "cell_type": "markdown",
   "id": "b583cba3",
   "metadata": {},
   "source": [
    "### Preparazione dei modelli\n"
   ]
  },
  {
   "attachments": {},
   "cell_type": "markdown",
   "id": "3ec2ecdb",
   "metadata": {},
   "source": [
    "In questa sezione, andremo a:\n",
    "\n",
    "1. Scegliere e importare alcuni algoritmi di regressione.\n",
    "2. Addestrare questi modelli sul X_train_scaled e y_train.\n",
    "3. Fare previsioni sul X_test_scaled.\n",
    "4. Valutare le performance dei modelli usando metriche di regressione appropriate.\n",
    "\n",
    "Per la valutazione, useremo metriche comuni per i problemi di regressione:\n",
    "\n",
    "- MAE (Mean Absolute Error): La media del valore assoluto degli errori. È facile da interpretare, indica l'errore medio in unità della variabile target.\n",
    "- MSE (Mean Squared Error): La media dei quadrati degli errori. Penalizza maggiormente gli errori grandi.\n",
    "- RMSE (Root Mean Squared Error): La radice quadrata del MSE. È nella stessa unità della variabile target ed è interpretabile.\n",
    "- R² (R-squared): Il coefficiente di determinazione. Indica la proporzione della varianza nella variabile dipendente che è prevedibile dalle variabili indipendenti. Un valore più vicino a 1 indica un modello che spiega bene la variabilità dei dati."
   ]
  },
  {
   "cell_type": "markdown",
   "id": "81c83029",
   "metadata": {},
   "source": [
    "Importiamo i modelli di nostro interessse"
   ]
  },
  {
   "cell_type": "code",
   "execution_count": null,
   "id": "c6ed64c5",
   "metadata": {},
   "outputs": [],
   "source": [
    "from sklearn.linear_model import LinearRegression, Ridge\n",
    "from sklearn.ensemble import RandomForestRegressor\n",
    "from sklearn.tree import DecisionTreeRegressor\n",
    "from xgboost import XGBRegressor"
   ]
  },
  {
   "cell_type": "markdown",
   "id": "19e167c8",
   "metadata": {},
   "source": [
    "Importimo i metodi per ricavare le nostre metriche di valutazione"
   ]
  },
  {
   "cell_type": "code",
   "execution_count": 40,
   "id": "598cc2d9",
   "metadata": {},
   "outputs": [],
   "source": [
    "from sklearn.metrics import mean_absolute_error, mean_squared_error, r2_score"
   ]
  },
  {
   "cell_type": "markdown",
   "id": "6351ff22",
   "metadata": {},
   "source": [
    "Importiamo infine le Pipeline"
   ]
  },
  {
   "cell_type": "code",
   "execution_count": null,
   "id": "9ef196a6",
   "metadata": {},
   "outputs": [],
   "source": [
    "from sklearn.pipeline import Pipeline\n",
    "from sklearn.model_selection import GridSearchCV\n",
    "\n",
    "import warnings\n",
    "warnings.filterwarnings(\"ignore\") "
   ]
  },
  {
   "attachments": {},
   "cell_type": "markdown",
   "id": "15482f9b",
   "metadata": {},
   "source": [
    "Procediamo con i seguenti quattro passaggi su diversi modelli per poterli paragonare:\n",
    "1. Creazione del modello\n",
    "2. Addestramento del modello\n",
    "3. Effettuare previsioni sul set di test\n",
    "4. Valutazione delle performance"
   ]
  },
  {
   "attachments": {},
   "cell_type": "markdown",
   "id": "f9d26520",
   "metadata": {},
   "source": [
    "Cominciamo con un modello semplice come la Regressione Lineare per avere un punto di riferimento."
   ]
  },
  {
   "cell_type": "code",
   "execution_count": 42,
   "id": "202e041a",
   "metadata": {},
   "outputs": [],
   "source": [
    "lin_reg = LinearRegression()\n",
    "\n",
    "lin_reg.fit(X_train_scaled, y_train)\n",
    "\n",
    "y_pred_lin_reg = lin_reg.predict(X_test_scaled)\n",
    "\n",
    "mae_lin_reg = mean_absolute_error(y_test, y_pred_lin_reg)\n",
    "mse_lin_reg = mean_squared_error(y_test, y_pred_lin_reg)\n",
    "rmse_lin_reg = np.sqrt(mse_lin_reg)\n",
    "r2_lin_reg = r2_score(y_test, y_pred_lin_reg)\n"
   ]
  },
  {
   "attachments": {},
   "cell_type": "markdown",
   "id": "a2e17cfc",
   "metadata": {},
   "source": [
    "Passiamo poi al modello Ridge, in questo modello appere un iperparametro 'alpha' che adremo ad identificare grazie all'utilizzo delle Pipeline."
   ]
  },
  {
   "attachments": {},
   "cell_type": "markdown",
   "id": "d6750e8c",
   "metadata": {},
   "source": [
    "1. Definiamo la Pipeline per Ridge, abbiamo già i dati scalati (X_train_scaled, X_test_scaled), quindi non includiamo StandardScaler nella pipeline qui.\n",
    "2. Definizione della griglia di iperparametri da esplorare per Ridge, nello specifico 'alpha'. Esploriamo una gamma logaritmica di valori per alpha.\n",
    "3. Eseguiamo la Grid Search sul training set.\n",
    "4. Stampiamo infine gli iperparametri ottimali per Ridge"
   ]
  },
  {
   "cell_type": "code",
   "execution_count": null,
   "id": "166c66a9",
   "metadata": {},
   "outputs": [
    {
     "name": "stdout",
     "output_type": "stream",
     "text": [
      "Fitting 5 folds for each of 6 candidates, totalling 30 fits\n",
      "\n",
      "Grid Search per Ridge completata.\n",
      "Migliori parametri trovati per Ridge: {'ridge__alpha': 0.001}\n",
      "Miglior MAE (negativo) trovato in cross-validation per Ridge: -3.20\n"
     ]
    }
   ],
   "source": [
    "pipeline_ridge = Pipeline([\n",
    "    ('ridge', Ridge(random_state=42))\n",
    "])\n",
    "\n",
    "param_grid_ridge = {\n",
    "    'ridge__alpha': np.logspace(-3, 2, 6) \n",
    "}\n",
    "\n",
    "grid_search_ridge = GridSearchCV(pipeline_ridge, param_grid_ridge, cv=5,\n",
    "                                 scoring='neg_mean_absolute_error', n_jobs=-1, verbose=2)\n",
    "\n",
    "grid_search_ridge.fit(X_train_scaled, y_train)\n",
    "\n",
    "print(\"\\nGrid Search per Ridge completata.\")\n",
    "print(f\"Migliori parametri trovati per Ridge: {grid_search_ridge.best_params_}\")\n",
    "print(f\"Miglior MAE (negativo) trovato in cross-validation per Ridge: {grid_search_ridge.best_score_:.2f}\")\n",
    "\n",
    "best_ridge_model = grid_search_ridge.best_estimator_\n",
    "y_pred_best_ridge = best_ridge_model.predict(X_test_scaled)"
   ]
  },
  {
   "attachments": {},
   "cell_type": "markdown",
   "id": "226b3a63",
   "metadata": {},
   "source": [
    "Ora che abbiamo ottenuto il valore ottimale per 'alpha' procedaimo all'utilizzo di Ridge.\n"
   ]
  },
  {
   "cell_type": "code",
   "execution_count": 44,
   "id": "88efc772",
   "metadata": {},
   "outputs": [],
   "source": [
    "ridge_reg = Ridge(alpha=0.001, random_state=42)\n",
    "\n",
    "ridge_reg.fit(X_train_scaled, y_train)\n",
    "\n",
    "y_pred_ridge_reg = ridge_reg.predict(X_test_scaled)\n",
    "\n",
    "mae_ridge_reg = mean_absolute_error(y_test, y_pred_ridge_reg)\n",
    "mse_ridge_reg = mean_squared_error(y_test, y_pred_ridge_reg)\n",
    "rmse_ridge_reg = np.sqrt(mse_ridge_reg)\n",
    "r2_ridge_reg = r2_score(y_test, y_pred_ridge_reg)"
   ]
  },
  {
   "attachments": {},
   "cell_type": "markdown",
   "id": "b3d11ffb",
   "metadata": {},
   "source": [
    "Ripetiamo il processo per un altro tipo di modello, ad esempio un Decision Tree. Inizialmente non andremo ad inserire iperparametri castom ma ci limiteromo asfruttare quelli di default per avere un termine di paragone futuro."
   ]
  },
  {
   "cell_type": "code",
   "execution_count": 45,
   "id": "ffb60b99",
   "metadata": {},
   "outputs": [],
   "source": [
    "dt_reg_default = DecisionTreeRegressor(random_state=42)\n",
    "dt_reg_default.fit(X_train_scaled, y_train)\n",
    "y_pred_dt_reg_default = dt_reg_default.predict(X_test_scaled)\n",
    "\n",
    "mae_dt_reg_default = mean_absolute_error(y_test, y_pred_dt_reg_default)\n",
    "mse_dt_reg_default = mean_squared_error(y_test, y_pred_dt_reg_default)\n",
    "rmse_dt_reg_default = np.sqrt(mse_dt_reg_default)\n",
    "r2_dt_reg_default = r2_score(y_test, y_pred_dt_reg_default)"
   ]
  },
  {
   "attachments": {},
   "cell_type": "markdown",
   "id": "aab54538",
   "metadata": {},
   "source": [
    "Notiamo risultsati abbastanza deludenti rispetto ai precedenti modelli"
   ]
  },
  {
   "attachments": {},
   "cell_type": "markdown",
   "id": "c3d74999",
   "metadata": {},
   "source": [
    "1. Definizione della Pipeline per DecisionTreeRegressor.\n",
    "2. Definizione della griglia di iperparametri da esplorare per DecisionTreeRegressor.\n",
    "3. Esecuzione della Grid Search sul training set."
   ]
  },
  {
   "cell_type": "code",
   "execution_count": 46,
   "id": "76ca2c55",
   "metadata": {},
   "outputs": [
    {
     "name": "stdout",
     "output_type": "stream",
     "text": [
      "Fitting 5 folds for each of 20 candidates, totalling 100 fits\n",
      "\n",
      "Grid Search per DecisionTreeRegressor completata.\n",
      "Migliori parametri trovati per DecisionTreeRegressor: {'dt_regressor__max_depth': 5, 'dt_regressor__min_samples_leaf': 1}\n",
      "Miglior MAE (negativo) trovato in cross-validation per DecisionTreeRegressor: -3.23\n"
     ]
    }
   ],
   "source": [
    "pipeline_dt = Pipeline([\n",
    "    ('dt_regressor', DecisionTreeRegressor(random_state=42)) \n",
    "])\n",
    "\n",
    "param_grid_dt = {\n",
    "    'dt_regressor__max_depth': [5, 10, 15, 20, None], \n",
    "    'dt_regressor__min_samples_leaf': [1, 5, 10, 20] \n",
    "}\n",
    "\n",
    "grid_search_dt = GridSearchCV(pipeline_dt, param_grid_dt, cv=5,\n",
    "                              scoring='neg_mean_absolute_error', n_jobs=-1, verbose=2)\n",
    "\n",
    "grid_search_dt.fit(X_train_scaled, y_train)\n",
    "\n",
    "print(\"\\nGrid Search per DecisionTreeRegressor completata.\")\n",
    "print(f\"Migliori parametri trovati per DecisionTreeRegressor: {grid_search_dt.best_params_}\")\n",
    "print(f\"Miglior MAE (negativo) trovato in cross-validation per DecisionTreeRegressor: {grid_search_dt.best_score_:.2f}\")\n"
   ]
  },
  {
   "cell_type": "code",
   "execution_count": 47,
   "id": "ac4bf1e4",
   "metadata": {},
   "outputs": [],
   "source": [
    "\n",
    "dt_reg_opt = DecisionTreeRegressor(\n",
    "    max_depth=5,           \n",
    "    min_samples_leaf=1,    \n",
    "    random_state=42        \n",
    ")\n",
    "\n",
    "dt_reg_opt.fit(X_train_scaled, y_train)\n",
    "\n",
    "y_pred_dt_reg_opt = dt_reg_opt.predict(X_test_scaled)\n",
    "\n",
    "mae_dt_reg_opt = mean_absolute_error(y_test, y_pred_dt_reg_opt)\n",
    "mse_dt_reg_opt = mean_squared_error(y_test, y_pred_dt_reg_opt)\n",
    "rmse_dt_reg_opt = np.sqrt(mse_dt_reg_opt)\n",
    "r2_dt_reg_opt = r2_score(y_test, y_pred_dt_reg_opt)"
   ]
  },
  {
   "attachments": {},
   "cell_type": "markdown",
   "id": "55b1cc97",
   "metadata": {},
   "source": [
    "Come per Decision Tree inizialmente non applichiamo iperparametri specifici ma ci limitiamo a sfruttare i default per avere un metro di misura efficace con il modello trinato con gli iperparametri ottimali. Tale modello non è più lineare ma è un modello basato su ensemble learning ideato sul concetto di Bagging (Bootstrap Aggregating).\n",
    " "
   ]
  },
  {
   "attachments": {},
   "cell_type": "markdown",
   "id": "efe22958",
   "metadata": {},
   "source": [
    "Inizialmente non scegliamo un numero di alberi (n_estimators) e una profondità massima (max_depth) ma ci affidiamo a quelli di default del modello per avere un termine di paragone con le prestazioni basate sugli iperparametri ottenuti dall'utilizzo della pipeline. La profondità massima non è esplicitamente settata dunque si utilizzarà il valore di default none che permette una profondità massima indefinita ovvero che cresce fino a che tutte le foglie non sono pure (cioè, contengono un solo valore target, o tutti gli elementi in quella foglia hanno lo stesso valore target). Settiamo inoltre n_jobs a -1 così da usare tutti i core della CPU."
   ]
  },
  {
   "cell_type": "code",
   "execution_count": 48,
   "id": "6289c00b",
   "metadata": {},
   "outputs": [],
   "source": [
    "rf_reg = RandomForestRegressor(random_state=42, n_jobs=-1)\n",
    "\n",
    "rf_reg.fit(X_train_scaled, y_train)\n",
    "\n",
    "y_pred_rf_reg = rf_reg.predict(X_test_scaled)\n",
    "\n",
    "mae_rf_reg = mean_absolute_error(y_test, y_pred_rf_reg)\n",
    "mse_rf_reg = mean_squared_error(y_test, y_pred_rf_reg)\n",
    "rmse_rf_reg = np.sqrt(mse_rf_reg)\n",
    "r2_rf_reg = r2_score(y_test, y_pred_rf_reg)"
   ]
  },
  {
   "attachments": {},
   "cell_type": "markdown",
   "id": "cbf2cbdb",
   "metadata": {},
   "source": [
    "Notiamo che l'incremento delle prestazioni in termini di risultati non è minimamante rilevante in relazione alle risorse computazionili allocate in più, si denota dunque una scelta quantomeno opportuna dei dei valori iniziali per numero di alberi (n_estimators) e profondità massima (max_depth)."
   ]
  },
  {
   "attachments": {},
   "cell_type": "markdown",
   "id": "3bbbd1a9",
   "metadata": {},
   "source": [
    "Proceduamo ora ad utilizzare le pipeline per ricavare gli iperparametri più opportuni con cui settare il nostro modello. "
   ]
  },
  {
   "attachments": {},
   "cell_type": "markdown",
   "id": "19e21677",
   "metadata": {},
   "source": [
    "1. Definiamo la pipeline (non includendo StandardScaler perché X_train_scaled è già scalato).\n",
    "2. Definiamo la griglia di iperparametri da esplorare per RandomForest.\n",
    "3. Restituzione dei migliori iperparametri per Random Forest.\n"
   ]
  },
  {
   "cell_type": "code",
   "execution_count": null,
   "id": "0fadb2b9",
   "metadata": {},
   "outputs": [
    {
     "data": {
      "text/plain": [
       "'pipeline_rf = Pipeline([\\n    (\\'regressor\\', RandomForestRegressor(random_state=42, n_jobs=-1))\\n])\\n\\nparam_grid_rf = {\\n    \\'regressor__n_estimators\\': [50, 100, 200], \\n    \\'regressor__max_depth\\': [10, 20, None], \\n    \\'regressor__min_samples_leaf\\': [1, 2, 4]\\n}\\n\\ngrid_search_rf = GridSearchCV(pipeline_rf, param_grid_rf, cv=5,\\n                              scoring=\\'neg_mean_absolute_error\\',\\n                              n_jobs=-1, verbose=2)\\n\\ngrid_search_rf.fit(X_train_scaled, y_train)\\n\\nprint(\"\\nGrid Search per RandomForest completata.\")\\nprint(f\"Migliori parametri trovati: {grid_search_rf.best_params_}\")\\nprint(f\"Miglior MAE (negativo) trovato in cross-validation: {grid_search_rf.best_score_:.2f}\")\\n\\n\\nbest_rf_model = grid_search_rf.best_estimator_\\ny_pred_best_rf = best_rf_model.predict(X_test_scaled)'"
      ]
     },
     "execution_count": 49,
     "metadata": {},
     "output_type": "execute_result"
    }
   ],
   "source": [
    "# ATTENZIONE: la seguente cella richiede molto tempo per essere eseguita dato che il dataset è molto grande\n",
    "\n",
    "pipeline_rf = Pipeline([\n",
    "    ('regressor', RandomForestRegressor(random_state=42, n_jobs=-1))\n",
    "])\n",
    "\n",
    "param_grid_rf = {\n",
    "    'regressor__n_estimators': [50, 100, 200], \n",
    "    'regressor__max_depth': [10, 20, None], \n",
    "    'regressor__min_samples_leaf': [1, 2, 4]\n",
    "}\n",
    "\n",
    "grid_search_rf = GridSearchCV(pipeline_rf, param_grid_rf, cv=5,\n",
    "                              scoring='neg_mean_absolute_error',\n",
    "                              n_jobs=-1, verbose=2)\n",
    "\n",
    "grid_search_rf.fit(X_train_scaled, y_train)\n",
    "\n",
    "print(\"\\nGrid Search per RandomForest completata.\")\n",
    "print(f\"Migliori parametri trovati: {grid_search_rf.best_params_}\")\n",
    "print(f\"Miglior MAE (negativo) trovato in cross-validation: {grid_search_rf.best_score_:.2f}\")\n",
    "\n",
    "\n",
    "best_rf_model = grid_search_rf.best_estimator_\n",
    "y_pred_best_rf = best_rf_model.predict(X_test_scaled)"
   ]
  },
  {
   "cell_type": "code",
   "execution_count": 50,
   "id": "4eab6413",
   "metadata": {},
   "outputs": [],
   "source": [
    "rf_reg_opt = RandomForestRegressor(n_estimators=200,    \n",
    "                               max_depth=10,         \n",
    "                               min_samples_leaf=4,   \n",
    "                               random_state=42,     \n",
    "                               n_jobs=-1)            \n",
    "\n",
    "rf_reg_opt.fit(X_train_scaled, y_train)\n",
    "\n",
    "\n",
    "y_pred_rf_reg_opt = rf_reg_opt.predict(X_test_scaled)\n",
    "\n",
    "\n",
    "mae_rf_reg_opt = mean_absolute_error(y_test, y_pred_rf_reg_opt)\n",
    "mse_rf_reg_opt = mean_squared_error(y_test, y_pred_rf_reg_opt)\n",
    "rmse_rf_reg_opt = np.sqrt(mse_rf_reg_opt)\n",
    "r2_rf_reg_opt = r2_score(y_test, y_pred_rf_reg_opt)"
   ]
  },
  {
   "attachments": {},
   "cell_type": "markdown",
   "id": "342269e8",
   "metadata": {},
   "source": [
    "Dopo l'utilizzo delle pipeline siamo riusciti ad identificare un set di iperparametri per Random Forest opportuno per i nostri scopi infatti massimizza le prestazioni mantenedo un utilizzo delle risorse computazionali decisamente basso."
   ]
  },
  {
   "cell_type": "code",
   "execution_count": 51,
   "id": "53a46610",
   "metadata": {},
   "outputs": [],
   "source": [
    "xgb_reg = XGBRegressor(random_state=42, n_jobs=-1)\n",
    "\n",
    "xgb_reg.fit(X_train_scaled, y_train)\n",
    "\n",
    "y_pred_xgb = xgb_reg.predict(X_test_scaled)\n",
    "\n",
    "mae_xgb = mean_absolute_error(y_test, y_pred_xgb)\n",
    "mse_xgb = mean_squared_error(y_test, y_pred_xgb)\n",
    "rmse_xgb = np.sqrt(mse_xgb)\n",
    "r2_xgb = r2_score(y_test, y_pred_xgb)\n"
   ]
  },
  {
   "cell_type": "code",
   "execution_count": 52,
   "id": "0b4743ab",
   "metadata": {},
   "outputs": [
    {
     "name": "stdout",
     "output_type": "stream",
     "text": [
      "Fitting 5 folds for each of 36 candidates, totalling 180 fits\n",
      "\n",
      "Grid Search per XGBoost completata.\n",
      "Migliori parametri trovati: {'xgb__learning_rate': 0.1, 'xgb__max_depth': 3, 'xgb__n_estimators': 100, 'xgb__subsample': 1.0}\n",
      "Miglior MAE (negativo) trovato in cross-validation: -3.22\n"
     ]
    }
   ],
   "source": [
    "pipeline_xgb = Pipeline([\n",
    "    ('xgb', XGBRegressor(random_state=42, n_jobs=-1, verbosity=0))\n",
    "])\n",
    "\n",
    "param_grid_xgb = {\n",
    "    'xgb__n_estimators': [100, 200],\n",
    "    'xgb__max_depth': [3, 6, 10],\n",
    "    'xgb__learning_rate': [0.01, 0.1, 0.3],\n",
    "    'xgb__subsample': [0.7, 1.0]\n",
    "}\n",
    "\n",
    "grid_search_xgb = GridSearchCV(\n",
    "    pipeline_xgb,\n",
    "    param_grid_xgb,\n",
    "    cv=5,\n",
    "    scoring='neg_mean_absolute_error',\n",
    "    n_jobs=-1,\n",
    "    verbose=2\n",
    ")\n",
    "\n",
    "grid_search_xgb.fit(X_train_scaled, y_train)\n",
    "\n",
    "print(\"\\nGrid Search per XGBoost completata.\")\n",
    "print(f\"Migliori parametri trovati: {grid_search_xgb.best_params_}\")\n",
    "print(f\"Miglior MAE (negativo) trovato in cross-validation: {grid_search_xgb.best_score_:.2f}\")\n"
   ]
  },
  {
   "cell_type": "code",
   "execution_count": 53,
   "id": "a398f922",
   "metadata": {},
   "outputs": [],
   "source": [
    "best_xgb_model = grid_search_xgb.best_estimator_\n",
    "\n",
    "y_pred_best_xgb = best_xgb_model.predict(X_test_scaled)\n",
    "\n",
    "mae_xgb_opt = mean_absolute_error(y_test, y_pred_best_xgb)\n",
    "mse_xgb_opt = mean_squared_error(y_test, y_pred_best_xgb)\n",
    "rmse_xgb_opt = np.sqrt(mse_xgb_opt)\n",
    "r2_xgb_opt = r2_score(y_test, y_pred_best_xgb)\n"
   ]
  },
  {
   "cell_type": "code",
   "execution_count": null,
   "id": "0f391666",
   "metadata": {},
   "outputs": [
    {
     "name": "stdout",
     "output_type": "stream",
     "text": [
      "--- Riepilogo Comparativo delle Prestazioni dei Modelli di Regressione ---\n",
      "\n",
      "\n",
      "                    Modello  MAE   MSE  RMSE  R-squared\n",
      "          Linear Regression 3.20 17.58  4.19       0.87\n",
      "           Ridge Regression 3.20 17.58  4.19       0.87\n",
      "    Decision Tree (Default) 4.47 36.20  6.02       0.73\n",
      "Decision Tree (Ottimizzato) 3.24 17.47  4.18       0.87\n",
      "    Random Forest (Default) 3.31 17.89  4.23       0.87\n",
      "Random Forest (Ottimizzato) 3.23 17.43  4.18       0.87\n",
      "          XGBoost (Default) 3.30 18.23  4.27       0.86\n",
      "      XGBoost (Ottimizzato) 3.23 17.33  4.16       0.87\n"
     ]
    }
   ],
   "source": [
    "data = {\n",
    "    'Modello': [\n",
    "        'Linear Regression',\n",
    "        'Ridge Regression',\n",
    "        'Decision Tree (Default)',\n",
    "        'Decision Tree (Ottimizzato)',\n",
    "        'Random Forest (Default)',\n",
    "        'Random Forest (Ottimizzato)',\n",
    "        'XGBoost (Default)',\n",
    "        'XGBoost (Ottimizzato)'\n",
    "    ],\n",
    "    'MAE': [\n",
    "        mae_lin_reg,\n",
    "        mae_ridge_reg,\n",
    "        mae_dt_reg_default,\n",
    "        mae_dt_reg_opt,\n",
    "        mae_rf_reg,\n",
    "        mae_rf_reg_opt,\n",
    "        mae_xgb,\n",
    "        mae_xgb_opt\n",
    "    ],\n",
    "    'MSE': [\n",
    "        mse_lin_reg,\n",
    "        mse_ridge_reg,\n",
    "        mse_dt_reg_default,\n",
    "        mse_dt_reg_opt,\n",
    "        mse_rf_reg,\n",
    "        mse_rf_reg_opt,\n",
    "        mse_xgb,\n",
    "        mse_xgb_opt\n",
    "    ],\n",
    "    'RMSE': [\n",
    "        rmse_lin_reg,\n",
    "        rmse_ridge_reg,\n",
    "        rmse_dt_reg_default,\n",
    "        rmse_dt_reg_opt,\n",
    "        rmse_rf_reg,\n",
    "        rmse_rf_reg_opt,\n",
    "        rmse_xgb,\n",
    "        rmse_xgb_opt\n",
    "    ],\n",
    "    'R-squared': [\n",
    "        r2_lin_reg,\n",
    "        r2_ridge_reg,\n",
    "        r2_dt_reg_default,\n",
    "        r2_dt_reg_opt,\n",
    "        r2_rf_reg,\n",
    "        r2_rf_reg_opt,\n",
    "        r2_xgb,\n",
    "        r2_xgb_opt\n",
    "    ]\n",
    "}\n",
    "\n",
    "df_results = pd.DataFrame(data)\n",
    "\n",
    "df_results = df_results.round(2)\n",
    "\n",
    "print(\"--- Riepilogo Comparativo delle Prestazioni dei Modelli di Regressione ---\")\n",
    "print(\"\\n\") \n",
    "\n",
    "print(df_results.to_string(index=False))"
   ]
  },
  {
   "cell_type": "markdown",
   "id": "5589b80d",
   "metadata": {},
   "source": [
    "\n",
    "Sulla base dei risultati ottenuti, è possibile elaborare un’analisi comparativa dettagliata dei vari modelli di regressione impiegati, con l’obiettivo di individuare il più adatto al problema in esame, ovvero la previsione della performance accademica sulla base delle abitudini degli studenti.\n",
    "\n",
    "### **1. Modelli Lineari: Linear Regression e Ridge Regression**\n",
    "\n",
    "Entrambi i modelli lineari presentano prestazioni praticamente identiche: un MAE (Mean Absolute Error) di 3.20, un MSE (Mean Squared Error) di 17.58, un RMSE (Root Mean Squared Error) di 4.19, e un R² pari a 0.87. Questo risultato indica che l’introduzione della penalizzazione L2 nel modello Ridge non ha apportato benefici significativi rispetto alla regressione lineare semplice.\n",
    "\n",
    "Questo suggerisce che i dati non soffrono di overfitting in modo critico e che la relazione tra le variabili indipendenti e la variabile target è ben rappresentata anche da un modello lineare semplice. I modelli lineari hanno inoltre il vantaggio dell’interpretabilità, rendendoli utili per comprendere l’impatto delle singole variabili predittive.\n",
    "\n",
    "### **2. Modelli ad Albero: Decision Tree**\n",
    "\n",
    "Il modello Decision Tree nella sua configurazione di default ha mostrato prestazioni sensibilmente inferiori rispetto agli altri modelli: il MAE è salito a 4.47 e l’R² è sceso a 0.73, indicando una minore capacità del modello di spiegare la variabilità dei dati.\n",
    "\n",
    "Tuttavia, dopo un processo di ottimizzazione degli iperparametri, le prestazioni del Decision Tree migliorano significativamente: il MAE scende a 3.24, il MSE a 17.47, l’RMSE a 4.18 e l’R² torna a 0.87, in linea con i modelli lineari. Questo conferma che il modello ad albero può essere competitivo, ma solo se correttamente calibrato.\n",
    "\n",
    "### **3. Modelli Ensemble: Random Forest**\n",
    "\n",
    "Il modello Random Forest, basato su un approccio ensemble di alberi, offre già buone prestazioni nella configurazione di default (MAE = 3.31, R² = 0.87). Dopo l’ottimizzazione, le metriche migliorano ulteriormente: il MAE scende a 3.23 e l’RMSE a 4.18, mantenendo un R² pari a 0.87.\n",
    "\n",
    "Questi risultati evidenziano che il Random Forest è un modello robusto, in grado di cogliere relazioni non lineari nei dati e di generalizzare bene anche con set di dati complessi o rumorosi. Rispetto al Decision Tree singolo, offre maggiore stabilità e accuratezza.\n",
    "\n",
    "### **4. Modelli Gradient Boosting: XGBoost**\n",
    "\n",
    "XGBoost, nella configurazione predefinita, presenta prestazioni leggermente inferiori rispetto agli altri modelli ensemble, con un MAE di 3.30 e un R² di 0.86. Tuttavia, a seguito dell’ottimizzazione, le sue prestazioni migliorano sensibilmente: il MAE raggiunge 3.23, il MSE scende a 17.33, l’RMSE a 4.16, e l’R² torna a 0.87.\n",
    "\n",
    "È interessante notare che, dopo l’ottimizzazione, XGBoost ottiene i **migliori risultati assoluti** in termini di MSE e RMSE tra tutti i modelli testati. Questo lo rende particolarmente competitivo e adatto a scenari in cui è cruciale minimizzare l’errore quadratico medio, ad esempio per penalizzare più severamente gli errori elevati.\n",
    "\n",
    "### **Conclusioni e Scelta del Modello**\n",
    "\n",
    "Tutti i modelli ottimizzati (Decision Tree, Random Forest e XGBoost) raggiungono un R² pari a 0.87, suggerendo che spiegano una quota simile della varianza nella variabile dipendente. Tuttavia, considerando le metriche di errore assoluto e quadratico, **XGBoost ottimizzato risulta leggermente superiore**, con il valore più basso di MSE (17.33) e di RMSE (4.16).\n",
    "\n",
    "Inoltre, i modelli ensemble, in particolare Random Forest e XGBoost, offrono maggiore flessibilità e capacità di cogliere relazioni non lineari, rendendoli più adatti a dataset eterogenei o con interazioni complesse tra le variabili predittive.\n",
    "\n",
    "**Pertanto, sulla base dei risultati ottenuti, il modello consigliato è XGBoost** con utilizzo di iperparametri individuati con l'utilizzo di pipeline, che offre il miglior compromesso tra accuratezza, generalizzazione e robustezza. Tuttavia, se la semplicità e l’interpretabilità sono fattori determinanti nel contesto applicativo, anche la regressione lineare rappresenta un’alternativa valida con prestazioni molto vicine.\n"
   ]
  },
  {
   "cell_type": "markdown",
   "id": "aa8bfa03",
   "metadata": {},
   "source": [
    "Procediamo dunque ad esportare il preprocessore e il modello per l'applicativo Flask, essendo che saranno 2 componenti fondamentali per la trasformazione dei dati e per la predizione finale."
   ]
  },
  {
   "cell_type": "code",
   "execution_count": null,
   "id": "c71f7aa8",
   "metadata": {},
   "outputs": [
    {
     "data": {
      "text/plain": [
       "['best_xgb_model.pkl']"
      ]
     },
     "execution_count": 55,
     "metadata": {},
     "output_type": "execute_result"
    }
   ],
   "source": [
    "\n",
    "import joblib\n",
    "\n",
    "\n",
    "joblib.dump(best_xgb_model, 'best_xgb_model.pkl')\n",
    "joblib.dump(preprocessor, 'preprocessor.pkl')"
   ]
  },
  {
   "cell_type": "markdown",
   "id": "7c5fde5d",
   "metadata": {},
   "source": [
    "## Interpretazione della Conoscenza Appresa dal Modello\n",
    "\n",
    "Andiamo ora ad interpretare quali sono le variabili più influenti per il nostro modello XGBoost con iperparametri ottimizzati. A differenza dei modelli lineari che utilizzano i coefficienti per indicare l'impatto e la direzione di una variabile, i modelli basati su alberi (come XGBoost e Random Forest) forniscono un'importanza delle feature (feature importance). Questo valore indica quanto una feature è stata utilizzata e ha contribuito a migliorare la previsione all'interno del modello, ma non indica direttamente la direzione ovvero non ci è dato sapere se un valore più alto della feature porta a un punteggio d'esame più alto o più basso, andremo ad estrapolare questa infrosmzione valutando il coinvolgimento vantaggioso o neno ai fini dell'apprendimento."
   ]
  },
  {
   "cell_type": "code",
   "execution_count": 58,
   "id": "02c0d420",
   "metadata": {},
   "outputs": [
    {
     "name": "stdout",
     "output_type": "stream",
     "text": [
      "--- Feature più Importanti ---\n"
     ]
    },
    {
     "data": {
      "text/html": [
       "<div>\n",
       "<style scoped>\n",
       "    .dataframe tbody tr th:only-of-type {\n",
       "        vertical-align: middle;\n",
       "    }\n",
       "\n",
       "    .dataframe tbody tr th {\n",
       "        vertical-align: top;\n",
       "    }\n",
       "\n",
       "    .dataframe thead th {\n",
       "        text-align: right;\n",
       "    }\n",
       "</style>\n",
       "<table border=\"1\" class=\"dataframe\">\n",
       "  <thead>\n",
       "    <tr style=\"text-align: right;\">\n",
       "      <th></th>\n",
       "      <th>Feature</th>\n",
       "      <th>Importance</th>\n",
       "    </tr>\n",
       "  </thead>\n",
       "  <tbody>\n",
       "    <tr>\n",
       "      <th>16</th>\n",
       "      <td>previous_gpa</td>\n",
       "      <td>0.977079</td>\n",
       "    </tr>\n",
       "    <tr>\n",
       "      <th>27</th>\n",
       "      <td>motivation_level</td>\n",
       "      <td>0.001341</td>\n",
       "    </tr>\n",
       "    <tr>\n",
       "      <th>21</th>\n",
       "      <td>stress_level</td>\n",
       "      <td>0.001274</td>\n",
       "    </tr>\n",
       "    <tr>\n",
       "      <th>19</th>\n",
       "      <td>exercise_frequency</td>\n",
       "      <td>0.001268</td>\n",
       "    </tr>\n",
       "    <tr>\n",
       "      <th>24</th>\n",
       "      <td>screen_productivity_hours</td>\n",
       "      <td>0.001243</td>\n",
       "    </tr>\n",
       "    <tr>\n",
       "      <th>20</th>\n",
       "      <td>mental_health_rating</td>\n",
       "      <td>0.001178</td>\n",
       "    </tr>\n",
       "    <tr>\n",
       "      <th>26</th>\n",
       "      <td>screen_time</td>\n",
       "      <td>0.001119</td>\n",
       "    </tr>\n",
       "    <tr>\n",
       "      <th>28</th>\n",
       "      <td>time_management_score</td>\n",
       "      <td>0.001068</td>\n",
       "    </tr>\n",
       "    <tr>\n",
       "      <th>14</th>\n",
       "      <td>study_hours_per_day</td>\n",
       "      <td>0.001055</td>\n",
       "    </tr>\n",
       "    <tr>\n",
       "      <th>18</th>\n",
       "      <td>sleep_hours</td>\n",
       "      <td>0.001044</td>\n",
       "    </tr>\n",
       "  </tbody>\n",
       "</table>\n",
       "</div>"
      ],
      "text/plain": [
       "                      Feature  Importance\n",
       "16               previous_gpa    0.977079\n",
       "27           motivation_level    0.001341\n",
       "21               stress_level    0.001274\n",
       "19         exercise_frequency    0.001268\n",
       "24  screen_productivity_hours    0.001243\n",
       "20       mental_health_rating    0.001178\n",
       "26                screen_time    0.001119\n",
       "28      time_management_score    0.001068\n",
       "14        study_hours_per_day    0.001055\n",
       "18                sleep_hours    0.001044"
      ]
     },
     "metadata": {},
     "output_type": "display_data"
    },
    {
     "name": "stdout",
     "output_type": "stream",
     "text": [
      "\n",
      "--- Feature meno Importanti ---\n"
     ]
    },
    {
     "data": {
      "text/html": [
       "<div>\n",
       "<style scoped>\n",
       "    .dataframe tbody tr th:only-of-type {\n",
       "        vertical-align: middle;\n",
       "    }\n",
       "\n",
       "    .dataframe tbody tr th {\n",
       "        vertical-align: top;\n",
       "    }\n",
       "\n",
       "    .dataframe thead th {\n",
       "        text-align: right;\n",
       "    }\n",
       "</style>\n",
       "<table border=\"1\" class=\"dataframe\">\n",
       "  <thead>\n",
       "    <tr style=\"text-align: right;\">\n",
       "      <th></th>\n",
       "      <th>Feature</th>\n",
       "      <th>Importance</th>\n",
       "    </tr>\n",
       "  </thead>\n",
       "  <tbody>\n",
       "    <tr>\n",
       "      <th>22</th>\n",
       "      <td>exam_anxiety_score</td>\n",
       "      <td>0.000641</td>\n",
       "    </tr>\n",
       "    <tr>\n",
       "      <th>0</th>\n",
       "      <td>access_to_tutoring</td>\n",
       "      <td>0.000619</td>\n",
       "    </tr>\n",
       "    <tr>\n",
       "      <th>5</th>\n",
       "      <td>family_income_range</td>\n",
       "      <td>0.000612</td>\n",
       "    </tr>\n",
       "    <tr>\n",
       "      <th>6</th>\n",
       "      <td>parental_education_level</td>\n",
       "      <td>0.000591</td>\n",
       "    </tr>\n",
       "    <tr>\n",
       "      <th>17</th>\n",
       "      <td>semester</td>\n",
       "      <td>0.000579</td>\n",
       "    </tr>\n",
       "    <tr>\n",
       "      <th>11</th>\n",
       "      <td>learning_style</td>\n",
       "      <td>0.000572</td>\n",
       "    </tr>\n",
       "    <tr>\n",
       "      <th>10</th>\n",
       "      <td>major</td>\n",
       "      <td>0.000421</td>\n",
       "    </tr>\n",
       "    <tr>\n",
       "      <th>7</th>\n",
       "      <td>diet_quality</td>\n",
       "      <td>0.000289</td>\n",
       "    </tr>\n",
       "    <tr>\n",
       "      <th>1</th>\n",
       "      <td>part_time_job</td>\n",
       "      <td>0.000000</td>\n",
       "    </tr>\n",
       "    <tr>\n",
       "      <th>2</th>\n",
       "      <td>dropout_risk</td>\n",
       "      <td>0.000000</td>\n",
       "    </tr>\n",
       "  </tbody>\n",
       "</table>\n",
       "</div>"
      ],
      "text/plain": [
       "                     Feature  Importance\n",
       "22        exam_anxiety_score    0.000641\n",
       "0         access_to_tutoring    0.000619\n",
       "5        family_income_range    0.000612\n",
       "6   parental_education_level    0.000591\n",
       "17                  semester    0.000579\n",
       "11            learning_style    0.000572\n",
       "10                     major    0.000421\n",
       "7               diet_quality    0.000289\n",
       "1              part_time_job    0.000000\n",
       "2               dropout_risk    0.000000"
      ]
     },
     "metadata": {},
     "output_type": "display_data"
    }
   ],
   "source": [
    "xgb_regressor = best_xgb_model.named_steps['xgb']\n",
    "feature_importances = xgb_regressor.feature_importances_\n",
    "\n",
    "importance_df = pd.DataFrame({\n",
    "    'Feature': feature_names,\n",
    "    'Importance': feature_importances\n",
    "})\n",
    "\n",
    "importance_df = importance_df.sort_values(by='Importance', ascending=False)\n",
    "\n",
    "print(\"--- Feature più Importanti ---\")\n",
    "display(importance_df.head(10))\n",
    "\n",
    "print(\"\\n--- Feature meno Importanti ---\")\n",
    "display(importance_df.tail(10))"
   ]
  },
  {
   "cell_type": "markdown",
   "id": "9aa736cb",
   "metadata": {},
   "source": [
    "### Analisi delle Feature più Importanti\n",
    "\n",
    "Analizzando le feature importances calcolate dal modello XGBoost, emerge un quadro chiaro di quali variabili contribuiscono maggiormente alla predizione del punteggio d'esame:\n",
    "\n",
    "*   **`previous_gpa` (Media Voti Precedente):** Con un'importanza sbalorditiva di **0.977**, la media voti precedente domina in modo schiacciante tutte le altre feature. Questo conferma pienamente la nostra intuizione iniziale e le osservazioni dall'analisi di correlazione: il rendimento accademico passato è, di gran lunga, il predittore più potente della performance futura. La quasi totalità della capacità predittiva del modello deriva da questa singola variabile, suggerendo che essa riassume una vasta gamma di fattori che influenzano la continuità del successo accademico.\n",
    "\n",
    "Le restanti feature, pur avendo importanze molto più basse rispetto a `previous_gpa` (nell'ordine di 0.001), rappresentano comunque i secondi predittori più significativi, fornendo un contributo marginale ma comunque rilevante per affinare la previsione. Tra le più rilevanti identifichiamo:\n",
    "\n",
    "\n",
    "*   **`motivation_level` (Livello di Motivazione):** Con un'importanza di 0.001341, la motivazione si posiziona come il secondo fattore più influente. Questo è coerente con la logica: uno studente motivato è più propenso a dedicare tempo allo studio, a gestire meglio lo stress e a perseverare.\n",
    "*   **`stress_level` (Livello di Stress):** Molto vicino alla motivazione (0.001274), il livello di stress è un'altra variabile chiave. Sebbene l'importanza non indichi la direzione, è plausibile che un eccessivo stress possa ostacolare le prestazioni.\n",
    "*   **`exercise_frequency` (Frequenza Esercizio Fisico):** Sorprendentemente, l'attività fisica (0.001268) emerge come un predittore più importante di quanto ci si potesse aspettare da un'analisi di correlazione semplice. Questo potrebbe indicare un beneficio indiretto dell'attività fisica sul benessere generale, sulla concentrazione e, di conseguenza, sul rendimento.\n",
    "\n",
    "### Analisi delle Feature meno Importanti\n",
    "\n",
    "Le feature con un'importanza molto bassa (tendente a zero) suggeriscono che il modello non le ha trovate particolarmente utili per distinguere tra i diversi punteggi d'esame.\n",
    "\n",
    "*   **`part_time_job` e `dropout_risk` (importanza 0.000000):** Queste due feature mostrano un'importanza praticamente nulla.\n",
    "    *   Per `part_time_job`, ciò potrebbe indicare che, nel contesto di questo dataset, avere un lavoro part-time non ha un impatto diretto e significativo sulla performance d'esame, oppure che il suo eventuale impatto negativo è già ben catturato da altre variabili più importanti come lo stress o le ore di studio disponibili.\n",
    "    *   Per `dropout_risk`, la sua importanza zero è un'osservazione interessante. Poiché questa variabile è stata definita come \"derivata da stress e motivazione\", è molto probabile che il modello, avendo già accesso diretto a `stress_level` e `motivation_level` (entrambe tra le feature più importanti), non tragga alcun valore aggiuntivo dall'utilizzo di `dropout_risk`. Il modello preferisce utilizzare le fonti primarie di informazione da cui `dropout_risk` è stato calcolato.\n",
    "*   **`exam_anxiety_score` (Punteggio Ansia da Esame):** Contrariamente a quanto ipotizzato inizialmente basandoci sulle correlazioni, l'ansia da esame mostra un'importanza sorprendentemente bassa (0.000641). Questo può essere dovuto a diversi fattori:\n",
    "    *   **Redundancy:** L'informazione sull'ansia potrebbe essere già ampiamente catturata da `stress_level` e `mental_health_rating`, rendendo `exam_anxiety_score` ridondante per il modello.\n",
    "    *   **Poca Variabilità Predittiva Rilevante:** Se gran parte degli studenti ha un'ansia da esame alta, questa variabile potrebbe non essere efficace nel differenziare tra studenti con performance diverse.\n",
    "\n",
    "### Conclusioni sull'Interpretazione del Modello\n",
    "\n",
    "L'analisi delle feature importances del modello XGBoost rivela che la **media voti precedente (`previous_gpa`) è il fattore determinante e quasi esclusivo** nella predizione della performance studentesca per questo dataset. Questo suggerisce che le performance accademiche tendono ad essere altamente coerenti nel tempo.\n",
    "\n",
    "Le altre variabili, pur essendo considerate dal modello, apportano un contributo molto minore. Questo non invalida la loro importanza nel mondo reale per il successo dello studente, ma indica che il loro impatto predittivo sul `exam_score` è secondario rispetto alla storia accademica pregressa. Le intuizioni derivate dall'EDA riguardo a fattori come lo stress, la motivazione, l'attività fisica e la gestione del tempo sono comunque supportate, in quanto queste variabili emergono come i principali predittori \"secondari\". L'analisi ha anche evidenziato come alcune variabili derivate o con poca varianza rilevante (`dropout_risk`, `exam_anxiety_score`) possano perdere di importanza quando il modello ha accesso a feature più basilari e discriminanti."
   ]
  }
 ],
 "metadata": {
  "kernelspec": {
   "display_name": "base",
   "language": "python",
   "name": "python3"
  },
  "language_info": {
   "codemirror_mode": {
    "name": "ipython",
    "version": 3
   },
   "file_extension": ".py",
   "mimetype": "text/x-python",
   "name": "python",
   "nbconvert_exporter": "python",
   "pygments_lexer": "ipython3",
   "version": "3.11.5"
  }
 },
 "nbformat": 4,
 "nbformat_minor": 5
}
